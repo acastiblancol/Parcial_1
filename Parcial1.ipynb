{
  "nbformat": 4,
  "nbformat_minor": 0,
  "metadata": {
    "colab": {
      "provenance": [],
      "authorship_tag": "ABX9TyMG1ZR5P4cX5NaKZvbA4oLd",
      "include_colab_link": true
    },
    "kernelspec": {
      "name": "python3",
      "display_name": "Python 3"
    },
    "language_info": {
      "name": "python"
    }
  },
  "cells": [
    {
      "cell_type": "markdown",
      "metadata": {
        "id": "view-in-github",
        "colab_type": "text"
      },
      "source": [
        "<a href=\"https://colab.research.google.com/github/acastiblancol/Parcial_1/blob/main/Parcial1.ipynb\" target=\"_parent\"><img src=\"https://colab.research.google.com/assets/colab-badge.svg\" alt=\"Open In Colab\"/></a>"
      ]
    },
    {
      "cell_type": "markdown",
      "source": [
        "# Se realiza la importación de los datos suminsitrados para el Parcial"
      ],
      "metadata": {
        "id": "fO8GR37BgD9C"
      }
    },
    {
      "cell_type": "code",
      "execution_count": 66,
      "metadata": {
        "colab": {
          "base_uri": "https://localhost:8080/"
        },
        "collapsed": true,
        "id": "K4Ajou6jf-oB",
        "outputId": "77874462-586c-4dc9-e01d-c7d051f9b11b"
      },
      "outputs": [
        {
          "output_type": "stream",
          "name": "stdout",
          "text": [
            "           id                                                        title condition                 thumbnail_id catalog_product_id listing_type_id                                             sanitized_title                                                                                                 permalink buying_mode site_id category_id      domain_id                                                      thumbnail currency_id  order_backend     price  original_price                                                                                                                                                                                                                                                                                                                                                                                                                                                                                                                                                                                                                                                                                                                                        sale_price  available_quantity  official_store_id  use_thumbnail_id  accepts_mercadopago                                                                                                                                                                                                          shipping                        stop_time                                                seller                                                                                                                                                                                                                                                                                                                                                                                                                                                                                                                                                                                                                                                                                                                                                                                                                                                                                                                                                                                                                                                                                                                                                                                                                                                                                                                                                                                                                                                                                                                                                                                                                                                                                                                                                                                                                                                                                                                                                                                                                                                                                                                                                                                                                                                                                                                                                                                                                                                                                                                                                                                                                                                                                                                                                                                                                                                                                                                                                                                                                                                                                                                                                                                                                                                                                                                                                                                                                                                                                                                                                                                                                                                                                                                                                                                                                                                                                                                                                                                                                                                                                                                                                                                                                                                                                                                                                                                                               attributes                                                                                                                                         installments  winner_item_id  catalog_listing  discounts promotions inventory_id differential_pricing official_store_name variation_filters variations_data\n",
            "MCO2429633128       Xiaomi Redmi Note 13 4g Dual Sim 256 Gb Negro 8 Gb Ram       new 909752-MLA75257662226_032024        MCO29751162    gold_special      xiaomi-redmi-note-13-4g-dual-sim-256-gb-negro-8-gb-ram      https://www.mercadolibre.com.co/xiaomi-redmi-note-13-4g-dual-sim-256-gb-negro-8-gb-ram/p/MCO29751162  buy_it_now     MCO     MCO1055 MCO-CELLPHONES http://http2.mlstatic.com/D_909752-MLA75257662226_032024-I.jpg         COP              1  618900.0        999900.0   {'price_id': '', 'amount': 618900, 'conditions': {'eligible': True, 'context_restrictions': ['channel_marketplace'], 'start_time': '2024-09-16T16:27:23Z', 'end_time': '2024-09-26T16:27:23Z'}, 'currency_id': 'COP', 'exchange_rate': None, 'payment_method_prices': [], 'payment_method_type': 'TMP', 'regular_amount': 999900, 'type': 'promotion', 'metadata': {'campaign_id': 'P-MCO14223040', 'order_item_price': 656034, 'promotion_type': 'marketplace_campaign', 'variation': '52059', 'campaign_discount_percentage': 38.1, 'campaign_end_date': '2024-09-26T16:27:23Z', 'discount_meli_amount': 37134, 'experiment_id': 'cm_med_uplift_P-MCO14223040', 'funding_mode': 'coupon', 'promotion_id': 'OFFER-MCO2429633128-10548489860'}}                  50                NaN              True                 True  {'store_pick_up': False, 'free_shipping': True, 'logistic_type': 'cross_docking', 'mode': 'me2', 'tags': ['fbm_in_process', 'mandatory_free_shipping'], 'benefits': None, 'promise': None, 'shipping_score': -1} 2044-06-30 18:22:13.885000+00:00           {'id': 1801699380, 'nickname': 'OFFERBUYS'}                                                                                                                                      [{'id': 'BRAND', 'name': 'Marca', 'value_id': '59387', 'value_name': 'Xiaomi', 'attribute_group_id': 'OTHERS', 'attribute_group_name': 'Otros', 'value_struct': None, 'values': [{'id': '59387', 'name': 'Xiaomi', 'struct': None, 'source': 1}], 'source': 1, 'value_type': 'string'}, {'id': 'COLOR', 'name': 'Color', 'value_id': '52049', 'value_name': 'Negro', 'attribute_group_id': 'OTHERS', 'attribute_group_name': 'Otros', 'value_struct': None, 'values': [{'id': '52049', 'name': 'Negro', 'struct': None, 'source': 1}], 'source': 1, 'value_type': 'string'}, {'id': 'DETAILED_MODEL', 'name': 'Modelo detallado', 'value_id': '13261884', 'value_name': '8 GB', 'attribute_group_id': 'OTHERS', 'attribute_group_name': 'Otros', 'value_struct': None, 'values': [{'id': '13261884', 'name': '8 GB', 'struct': None, 'source': 1}], 'source': 1, 'value_type': 'string'}, {'id': 'GPU_MODEL', 'name': 'Modelo de GPU', 'value_id': '7671213', 'value_name': 'Adreno 610', 'attribute_group_id': 'OTHERS', 'attribute_group_name': 'Otros', 'value_struct': None, 'values': [{'id': '7671213', 'name': 'Adreno 610', 'struct': None, 'source': 1}], 'source': 1, 'value_type': 'string'}, {'id': 'GTIN', 'name': 'Código universal de producto', 'value_id': None, 'value_name': '6941812759530', 'attribute_group_id': 'OTHERS', 'attribute_group_name': 'Otros', 'value_struct': None, 'values': [{'id': None, 'name': '6941812759530', 'struct': None, 'source': 385122562515662}], 'source': 6402814585011704, 'value_type': 'string'}, {'id': 'ITEM_CONDITION', 'name': 'Condición del ítem', 'value_id': '2230284', 'value_name': 'Nuevo', 'attribute_group_id': 'OTHERS', 'attribute_group_name': 'Otros', 'value_struct': None, 'values': [{'id': '2230284', 'name': 'Nuevo', 'struct': None, 'source': 6402814585011704}], 'source': 6402814585011704, 'value_type': 'list'}, {'id': 'LINE', 'name': 'Línea', 'value_id': '199791', 'value_name': 'Redmi', 'attribute_group_id': 'OTHERS', 'attribute_group_name': 'Otros', 'value_struct': None, 'values': [{'id': '199791', 'name': 'Redmi', 'struct': None, 'source': 1}], 'source': 1, 'value_type': 'string'}, {'id': 'MAIN_COLOR', 'name': 'Color principal', 'value_id': '2450295', 'value_name': 'Negro', 'attribute_group_id': 'OTHERS', 'attribute_group_name': 'Otros', 'value_struct': None, 'values': [{'id': '2450295', 'name': 'Negro', 'struct': None, 'source': 1}], 'source': 1, 'value_type': 'list'}, {'id': 'MODEL', 'name': 'Modelo', 'value_id': '29566197', 'value_name': 'Note 13 4G', 'attribute_group_id': 'OTHERS', 'attribute_group_name': 'Otros', 'value_struct': None, 'values': [{'id': '29566197', 'name': 'Note 13 4G', 'struct': None, 'source': 1}], 'source': 1, 'value_type': 'string'}, {'id': 'PACKAGE_LENGTH', 'name': 'Largo del paquete', 'value_id': None, 'value_name': '18 cm', 'attribute_group_id': 'OTHERS', 'attribute_group_name': 'Otros', 'value_struct': {'number': 18, 'unit': 'cm'}, 'values': [{'id': None, 'name': '18 cm', 'struct': {'number': 18, 'unit': 'cm'}, 'source': 4333789534002961}], 'source': 4333789534002961, 'value_type': 'number_unit'}, {'id': 'PACKAGE_WEIGHT', 'name': 'Peso del paquete', 'value_id': None, 'value_name': '470 g', 'attribute_group_id': 'OTHERS', 'attribute_group_name': 'Otros', 'value_struct': {'number': 470, 'unit': 'g'}, 'values': [{'id': None, 'name': '470 g', 'struct': {'number': 470, 'unit': 'g'}, 'source': 4333789534002961}], 'source': 4333789534002961, 'value_type': 'number_unit'}, {'id': 'PROCESSOR_MODEL', 'name': 'Modelo del procesador', 'value_id': '17609379', 'value_name': 'Snapdragon 685', 'attribute_group_id': 'OTHERS', 'attribute_group_name': 'Otros', 'value_struct': None, 'values': [{'id': '17609379', 'name': 'Snapdragon 685', 'struct': None, 'source': 1}], 'source': 1, 'value_type': 'string'}, {'id': 'WEIGHT', 'name': 'Peso', 'value_id': '16546906', 'value_name': '188.5 g', 'attribute_group_id': 'OTHERS', 'attribute_group_name': 'Otros', 'value_struct': {'number': 188.5, 'unit': 'g'}, 'values': [{'id': '16546906', 'name': '188.5 g', 'struct': {'number': 188.5, 'unit': 'g'}, 'source': 1}], 'source': 1, 'value_type': 'number_unit'}]   {'quantity': 36, 'amount': 17192, 'rate': 0, 'currency_id': 'COP', 'metadata': {'meliplus_installments': False, 'additional_bank_interest': True}}             NaN             True        NaN         []    BCNX70197                  NaN                 NaN               NaN             NaN\n",
            "MCO1388200741 Xiaomi Redmi Note 13 Pro+ 5g Dual Sim 512 Gb Negro 12 Gb Ram       new 748621-MLA76569863127_052024        MCO29740920        gold_pro xiaomi-redmi-note-13-pro-5g-dual-sim-512-gb-negro-12-gb-ram https://www.mercadolibre.com.co/xiaomi-redmi-note-13-pro-5g-dual-sim-512-gb-negro-12-gb-ram/p/MCO29740920  buy_it_now     MCO     MCO1055 MCO-CELLPHONES http://http2.mlstatic.com/D_748621-MLA76569863127_052024-I.jpg         COP              2 1553400.0       2589000.0 {'price_id': '', 'amount': 1553400, 'conditions': {'eligible': True, 'context_restrictions': ['channel_marketplace'], 'start_time': '2024-09-24T12:10:55Z', 'end_time': '2024-10-01T04:50:00Z'}, 'currency_id': 'COP', 'exchange_rate': None, 'payment_method_prices': [], 'payment_method_type': 'TMP', 'regular_amount': 2589000, 'type': 'promotion', 'metadata': {'campaign_id': 'P-MCO14223040', 'order_item_price': 1656960, 'promotion_id': 'OFFER-MCO1388200741-10558264684', 'promotion_type': 'marketplace_campaign', 'campaign_discount_percentage': 40, 'campaign_end_date': '2024-10-01T04:50:00Z', 'discount_meli_amount': 103560, 'experiment_id': 'cm_med_uplift_P-MCO14223040', 'funding_mode': 'coupon', 'variation': '52059'}}                   1                NaN              True                 True   {'store_pick_up': False, 'free_shipping': True, 'logistic_type': 'xd_drop_off', 'mode': 'me2', 'tags': ['self_service_in', 'mandatory_free_shipping'], 'benefits': None, 'promise': None, 'shipping_score': -1} 2044-08-04 17:49:54.210000+00:00 {'id': 312658824, 'nickname': 'ALDNET TIENDAVIRTUAL'}       [{'id': 'BRAND', 'name': 'Marca', 'value_id': '59387', 'value_name': 'Xiaomi', 'attribute_group_id': 'OTHERS', 'attribute_group_name': 'Otros', 'value_struct': None, 'values': [{'id': '59387', 'name': 'Xiaomi', 'struct': None, 'source': 1}], 'source': 1, 'value_type': 'string'}, {'id': 'COLOR', 'name': 'Color', 'value_id': '52049', 'value_name': 'Negro', 'attribute_group_id': 'OTHERS', 'attribute_group_name': 'Otros', 'value_struct': None, 'values': [{'id': '52049', 'name': 'Negro', 'struct': None, 'source': 1}], 'source': 1, 'value_type': 'string'}, {'id': 'DETAILED_MODEL', 'name': 'Modelo detallado', 'value_id': None, 'value_name': 'Redmi Note 13 Pro+ 5G', 'attribute_group_id': 'OTHERS', 'attribute_group_name': 'Otros', 'value_struct': None, 'values': [{'id': None, 'name': 'Redmi Note 13 Pro+ 5G', 'struct': None, 'source': 3942444344910321}], 'source': 3942444344910321, 'value_type': 'string'}, {'id': 'GPU_MODEL', 'name': 'Modelo de GPU', 'value_id': '25472014', 'value_name': 'Mali-G610', 'attribute_group_id': 'OTHERS', 'attribute_group_name': 'Otros', 'value_struct': None, 'values': [{'id': '25472014', 'name': 'Mali-G610', 'struct': None, 'source': 4709228965570453}], 'source': 4709228965570453, 'value_type': 'string'}, {'id': 'GTIN', 'name': 'Código universal de producto', 'value_id': None, 'value_name': '6941812749845', 'attribute_group_id': 'OTHERS', 'attribute_group_name': 'Otros', 'value_struct': None, 'values': [{'id': None, 'name': '6941812749845', 'struct': None, 'source': 385122562515662}], 'source': 1, 'value_type': 'string'}, {'id': 'ITEM_CONDITION', 'name': 'Condición del ítem', 'value_id': '2230284', 'value_name': 'Nuevo', 'attribute_group_id': 'OTHERS', 'attribute_group_name': 'Otros', 'value_struct': None, 'values': [{'id': '2230284', 'name': 'Nuevo', 'struct': None, 'source': 6402814585011704}], 'source': 6402814585011704, 'value_type': 'list'}, {'id': 'LINE', 'name': 'Línea', 'value_id': '199791', 'value_name': 'Redmi', 'attribute_group_id': 'OTHERS', 'attribute_group_name': 'Otros', 'value_struct': None, 'values': [{'id': '199791', 'name': 'Redmi', 'struct': None, 'source': 1}], 'source': 1, 'value_type': 'string'}, {'id': 'MAIN_COLOR', 'name': 'Color principal', 'value_id': '2450295', 'value_name': 'Negro', 'attribute_group_id': 'OTHERS', 'attribute_group_name': 'Otros', 'value_struct': None, 'values': [{'id': '2450295', 'name': 'Negro', 'struct': None, 'source': 1}], 'source': 1, 'value_type': 'list'}, {'id': 'MODEL', 'name': 'Modelo', 'value_id': '28663565', 'value_name': 'Note 13 Pro+ 5G', 'attribute_group_id': 'OTHERS', 'attribute_group_name': 'Otros', 'value_struct': None, 'values': [{'id': '28663565', 'name': 'Note 13 Pro+ 5G', 'struct': None, 'source': 1}], 'source': 1, 'value_type': 'string'}, {'id': 'PACKAGE_LENGTH', 'name': 'Largo del paquete', 'value_id': None, 'value_name': '18.7 cm', 'attribute_group_id': 'OTHERS', 'attribute_group_name': 'Otros', 'value_struct': {'number': 18.7, 'unit': 'cm'}, 'values': [{'id': None, 'name': '18.7 cm', 'struct': {'number': 18.7, 'unit': 'cm'}, 'source': 4333789534002961}], 'source': 4333789534002961, 'value_type': 'number_unit'}, {'id': 'PACKAGE_WEIGHT', 'name': 'Peso del paquete', 'value_id': None, 'value_name': '580 g', 'attribute_group_id': 'OTHERS', 'attribute_group_name': 'Otros', 'value_struct': {'number': 580, 'unit': 'g'}, 'values': [{'id': None, 'name': '580 g', 'struct': {'number': 580, 'unit': 'g'}, 'source': 4333789534002961}], 'source': 4333789534002961, 'value_type': 'number_unit'}, {'id': 'PROCESSOR_MODEL', 'name': 'Modelo del procesador', 'value_id': '28663566', 'value_name': 'MediaTek Dimensión 7200-Ultra', 'attribute_group_id': 'OTHERS', 'attribute_group_name': 'Otros', 'value_struct': None, 'values': [{'id': '28663566', 'name': 'MediaTek Dimensión 7200-Ultra', 'struct': None, 'source': 1}], 'source': 1, 'value_type': 'string'}, {'id': 'WEIGHT', 'name': 'Peso', 'value_id': '59112', 'value_name': '1 kg', 'attribute_group_id': 'OTHERS', 'attribute_group_name': 'Otros', 'value_struct': {'number': 1, 'unit': 'kg'}, 'values': [{'id': '59112', 'name': '1 kg', 'struct': {'number': 1, 'unit': 'kg'}, 'source': 4709228965570453}], 'source': 4709228965570453, 'value_type': 'number_unit'}] {'quantity': 12, 'amount': 129450, 'rate': 0, 'currency_id': 'COP', 'metadata': {'meliplus_installments': False, 'additional_bank_interest': False}}             NaN             True        NaN         []    NETJ84663     {'id': 33602181}                 NaN               NaN             NaN\n",
            "MCO2325852928    Samsung Galaxy A55 5g Dual Sim 256 Gb Azul Claro 8 Gb Ram       new 828557-MLA75148190826_032024        MCO34731719    gold_special   samsung-galaxy-a55-5g-dual-sim-256-gb-azul-claro-8-gb-ram   https://www.mercadolibre.com.co/samsung-galaxy-a55-5g-dual-sim-256-gb-azul-claro-8-gb-ram/p/MCO34731719  buy_it_now     MCO     MCO1055 MCO-CELLPHONES http://http2.mlstatic.com/D_828557-MLA75148190826_032024-I.jpg         COP              3 1395900.0       1929900.0                                                                     {'price_id': '', 'amount': 1395900, 'conditions': {'eligible': True, 'context_restrictions': ['channel_marketplace'], 'start_time': '2024-09-19T05:09:00Z', 'end_time': '2024-10-01T04:59:00Z'}, 'currency_id': 'COP', 'exchange_rate': None, 'payment_method_prices': [], 'payment_method_type': 'TMP', 'regular_amount': 1929900, 'type': 'promotion', 'metadata': {'campaign_id': 'P-MCO14213154', 'discount_meli_amount': 54000, 'funding_mode': 'coupon', 'order_item_price': 1449900, 'promotion_id': 'OFFER-MCO2325852928-10552426204', 'promotion_type': 'marketplace_campaign', 'campaign_discount_percentage': 27.67, 'campaign_end_date': '2024-10-01T04:59:00Z'}}                   1                NaN              True                 True {'store_pick_up': False, 'free_shipping': True, 'logistic_type': 'cross_docking', 'mode': 'me2', 'tags': ['self_service_in', 'mandatory_free_shipping'], 'benefits': None, 'promise': None, 'shipping_score': -1}        2044-04-10 04:00:00+00:00      {'id': 406781619, 'nickname': 'TECHNOLOGYRIVER'} [{'id': 'BRAND', 'name': 'Marca', 'value_id': '206', 'value_name': 'Samsung', 'attribute_group_id': 'OTHERS', 'attribute_group_name': 'Otros', 'value_struct': None, 'values': [{'id': '206', 'name': 'Samsung', 'struct': None, 'source': 1}], 'source': 1, 'value_type': 'string'}, {'id': 'COLOR', 'name': 'Color', 'value_id': '52021', 'value_name': 'Celeste', 'attribute_group_id': 'OTHERS', 'attribute_group_name': 'Otros', 'value_struct': None, 'values': [{'id': '52021', 'name': 'Celeste', 'struct': None, 'source': 1}], 'source': 1, 'value_type': 'string'}, {'id': 'DETAILED_MODEL', 'name': 'Modelo detallado', 'value_id': '38694777', 'value_name': 'SM-A556E', 'attribute_group_id': 'OTHERS', 'attribute_group_name': 'Otros', 'value_struct': None, 'values': [{'id': '38694777', 'name': 'SM-A556E', 'struct': None, 'source': 4709228965570453}], 'source': 4709228965570453, 'value_type': 'string'}, {'id': 'GPU_MODEL', 'name': 'Modelo de GPU', 'value_id': '35842153', 'value_name': 'Xclipse 530', 'attribute_group_id': 'OTHERS', 'attribute_group_name': 'Otros', 'value_struct': None, 'values': [{'id': '35842153', 'name': 'Xclipse 530', 'struct': None, 'source': 1}], 'source': 1, 'value_type': 'string'}, {'id': 'GTIN', 'name': 'Código universal de producto', 'value_id': None, 'value_name': '886095530970,8806095530970', 'attribute_group_id': 'OTHERS', 'attribute_group_name': 'Otros', 'value_struct': None, 'values': [{'id': None, 'name': '886095530970', 'struct': None, 'source': 6402814585011704}, {'id': None, 'name': '8806095530970', 'struct': None, 'source': 385122562515662}], 'source': 6402814585011704, 'value_type': 'string'}, {'id': 'ITEM_CONDITION', 'name': 'Condición del ítem', 'value_id': '2230284', 'value_name': 'Nuevo', 'attribute_group_id': 'OTHERS', 'attribute_group_name': 'Otros', 'value_struct': None, 'values': [{'id': '2230284', 'name': 'Nuevo', 'struct': None, 'source': 6402814585011704}], 'source': 6402814585011704, 'value_type': 'list'}, {'id': 'LINE', 'name': 'Línea', 'value_id': '322977', 'value_name': 'Galaxy A', 'attribute_group_id': 'OTHERS', 'attribute_group_name': 'Otros', 'value_struct': None, 'values': [{'id': '322977', 'name': 'Galaxy A', 'struct': None, 'source': 1}], 'source': 1, 'value_type': 'string'}, {'id': 'MAIN_COLOR', 'name': 'Color principal', 'value_id': '2450278', 'value_name': 'Celeste', 'attribute_group_id': 'OTHERS', 'attribute_group_name': 'Otros', 'value_struct': None, 'values': [{'id': '2450278', 'name': 'Celeste', 'struct': None, 'source': 1}], 'source': 1, 'value_type': 'list'}, {'id': 'MODEL', 'name': 'Modelo', 'value_id': '13674413', 'value_name': 'A55 5G', 'attribute_group_id': 'OTHERS', 'attribute_group_name': 'Otros', 'value_struct': None, 'values': [{'id': '13674413', 'name': 'A55 5G', 'struct': None, 'source': 1}], 'source': 1, 'value_type': 'string'}, {'id': 'PACKAGE_LENGTH', 'name': 'Largo del paquete', 'value_id': None, 'value_name': '17.9 cm', 'attribute_group_id': 'OTHERS', 'attribute_group_name': 'Otros', 'value_struct': {'number': 17.9, 'unit': 'cm'}, 'values': [{'id': None, 'name': '17.9 cm', 'struct': {'number': 17.9, 'unit': 'cm'}, 'source': 4333789534002961}], 'source': 4333789534002961, 'value_type': 'number_unit'}, {'id': 'PACKAGE_WEIGHT', 'name': 'Peso del paquete', 'value_id': None, 'value_name': '320 g', 'attribute_group_id': 'OTHERS', 'attribute_group_name': 'Otros', 'value_struct': {'number': 320, 'unit': 'g'}, 'values': [{'id': None, 'name': '320 g', 'struct': {'number': 320, 'unit': 'g'}, 'source': 4333789534002961}], 'source': 4333789534002961, 'value_type': 'number_unit'}, {'id': 'PROCESSOR_MODEL', 'name': 'Modelo del procesador', 'value_id': '35178472', 'value_name': 'Exynos 1480', 'attribute_group_id': 'OTHERS', 'attribute_group_name': 'Otros', 'value_struct': None, 'values': [{'id': '35178472', 'name': 'Exynos 1480', 'struct': None, 'source': 1}], 'source': 1, 'value_type': 'string'}, {'id': 'WEIGHT', 'name': 'Peso', 'value_id': '2122451', 'value_name': '213 g', 'attribute_group_id': 'OTHERS', 'attribute_group_name': 'Otros', 'value_struct': {'number': 213, 'unit': 'g'}, 'values': [{'id': '2122451', 'name': '213 g', 'struct': {'number': 213, 'unit': 'g'}, 'source': 1}], 'source': 1, 'value_type': 'number_unit'}]   {'quantity': 36, 'amount': 38775, 'rate': 0, 'currency_id': 'COP', 'metadata': {'meliplus_installments': False, 'additional_bank_interest': True}}             NaN             True        NaN         []    CTFU88562                  NaN                 NaN               NaN             NaN\n"
          ]
        }
      ],
      "source": [
        "# Cargar el archivo search_results.json y guardarlo en df_results\n",
        "import pandas as pd\n",
        "df_results = pd.read_json('data/search_results.json')\n",
        "df_results.to_csv('df_results.csv', index=False)\n",
        "print(df_results.head(3).to_string(index=False))"
      ]
    },
    {
      "cell_type": "code",
      "source": [
        "# imprimir el encabezado de cada columna\n",
        "print(df_results.columns.tolist())"
      ],
      "metadata": {
        "colab": {
          "base_uri": "https://localhost:8080/"
        },
        "collapsed": true,
        "id": "Auz71JLcgk14",
        "outputId": "0365a1b0-ecdc-4f2d-fa1e-060fdbb3061d"
      },
      "execution_count": 67,
      "outputs": [
        {
          "output_type": "stream",
          "name": "stdout",
          "text": [
            "['id', 'title', 'condition', 'thumbnail_id', 'catalog_product_id', 'listing_type_id', 'sanitized_title', 'permalink', 'buying_mode', 'site_id', 'category_id', 'domain_id', 'thumbnail', 'currency_id', 'order_backend', 'price', 'original_price', 'sale_price', 'available_quantity', 'official_store_id', 'use_thumbnail_id', 'accepts_mercadopago', 'shipping', 'stop_time', 'seller', 'attributes', 'installments', 'winner_item_id', 'catalog_listing', 'discounts', 'promotions', 'inventory_id', 'differential_pricing', 'official_store_name', 'variation_filters', 'variations_data']\n"
          ]
        }
      ]
    },
    {
      "cell_type": "code",
      "source": [
        "# Cargar el archivo items.json y guardarlo en df_items\n",
        "df_items = pd.read_json('data/items.json')\n",
        "df_items.to_csv('df_items.csv', index=False)\n",
        "print(df_items.columns)"
      ],
      "metadata": {
        "colab": {
          "base_uri": "https://localhost:8080/"
        },
        "collapsed": true,
        "id": "ug7vpcZFkg4g",
        "outputId": "60ea235c-5da3-4edd-90f4-210ad607c73a"
      },
      "execution_count": 68,
      "outputs": [
        {
          "output_type": "stream",
          "name": "stdout",
          "text": [
            "Index(['id', 'site_id', 'title', 'seller_id', 'category_id',\n",
            "       'official_store_id', 'price', 'base_price', 'original_price',\n",
            "       'currency_id', 'initial_quantity', 'sale_terms', 'buying_mode',\n",
            "       'listing_type_id', 'condition', 'permalink', 'thumbnail_id',\n",
            "       'thumbnail', 'pictures', 'video_id', 'descriptions',\n",
            "       'accepts_mercadopago', 'non_mercado_pago_payment_methods', 'shipping',\n",
            "       'international_delivery_mode', 'seller_address', 'seller_contact',\n",
            "       'location', 'coverage_areas', 'attributes', 'listing_source',\n",
            "       'variations', 'status', 'sub_status', 'tags', 'warranty',\n",
            "       'catalog_product_id', 'domain_id', 'parent_item_id', 'deal_ids',\n",
            "       'automatic_relist', 'date_created', 'last_updated', 'health',\n",
            "       'catalog_listing'],\n",
            "      dtype='object')\n"
          ]
        }
      ]
    },
    {
      "cell_type": "code",
      "source": [
        "# Cargar el sellers items.json y guardarlo en df_sellers\n",
        "df_sellers = pd.read_json('data/sellers.json')\n",
        "df_sellers.to_csv('df_sellers.csv', index=False)\n",
        "print(df_sellers.columns.tolist())"
      ],
      "metadata": {
        "colab": {
          "base_uri": "https://localhost:8080/"
        },
        "collapsed": true,
        "id": "54xi2ZollJ8E",
        "outputId": "d99591a8-9dd0-4f30-ff1d-44e19359f7db"
      },
      "execution_count": 69,
      "outputs": [
        {
          "output_type": "stream",
          "name": "stdout",
          "text": [
            "['id', 'nickname', 'country_id', 'address', 'user_type', 'site_id', 'permalink', 'seller_reputation', 'status']\n"
          ]
        }
      ]
    },
    {
      "cell_type": "markdown",
      "source": [
        "# Entendimiento de la información de los datos en las columnas relevantes"
      ],
      "metadata": {
        "id": "4Cc_y-Cgg-5V"
      }
    },
    {
      "cell_type": "code",
      "source": [
        "#listar los 10 pimeros valores de la columna attributes\n",
        "print(df_results['attributes'].head(10).tolist())"
      ],
      "metadata": {
        "colab": {
          "base_uri": "https://localhost:8080/"
        },
        "collapsed": true,
        "id": "Ozb5xSN5g3WR",
        "outputId": "0d75af3a-6227-451b-e57c-4fa9b7d13da8"
      },
      "execution_count": 70,
      "outputs": [
        {
          "output_type": "stream",
          "name": "stdout",
          "text": [
            "[[{'id': 'BRAND', 'name': 'Marca', 'value_id': '59387', 'value_name': 'Xiaomi', 'attribute_group_id': 'OTHERS', 'attribute_group_name': 'Otros', 'value_struct': None, 'values': [{'id': '59387', 'name': 'Xiaomi', 'struct': None, 'source': 1}], 'source': 1, 'value_type': 'string'}, {'id': 'COLOR', 'name': 'Color', 'value_id': '52049', 'value_name': 'Negro', 'attribute_group_id': 'OTHERS', 'attribute_group_name': 'Otros', 'value_struct': None, 'values': [{'id': '52049', 'name': 'Negro', 'struct': None, 'source': 1}], 'source': 1, 'value_type': 'string'}, {'id': 'DETAILED_MODEL', 'name': 'Modelo detallado', 'value_id': '13261884', 'value_name': '8 GB', 'attribute_group_id': 'OTHERS', 'attribute_group_name': 'Otros', 'value_struct': None, 'values': [{'id': '13261884', 'name': '8 GB', 'struct': None, 'source': 1}], 'source': 1, 'value_type': 'string'}, {'id': 'GPU_MODEL', 'name': 'Modelo de GPU', 'value_id': '7671213', 'value_name': 'Adreno 610', 'attribute_group_id': 'OTHERS', 'attribute_group_name': 'Otros', 'value_struct': None, 'values': [{'id': '7671213', 'name': 'Adreno 610', 'struct': None, 'source': 1}], 'source': 1, 'value_type': 'string'}, {'id': 'GTIN', 'name': 'Código universal de producto', 'value_id': None, 'value_name': '6941812759530', 'attribute_group_id': 'OTHERS', 'attribute_group_name': 'Otros', 'value_struct': None, 'values': [{'id': None, 'name': '6941812759530', 'struct': None, 'source': 385122562515662}], 'source': 6402814585011704, 'value_type': 'string'}, {'id': 'ITEM_CONDITION', 'name': 'Condición del ítem', 'value_id': '2230284', 'value_name': 'Nuevo', 'attribute_group_id': 'OTHERS', 'attribute_group_name': 'Otros', 'value_struct': None, 'values': [{'id': '2230284', 'name': 'Nuevo', 'struct': None, 'source': 6402814585011704}], 'source': 6402814585011704, 'value_type': 'list'}, {'id': 'LINE', 'name': 'Línea', 'value_id': '199791', 'value_name': 'Redmi', 'attribute_group_id': 'OTHERS', 'attribute_group_name': 'Otros', 'value_struct': None, 'values': [{'id': '199791', 'name': 'Redmi', 'struct': None, 'source': 1}], 'source': 1, 'value_type': 'string'}, {'id': 'MAIN_COLOR', 'name': 'Color principal', 'value_id': '2450295', 'value_name': 'Negro', 'attribute_group_id': 'OTHERS', 'attribute_group_name': 'Otros', 'value_struct': None, 'values': [{'id': '2450295', 'name': 'Negro', 'struct': None, 'source': 1}], 'source': 1, 'value_type': 'list'}, {'id': 'MODEL', 'name': 'Modelo', 'value_id': '29566197', 'value_name': 'Note 13 4G', 'attribute_group_id': 'OTHERS', 'attribute_group_name': 'Otros', 'value_struct': None, 'values': [{'id': '29566197', 'name': 'Note 13 4G', 'struct': None, 'source': 1}], 'source': 1, 'value_type': 'string'}, {'id': 'PACKAGE_LENGTH', 'name': 'Largo del paquete', 'value_id': None, 'value_name': '18 cm', 'attribute_group_id': 'OTHERS', 'attribute_group_name': 'Otros', 'value_struct': {'number': 18, 'unit': 'cm'}, 'values': [{'id': None, 'name': '18 cm', 'struct': {'number': 18, 'unit': 'cm'}, 'source': 4333789534002961}], 'source': 4333789534002961, 'value_type': 'number_unit'}, {'id': 'PACKAGE_WEIGHT', 'name': 'Peso del paquete', 'value_id': None, 'value_name': '470 g', 'attribute_group_id': 'OTHERS', 'attribute_group_name': 'Otros', 'value_struct': {'number': 470, 'unit': 'g'}, 'values': [{'id': None, 'name': '470 g', 'struct': {'number': 470, 'unit': 'g'}, 'source': 4333789534002961}], 'source': 4333789534002961, 'value_type': 'number_unit'}, {'id': 'PROCESSOR_MODEL', 'name': 'Modelo del procesador', 'value_id': '17609379', 'value_name': 'Snapdragon 685', 'attribute_group_id': 'OTHERS', 'attribute_group_name': 'Otros', 'value_struct': None, 'values': [{'id': '17609379', 'name': 'Snapdragon 685', 'struct': None, 'source': 1}], 'source': 1, 'value_type': 'string'}, {'id': 'WEIGHT', 'name': 'Peso', 'value_id': '16546906', 'value_name': '188.5 g', 'attribute_group_id': 'OTHERS', 'attribute_group_name': 'Otros', 'value_struct': {'number': 188.5, 'unit': 'g'}, 'values': [{'id': '16546906', 'name': '188.5 g', 'struct': {'number': 188.5, 'unit': 'g'}, 'source': 1}], 'source': 1, 'value_type': 'number_unit'}], [{'id': 'BRAND', 'name': 'Marca', 'value_id': '59387', 'value_name': 'Xiaomi', 'attribute_group_id': 'OTHERS', 'attribute_group_name': 'Otros', 'value_struct': None, 'values': [{'id': '59387', 'name': 'Xiaomi', 'struct': None, 'source': 1}], 'source': 1, 'value_type': 'string'}, {'id': 'COLOR', 'name': 'Color', 'value_id': '52049', 'value_name': 'Negro', 'attribute_group_id': 'OTHERS', 'attribute_group_name': 'Otros', 'value_struct': None, 'values': [{'id': '52049', 'name': 'Negro', 'struct': None, 'source': 1}], 'source': 1, 'value_type': 'string'}, {'id': 'DETAILED_MODEL', 'name': 'Modelo detallado', 'value_id': None, 'value_name': 'Redmi Note 13 Pro+ 5G', 'attribute_group_id': 'OTHERS', 'attribute_group_name': 'Otros', 'value_struct': None, 'values': [{'id': None, 'name': 'Redmi Note 13 Pro+ 5G', 'struct': None, 'source': 3942444344910321}], 'source': 3942444344910321, 'value_type': 'string'}, {'id': 'GPU_MODEL', 'name': 'Modelo de GPU', 'value_id': '25472014', 'value_name': 'Mali-G610', 'attribute_group_id': 'OTHERS', 'attribute_group_name': 'Otros', 'value_struct': None, 'values': [{'id': '25472014', 'name': 'Mali-G610', 'struct': None, 'source': 4709228965570453}], 'source': 4709228965570453, 'value_type': 'string'}, {'id': 'GTIN', 'name': 'Código universal de producto', 'value_id': None, 'value_name': '6941812749845', 'attribute_group_id': 'OTHERS', 'attribute_group_name': 'Otros', 'value_struct': None, 'values': [{'id': None, 'name': '6941812749845', 'struct': None, 'source': 385122562515662}], 'source': 1, 'value_type': 'string'}, {'id': 'ITEM_CONDITION', 'name': 'Condición del ítem', 'value_id': '2230284', 'value_name': 'Nuevo', 'attribute_group_id': 'OTHERS', 'attribute_group_name': 'Otros', 'value_struct': None, 'values': [{'id': '2230284', 'name': 'Nuevo', 'struct': None, 'source': 6402814585011704}], 'source': 6402814585011704, 'value_type': 'list'}, {'id': 'LINE', 'name': 'Línea', 'value_id': '199791', 'value_name': 'Redmi', 'attribute_group_id': 'OTHERS', 'attribute_group_name': 'Otros', 'value_struct': None, 'values': [{'id': '199791', 'name': 'Redmi', 'struct': None, 'source': 1}], 'source': 1, 'value_type': 'string'}, {'id': 'MAIN_COLOR', 'name': 'Color principal', 'value_id': '2450295', 'value_name': 'Negro', 'attribute_group_id': 'OTHERS', 'attribute_group_name': 'Otros', 'value_struct': None, 'values': [{'id': '2450295', 'name': 'Negro', 'struct': None, 'source': 1}], 'source': 1, 'value_type': 'list'}, {'id': 'MODEL', 'name': 'Modelo', 'value_id': '28663565', 'value_name': 'Note 13 Pro+ 5G', 'attribute_group_id': 'OTHERS', 'attribute_group_name': 'Otros', 'value_struct': None, 'values': [{'id': '28663565', 'name': 'Note 13 Pro+ 5G', 'struct': None, 'source': 1}], 'source': 1, 'value_type': 'string'}, {'id': 'PACKAGE_LENGTH', 'name': 'Largo del paquete', 'value_id': None, 'value_name': '18.7 cm', 'attribute_group_id': 'OTHERS', 'attribute_group_name': 'Otros', 'value_struct': {'number': 18.7, 'unit': 'cm'}, 'values': [{'id': None, 'name': '18.7 cm', 'struct': {'number': 18.7, 'unit': 'cm'}, 'source': 4333789534002961}], 'source': 4333789534002961, 'value_type': 'number_unit'}, {'id': 'PACKAGE_WEIGHT', 'name': 'Peso del paquete', 'value_id': None, 'value_name': '580 g', 'attribute_group_id': 'OTHERS', 'attribute_group_name': 'Otros', 'value_struct': {'number': 580, 'unit': 'g'}, 'values': [{'id': None, 'name': '580 g', 'struct': {'number': 580, 'unit': 'g'}, 'source': 4333789534002961}], 'source': 4333789534002961, 'value_type': 'number_unit'}, {'id': 'PROCESSOR_MODEL', 'name': 'Modelo del procesador', 'value_id': '28663566', 'value_name': 'MediaTek Dimensión 7200-Ultra', 'attribute_group_id': 'OTHERS', 'attribute_group_name': 'Otros', 'value_struct': None, 'values': [{'id': '28663566', 'name': 'MediaTek Dimensión 7200-Ultra', 'struct': None, 'source': 1}], 'source': 1, 'value_type': 'string'}, {'id': 'WEIGHT', 'name': 'Peso', 'value_id': '59112', 'value_name': '1 kg', 'attribute_group_id': 'OTHERS', 'attribute_group_name': 'Otros', 'value_struct': {'number': 1, 'unit': 'kg'}, 'values': [{'id': '59112', 'name': '1 kg', 'struct': {'number': 1, 'unit': 'kg'}, 'source': 4709228965570453}], 'source': 4709228965570453, 'value_type': 'number_unit'}], [{'id': 'BRAND', 'name': 'Marca', 'value_id': '206', 'value_name': 'Samsung', 'attribute_group_id': 'OTHERS', 'attribute_group_name': 'Otros', 'value_struct': None, 'values': [{'id': '206', 'name': 'Samsung', 'struct': None, 'source': 1}], 'source': 1, 'value_type': 'string'}, {'id': 'COLOR', 'name': 'Color', 'value_id': '52021', 'value_name': 'Celeste', 'attribute_group_id': 'OTHERS', 'attribute_group_name': 'Otros', 'value_struct': None, 'values': [{'id': '52021', 'name': 'Celeste', 'struct': None, 'source': 1}], 'source': 1, 'value_type': 'string'}, {'id': 'DETAILED_MODEL', 'name': 'Modelo detallado', 'value_id': '38694777', 'value_name': 'SM-A556E', 'attribute_group_id': 'OTHERS', 'attribute_group_name': 'Otros', 'value_struct': None, 'values': [{'id': '38694777', 'name': 'SM-A556E', 'struct': None, 'source': 4709228965570453}], 'source': 4709228965570453, 'value_type': 'string'}, {'id': 'GPU_MODEL', 'name': 'Modelo de GPU', 'value_id': '35842153', 'value_name': 'Xclipse 530', 'attribute_group_id': 'OTHERS', 'attribute_group_name': 'Otros', 'value_struct': None, 'values': [{'id': '35842153', 'name': 'Xclipse 530', 'struct': None, 'source': 1}], 'source': 1, 'value_type': 'string'}, {'id': 'GTIN', 'name': 'Código universal de producto', 'value_id': None, 'value_name': '886095530970,8806095530970', 'attribute_group_id': 'OTHERS', 'attribute_group_name': 'Otros', 'value_struct': None, 'values': [{'id': None, 'name': '886095530970', 'struct': None, 'source': 6402814585011704}, {'id': None, 'name': '8806095530970', 'struct': None, 'source': 385122562515662}], 'source': 6402814585011704, 'value_type': 'string'}, {'id': 'ITEM_CONDITION', 'name': 'Condición del ítem', 'value_id': '2230284', 'value_name': 'Nuevo', 'attribute_group_id': 'OTHERS', 'attribute_group_name': 'Otros', 'value_struct': None, 'values': [{'id': '2230284', 'name': 'Nuevo', 'struct': None, 'source': 6402814585011704}], 'source': 6402814585011704, 'value_type': 'list'}, {'id': 'LINE', 'name': 'Línea', 'value_id': '322977', 'value_name': 'Galaxy A', 'attribute_group_id': 'OTHERS', 'attribute_group_name': 'Otros', 'value_struct': None, 'values': [{'id': '322977', 'name': 'Galaxy A', 'struct': None, 'source': 1}], 'source': 1, 'value_type': 'string'}, {'id': 'MAIN_COLOR', 'name': 'Color principal', 'value_id': '2450278', 'value_name': 'Celeste', 'attribute_group_id': 'OTHERS', 'attribute_group_name': 'Otros', 'value_struct': None, 'values': [{'id': '2450278', 'name': 'Celeste', 'struct': None, 'source': 1}], 'source': 1, 'value_type': 'list'}, {'id': 'MODEL', 'name': 'Modelo', 'value_id': '13674413', 'value_name': 'A55 5G', 'attribute_group_id': 'OTHERS', 'attribute_group_name': 'Otros', 'value_struct': None, 'values': [{'id': '13674413', 'name': 'A55 5G', 'struct': None, 'source': 1}], 'source': 1, 'value_type': 'string'}, {'id': 'PACKAGE_LENGTH', 'name': 'Largo del paquete', 'value_id': None, 'value_name': '17.9 cm', 'attribute_group_id': 'OTHERS', 'attribute_group_name': 'Otros', 'value_struct': {'number': 17.9, 'unit': 'cm'}, 'values': [{'id': None, 'name': '17.9 cm', 'struct': {'number': 17.9, 'unit': 'cm'}, 'source': 4333789534002961}], 'source': 4333789534002961, 'value_type': 'number_unit'}, {'id': 'PACKAGE_WEIGHT', 'name': 'Peso del paquete', 'value_id': None, 'value_name': '320 g', 'attribute_group_id': 'OTHERS', 'attribute_group_name': 'Otros', 'value_struct': {'number': 320, 'unit': 'g'}, 'values': [{'id': None, 'name': '320 g', 'struct': {'number': 320, 'unit': 'g'}, 'source': 4333789534002961}], 'source': 4333789534002961, 'value_type': 'number_unit'}, {'id': 'PROCESSOR_MODEL', 'name': 'Modelo del procesador', 'value_id': '35178472', 'value_name': 'Exynos 1480', 'attribute_group_id': 'OTHERS', 'attribute_group_name': 'Otros', 'value_struct': None, 'values': [{'id': '35178472', 'name': 'Exynos 1480', 'struct': None, 'source': 1}], 'source': 1, 'value_type': 'string'}, {'id': 'WEIGHT', 'name': 'Peso', 'value_id': '2122451', 'value_name': '213 g', 'attribute_group_id': 'OTHERS', 'attribute_group_name': 'Otros', 'value_struct': {'number': 213, 'unit': 'g'}, 'values': [{'id': '2122451', 'name': '213 g', 'struct': {'number': 213, 'unit': 'g'}, 'source': 1}], 'source': 1, 'value_type': 'number_unit'}], [{'id': 'BRAND', 'name': 'Marca', 'value_id': '59387', 'value_name': 'Xiaomi', 'attribute_group_id': 'OTHERS', 'attribute_group_name': 'Otros', 'value_struct': None, 'values': [{'id': '59387', 'name': 'Xiaomi', 'struct': None, 'source': 1}], 'source': 1, 'value_type': 'string'}, {'id': 'COLOR', 'name': 'Color', 'value_id': '5179552', 'value_name': 'Clover green', 'attribute_group_id': 'OTHERS', 'attribute_group_name': 'Otros', 'value_struct': None, 'values': [{'id': '5179552', 'name': 'Clover green', 'struct': None, 'source': 1}], 'source': 1, 'value_type': 'string'}, {'id': 'GPU_MODEL', 'name': 'Modelo de GPU', 'value_id': '8678038', 'value_name': 'Mali-G52 MC2', 'attribute_group_id': 'OTHERS', 'attribute_group_name': 'Otros', 'value_struct': None, 'values': [{'id': '8678038', 'name': 'Mali-G52 MC2', 'struct': None, 'source': 1}], 'source': 1, 'value_type': 'string'}, {'id': 'GTIN', 'name': 'Código universal de producto', 'value_id': None, 'value_name': '6941812757420,6941812784594', 'attribute_group_id': 'OTHERS', 'attribute_group_name': 'Otros', 'value_struct': None, 'values': [{'id': None, 'name': '6941812757420', 'struct': None, 'source': 6402814585011704}, {'id': None, 'name': '6941812784594', 'struct': None, 'source': 385122562515662}], 'source': 6402814585011704, 'value_type': 'string'}, {'id': 'ITEM_CONDITION', 'name': 'Condición del ítem', 'value_id': '2230284', 'value_name': 'Nuevo', 'attribute_group_id': 'OTHERS', 'attribute_group_name': 'Otros', 'value_struct': None, 'values': [{'id': '2230284', 'name': 'Nuevo', 'struct': None, 'source': 6402814585011704}], 'source': 6402814585011704, 'value_type': 'list'}, {'id': 'LINE', 'name': 'Línea', 'value_id': '199791', 'value_name': 'Redmi', 'attribute_group_id': 'OTHERS', 'attribute_group_name': 'Otros', 'value_struct': None, 'values': [{'id': '199791', 'name': 'Redmi', 'struct': None, 'source': 1}], 'source': 1, 'value_type': 'string'}, {'id': 'MAIN_COLOR', 'name': 'Color principal', 'value_id': '2450314', 'value_name': 'Verde', 'attribute_group_id': 'OTHERS', 'attribute_group_name': 'Otros', 'value_struct': None, 'values': [{'id': '2450314', 'name': 'Verde', 'struct': None, 'source': 1}], 'source': 1, 'value_type': 'list'}, {'id': 'MODEL', 'name': 'Modelo', 'value_id': '25836451', 'value_name': '13C', 'attribute_group_id': 'OTHERS', 'attribute_group_name': 'Otros', 'value_struct': None, 'values': [{'id': '25836451', 'name': '13C', 'struct': None, 'source': 1}], 'source': 1, 'value_type': 'string'}, {'id': 'PACKAGE_LENGTH', 'name': 'Largo del paquete', 'value_id': None, 'value_name': '17.7 cm', 'attribute_group_id': 'OTHERS', 'attribute_group_name': 'Otros', 'value_struct': {'number': 17.7, 'unit': 'cm'}, 'values': [{'id': None, 'name': '17.7 cm', 'struct': {'unit': 'cm', 'number': 17.7}, 'source': 4333789534002961}], 'source': 4333789534002961, 'value_type': 'number_unit'}, {'id': 'PACKAGE_WEIGHT', 'name': 'Peso del paquete', 'value_id': None, 'value_name': '380 g', 'attribute_group_id': 'OTHERS', 'attribute_group_name': 'Otros', 'value_struct': {'number': 380, 'unit': 'g'}, 'values': [{'id': None, 'name': '380 g', 'struct': {'number': 380, 'unit': 'g'}, 'source': 4333789534002961}], 'source': 4333789534002961, 'value_type': 'number_unit'}, {'id': 'PROCESSOR_MODEL', 'name': 'Modelo del procesador', 'value_id': '8678039', 'value_name': 'MediaTek Helio G85', 'attribute_group_id': 'OTHERS', 'attribute_group_name': 'Otros', 'value_struct': None, 'values': [{'id': '8678039', 'name': 'MediaTek Helio G85', 'struct': None, 'source': 1}], 'source': 1, 'value_type': 'string'}, {'id': 'WEIGHT', 'name': 'Peso', 'value_id': '522894', 'value_name': '192 g', 'attribute_group_id': 'OTHERS', 'attribute_group_name': 'Otros', 'value_struct': {'number': 192, 'unit': 'g'}, 'values': [{'id': '522894', 'name': '192 g', 'struct': {'number': 192, 'unit': 'g'}, 'source': 1}], 'source': 1, 'value_type': 'number_unit'}], [{'id': 'BRAND', 'name': 'Marca', 'value_id': '206', 'value_name': 'Samsung', 'attribute_group_id': 'OTHERS', 'attribute_group_name': 'Otros', 'value_struct': None, 'values': [{'id': '206', 'name': 'Samsung', 'struct': None, 'source': 1}], 'source': 1, 'value_type': 'string'}, {'id': 'COLOR', 'name': 'Color', 'value_id': '17625331', 'value_name': 'Cream', 'attribute_group_id': 'OTHERS', 'attribute_group_name': 'Otros', 'value_struct': None, 'values': [{'id': '17625331', 'name': 'Cream', 'struct': None, 'source': 1}], 'source': 1, 'value_type': 'string'}, {'id': 'DETAILED_MODEL', 'name': 'Modelo detallado', 'value_id': None, 'value_name': 'SM-S918BZEMARO', 'attribute_group_id': 'OTHERS', 'attribute_group_name': 'Otros', 'value_struct': None, 'values': [{'id': None, 'name': 'SM-S918BZEMARO', 'struct': None, 'source': 1}], 'source': 1, 'value_type': 'string'}, {'id': 'GPU_MODEL', 'name': 'Modelo de GPU', 'value_id': '16181020', 'value_name': 'Adreno 740', 'attribute_group_id': 'OTHERS', 'attribute_group_name': 'Otros', 'value_struct': None, 'values': [{'id': '16181020', 'name': 'Adreno 740', 'struct': None, 'source': 4709228965570453}], 'source': 4709228965570453, 'value_type': 'string'}, {'id': 'GTIN', 'name': 'Código universal de producto', 'value_id': None, 'value_name': '8806094694550', 'attribute_group_id': 'OTHERS', 'attribute_group_name': 'Otros', 'value_struct': None, 'values': [{'id': None, 'name': '8806094694550', 'struct': None, 'source': 6402814585011704}], 'source': 6402814585011704, 'value_type': 'string'}, {'id': 'ITEM_CONDITION', 'name': 'Condición del ítem', 'value_id': '2230284', 'value_name': 'Nuevo', 'attribute_group_id': 'OTHERS', 'attribute_group_name': 'Otros', 'value_struct': None, 'values': [{'id': '2230284', 'name': 'Nuevo', 'struct': None, 'source': 6402814585011704}], 'source': 6402814585011704, 'value_type': 'list'}, {'id': 'LINE', 'name': 'Línea', 'value_id': '249991', 'value_name': 'Galaxy S', 'attribute_group_id': 'OTHERS', 'attribute_group_name': 'Otros', 'value_struct': None, 'values': [{'id': '249991', 'name': 'Galaxy S', 'struct': None, 'source': 1}], 'source': 1, 'value_type': 'string'}, {'id': 'MAIN_COLOR', 'name': 'Color principal', 'value_id': '2450308', 'value_name': 'Blanco', 'attribute_group_id': 'OTHERS', 'attribute_group_name': 'Otros', 'value_struct': None, 'values': [{'id': '2450308', 'name': 'Blanco', 'struct': None, 'source': 1}], 'source': 1, 'value_type': 'list'}, {'id': 'MODEL', 'name': 'Modelo', 'value_id': '38752536', 'value_name': 'S23 Ultra (eSIM)', 'attribute_group_id': 'OTHERS', 'attribute_group_name': 'Otros', 'value_struct': None, 'values': [{'id': '38752536', 'name': 'S23 Ultra (eSIM)', 'struct': None, 'source': 1}], 'source': 1, 'value_type': 'string'}, {'id': 'PROCESSOR_MODEL', 'name': 'Modelo del procesador', 'value_id': '16568224', 'value_name': 'Snapdragon 8 Gen 2', 'attribute_group_id': 'OTHERS', 'attribute_group_name': 'Otros', 'value_struct': None, 'values': [{'id': '16568224', 'name': 'Snapdragon 8 Gen 2', 'struct': None, 'source': 1}], 'source': 1, 'value_type': 'string'}, {'id': 'WEIGHT', 'name': 'Peso', 'value_id': '3516249', 'value_name': '233 g', 'attribute_group_id': 'OTHERS', 'attribute_group_name': 'Otros', 'value_struct': {'number': 233, 'unit': 'g'}, 'values': [{'id': '3516249', 'name': '233 g', 'struct': {'number': 233, 'unit': 'g'}, 'source': 1}], 'source': 1, 'value_type': 'number_unit'}], [{'id': 'BRAND', 'name': 'Marca', 'value_id': '59387', 'value_name': 'Xiaomi', 'attribute_group_id': 'OTHERS', 'attribute_group_name': 'Otros', 'value_struct': None, 'values': [{'id': '59387', 'name': 'Xiaomi', 'struct': None, 'source': 1}], 'source': 1, 'value_type': 'string'}, {'id': 'COLOR', 'name': 'Color', 'value_id': '52019', 'value_name': 'Verde oscuro', 'attribute_group_id': 'OTHERS', 'attribute_group_name': 'Otros', 'value_struct': None, 'values': [{'id': '52019', 'name': 'Verde oscuro', 'struct': None, 'source': 1}], 'source': 1, 'value_type': 'string'}, {'id': 'DETAILED_MODEL', 'name': 'Modelo detallado', 'value_id': '40334925', 'value_name': 'Redmi Note 13 Pro 8GB 256Gb Forest Green', 'attribute_group_id': 'OTHERS', 'attribute_group_name': 'Otros', 'value_struct': None, 'values': [{'id': '40334925', 'name': 'Redmi Note 13 Pro 8GB 256Gb Forest Green', 'struct': None, 'source': 1}], 'source': 1, 'value_type': 'string'}, {'id': 'GPU_MODEL', 'name': 'Modelo de GPU', 'value_id': '25472014', 'value_name': 'Mali-G610', 'attribute_group_id': 'OTHERS', 'attribute_group_name': 'Otros', 'value_struct': None, 'values': [{'id': '25472014', 'name': 'Mali-G610', 'struct': None, 'source': 1}], 'source': 1, 'value_type': 'string'}, {'id': 'GTIN', 'name': 'Código universal de producto', 'value_id': None, 'value_name': '6941812763025', 'attribute_group_id': 'OTHERS', 'attribute_group_name': 'Otros', 'value_struct': None, 'values': [{'id': None, 'name': '6941812763025', 'struct': None, 'source': 6402814585011704}], 'source': 6402814585011704, 'value_type': 'string'}, {'id': 'ITEM_CONDITION', 'name': 'Condición del ítem', 'value_id': '2230284', 'value_name': 'Nuevo', 'attribute_group_id': 'OTHERS', 'attribute_group_name': 'Otros', 'value_struct': None, 'values': [{'id': '2230284', 'name': 'Nuevo', 'struct': None, 'source': 6402814585011704}], 'source': 6402814585011704, 'value_type': 'list'}, {'id': 'LINE', 'name': 'Línea', 'value_id': '199791', 'value_name': 'Redmi', 'attribute_group_id': 'OTHERS', 'attribute_group_name': 'Otros', 'value_struct': None, 'values': [{'id': '199791', 'name': 'Redmi', 'struct': None, 'source': 1}], 'source': 1, 'value_type': 'string'}, {'id': 'MAIN_COLOR', 'name': 'Color principal', 'value_id': '2450324', 'value_name': 'Verde oscuro', 'attribute_group_id': 'OTHERS', 'attribute_group_name': 'Otros', 'value_struct': None, 'values': [{'id': '2450324', 'name': 'Verde oscuro', 'struct': None, 'source': 1}], 'source': 1, 'value_type': 'list'}, {'id': 'MODEL', 'name': 'Modelo', 'value_id': '36182064', 'value_name': 'Note 13 Pro 4G', 'attribute_group_id': 'OTHERS', 'attribute_group_name': 'Otros', 'value_struct': None, 'values': [{'id': '36182064', 'name': 'Note 13 Pro 4G', 'struct': None, 'source': 1}], 'source': 1, 'value_type': 'string'}, {'id': 'PROCESSOR_MODEL', 'name': 'Modelo del procesador', 'value_id': '28643593', 'value_name': 'MediaTek Helio G99-Ultra', 'attribute_group_id': 'OTHERS', 'attribute_group_name': 'Otros', 'value_struct': None, 'values': [{'id': '28643593', 'name': 'MediaTek Helio G99-Ultra', 'struct': None, 'source': 1}], 'source': 1, 'value_type': 'string'}, {'id': 'WEIGHT', 'name': 'Peso', 'value_id': '5418656', 'value_name': '288 g', 'attribute_group_id': 'OTHERS', 'attribute_group_name': 'Otros', 'value_struct': {'number': 288, 'unit': 'g'}, 'values': [{'id': '5418656', 'name': '288 g', 'struct': {'number': 288, 'unit': 'g'}, 'source': 1}], 'source': 1, 'value_type': 'number_unit'}], [{'id': 'BRAND', 'name': 'Marca', 'value_id': '59387', 'value_name': 'Xiaomi', 'attribute_group_id': 'OTHERS', 'attribute_group_name': 'Otros', 'value_struct': None, 'values': [{'id': '59387', 'name': 'Xiaomi', 'struct': None, 'source': 1}], 'source': 1, 'value_type': 'string'}, {'id': 'COLOR', 'name': 'Color', 'value_id': '3764384', 'value_name': 'Navy blue', 'attribute_group_id': 'OTHERS', 'attribute_group_name': 'Otros', 'value_struct': None, 'values': [{'id': '3764384', 'name': 'Navy blue', 'struct': None, 'source': 1}], 'source': 1, 'value_type': 'string'}, {'id': 'GPU_MODEL', 'name': 'Modelo de GPU', 'value_id': '8678038', 'value_name': 'Mali-G52 MC2', 'attribute_group_id': 'OTHERS', 'attribute_group_name': 'Otros', 'value_struct': None, 'values': [{'id': '8678038', 'name': 'Mali-G52 MC2', 'struct': None, 'source': 1}], 'source': 1, 'value_type': 'string'}, {'id': 'GTIN', 'name': 'Código universal de producto', 'value_id': None, 'value_name': '6941812753361', 'attribute_group_id': 'OTHERS', 'attribute_group_name': 'Otros', 'value_struct': None, 'values': [{'id': None, 'name': '6941812753361', 'struct': None, 'source': 6402814585011704}], 'source': 6402814585011704, 'value_type': 'string'}, {'id': 'ITEM_CONDITION', 'name': 'Condición del ítem', 'value_id': '2230284', 'value_name': 'Nuevo', 'attribute_group_id': 'OTHERS', 'attribute_group_name': 'Otros', 'value_struct': None, 'values': [{'id': '2230284', 'name': 'Nuevo', 'struct': None, 'source': 6402814585011704}], 'source': 6402814585011704, 'value_type': 'list'}, {'id': 'LINE', 'name': 'Línea', 'value_id': '199791', 'value_name': 'Redmi', 'attribute_group_id': 'OTHERS', 'attribute_group_name': 'Otros', 'value_struct': None, 'values': [{'id': '199791', 'name': 'Redmi', 'struct': None, 'source': 1}], 'source': 1, 'value_type': 'string'}, {'id': 'MAIN_COLOR', 'name': 'Color principal', 'value_id': '2450293', 'value_name': 'Azul', 'attribute_group_id': 'OTHERS', 'attribute_group_name': 'Otros', 'value_struct': None, 'values': [{'id': '2450293', 'name': 'Azul', 'struct': None, 'source': 1}], 'source': 1, 'value_type': 'list'}, {'id': 'MODEL', 'name': 'Modelo', 'value_id': '25836451', 'value_name': '13C', 'attribute_group_id': 'OTHERS', 'attribute_group_name': 'Otros', 'value_struct': None, 'values': [{'id': '25836451', 'name': '13C', 'struct': None, 'source': 1}], 'source': 1, 'value_type': 'string'}, {'id': 'PROCESSOR_MODEL', 'name': 'Modelo del procesador', 'value_id': '8678039', 'value_name': 'MediaTek Helio G85', 'attribute_group_id': 'OTHERS', 'attribute_group_name': 'Otros', 'value_struct': None, 'values': [{'id': '8678039', 'name': 'MediaTek Helio G85', 'struct': None, 'source': 1}], 'source': 1, 'value_type': 'string'}, {'id': 'WEIGHT', 'name': 'Peso', 'value_id': '522894', 'value_name': '192 g', 'attribute_group_id': 'OTHERS', 'attribute_group_name': 'Otros', 'value_struct': {'number': 192, 'unit': 'g'}, 'values': [{'id': '522894', 'name': '192 g', 'struct': {'number': 192, 'unit': 'g'}, 'source': 1}], 'source': 1, 'value_type': 'number_unit'}], [{'id': 'BRAND', 'name': 'Marca', 'value_id': '206', 'value_name': 'Samsung', 'attribute_group_id': 'OTHERS', 'attribute_group_name': 'Otros', 'value_struct': None, 'values': [{'id': '206', 'name': 'Samsung', 'struct': None, 'source': 1}], 'source': 1, 'value_type': 'string'}, {'id': 'COLOR', 'name': 'Color', 'value_id': '52033', 'value_name': 'Azul oscuro', 'attribute_group_id': 'OTHERS', 'attribute_group_name': 'Otros', 'value_struct': None, 'values': [{'id': '52033', 'name': 'Azul oscuro', 'struct': None, 'source': 1}], 'source': 1, 'value_type': 'string'}, {'id': 'GTIN', 'name': 'Código universal de producto', 'value_id': None, 'value_name': '8806095514475', 'attribute_group_id': 'OTHERS', 'attribute_group_name': 'Otros', 'value_struct': None, 'values': [{'id': None, 'name': '8806095514475', 'struct': None, 'source': 6288553339613210}], 'source': 6288553339613210, 'value_type': 'string'}, {'id': 'ITEM_CONDITION', 'name': 'Condición del ítem', 'value_id': '2230284', 'value_name': 'Nuevo', 'attribute_group_id': 'OTHERS', 'attribute_group_name': 'Otros', 'value_struct': None, 'values': [{'id': '2230284', 'name': 'Nuevo', 'struct': None, 'source': 6288553339613210}], 'source': 6288553339613210, 'value_type': 'list'}, {'id': 'LINE', 'name': 'Línea', 'value_id': '322977', 'value_name': 'Galaxy A', 'attribute_group_id': 'OTHERS', 'attribute_group_name': 'Otros', 'value_struct': None, 'values': [{'id': '322977', 'name': 'Galaxy A', 'struct': None, 'source': 1}], 'source': 1, 'value_type': 'string'}, {'id': 'MAIN_COLOR', 'name': 'Color principal', 'value_id': '2450306', 'value_name': 'Azul oscuro', 'attribute_group_id': 'OTHERS', 'attribute_group_name': 'Otros', 'value_struct': None, 'values': [{'id': '2450306', 'name': 'Azul oscuro', 'struct': None, 'source': 1}], 'source': 1, 'value_type': 'list'}, {'id': 'MODEL', 'name': 'Modelo', 'value_id': '35911492', 'value_name': 'A35 5G', 'attribute_group_id': 'OTHERS', 'attribute_group_name': 'Otros', 'value_struct': None, 'values': [{'id': '35911492', 'name': 'A35 5G', 'struct': None, 'source': 1}], 'source': 1, 'value_type': 'string'}, {'id': 'PACKAGE_LENGTH', 'name': 'Largo del paquete', 'value_id': None, 'value_name': '17.8 cm', 'attribute_group_id': 'OTHERS', 'attribute_group_name': 'Otros', 'value_struct': {'number': 17.8, 'unit': 'cm'}, 'values': [{'id': None, 'name': '17.8 cm', 'struct': {'number': 17.8, 'unit': 'cm'}, 'source': 4333789534002961}], 'source': 4333789534002961, 'value_type': 'number_unit'}, {'id': 'PACKAGE_WEIGHT', 'name': 'Peso del paquete', 'value_id': None, 'value_name': '310 g', 'attribute_group_id': 'OTHERS', 'attribute_group_name': 'Otros', 'value_struct': {'number': 310, 'unit': 'g'}, 'values': [{'id': None, 'name': '310 g', 'struct': {'number': 310, 'unit': 'g'}, 'source': 4333789534002961}], 'source': 4333789534002961, 'value_type': 'number_unit'}, {'id': 'PROCESSOR_MODEL', 'name': 'Modelo del procesador', 'value_id': '18074534', 'value_name': 'Exynos 1380', 'attribute_group_id': 'OTHERS', 'attribute_group_name': 'Otros', 'value_struct': None, 'values': [{'id': '18074534', 'name': 'Exynos 1380', 'struct': None, 'source': 1}], 'source': 1, 'value_type': 'string'}, {'id': 'WEIGHT', 'name': 'Peso', 'value_id': '7521867', 'value_name': '209 g', 'attribute_group_id': 'OTHERS', 'attribute_group_name': 'Otros', 'value_struct': {'number': 209, 'unit': 'g'}, 'values': [{'id': '7521867', 'name': '209 g', 'struct': {'number': 209, 'unit': 'g'}, 'source': 1}], 'source': 1, 'value_type': 'number_unit'}], [{'id': 'BRAND', 'name': 'Marca', 'value_id': '206', 'value_name': 'Samsung', 'attribute_group_id': 'OTHERS', 'attribute_group_name': 'Otros', 'value_struct': None, 'values': [{'id': '206', 'name': 'Samsung', 'struct': None, 'source': 1}], 'source': 1, 'value_type': 'string'}, {'id': 'COLOR', 'name': 'Color', 'value_id': '28752289', 'value_name': 'Titanium yellow', 'attribute_group_id': 'OTHERS', 'attribute_group_name': 'Otros', 'value_struct': None, 'values': [{'id': '28752289', 'name': 'Titanium yellow', 'struct': None, 'source': 1}], 'source': 1, 'value_type': 'string'}, {'id': 'GTIN', 'name': 'Código universal de producto', 'value_id': None, 'value_name': '718114296447', 'attribute_group_id': 'OTHERS', 'attribute_group_name': 'Otros', 'value_struct': None, 'values': [{'id': None, 'name': '718114296447', 'struct': None, 'source': 6402814585011704}], 'source': 6402814585011704, 'value_type': 'string'}, {'id': 'ITEM_CONDITION', 'name': 'Condición del ítem', 'value_id': '2230284', 'value_name': 'Nuevo', 'attribute_group_id': 'OTHERS', 'attribute_group_name': 'Otros', 'value_struct': None, 'values': [{'id': '2230284', 'name': 'Nuevo', 'struct': None, 'source': 6402814585011704}], 'source': 6402814585011704, 'value_type': 'list'}, {'id': 'LINE', 'name': 'Línea', 'value_id': '249991', 'value_name': 'Galaxy S', 'attribute_group_id': 'OTHERS', 'attribute_group_name': 'Otros', 'value_struct': None, 'values': [{'id': '249991', 'name': 'Galaxy S', 'struct': None, 'source': 1}], 'source': 1, 'value_type': 'string'}, {'id': 'MAIN_COLOR', 'name': 'Color principal', 'value_id': '2450300', 'value_name': 'Crema', 'attribute_group_id': 'OTHERS', 'attribute_group_name': 'Otros', 'value_struct': None, 'values': [{'id': '2450300', 'name': 'Crema', 'struct': None, 'source': 1}], 'source': 1, 'value_type': 'list'}, {'id': 'MODEL', 'name': 'Modelo', 'value_id': '28878197', 'value_name': 'S24 Ultra Dual SIM', 'attribute_group_id': 'OTHERS', 'attribute_group_name': 'Otros', 'value_struct': None, 'values': [{'id': '28878197', 'name': 'S24 Ultra Dual SIM', 'struct': None, 'source': 1}], 'source': 1, 'value_type': 'string'}, {'id': 'WEIGHT', 'name': 'Peso', 'value_id': '2146988', 'value_name': '232 g', 'attribute_group_id': 'OTHERS', 'attribute_group_name': 'Otros', 'value_struct': {'number': 232, 'unit': 'g'}, 'values': [{'id': '2146988', 'name': '232 g', 'struct': {'number': 232, 'unit': 'g'}, 'source': 1}], 'source': 1, 'value_type': 'number_unit'}], [{'id': 'BRAND', 'name': 'Marca', 'value_id': '9344', 'value_name': 'Apple', 'attribute_group_id': 'OTHERS', 'attribute_group_name': 'Otros', 'value_struct': None, 'values': [{'id': '9344', 'name': 'Apple', 'struct': None, 'source': 1}], 'source': 1, 'value_type': 'string'}, {'id': 'COLOR', 'name': 'Color', 'value_id': '52049', 'value_name': 'Negro', 'attribute_group_id': 'OTHERS', 'attribute_group_name': 'Otros', 'value_struct': None, 'values': [{'id': '52049', 'name': 'Negro', 'struct': None, 'source': 1}], 'source': 1, 'value_type': 'string'}, {'id': 'GTIN', 'name': 'Código universal de producto', 'value_id': None, 'value_name': '195949035005', 'attribute_group_id': 'OTHERS', 'attribute_group_name': 'Otros', 'value_struct': None, 'values': [{'id': None, 'name': '195949035005', 'struct': None, 'source': 3045741222775799}], 'source': 3045741222775799, 'value_type': 'string'}, {'id': 'ITEM_CONDITION', 'name': 'Condición del ítem', 'value_id': '2230284', 'value_name': 'Nuevo', 'attribute_group_id': 'OTHERS', 'attribute_group_name': 'Otros', 'value_struct': None, 'values': [{'id': '2230284', 'name': 'Nuevo', 'struct': None, 'source': 3045741222775799}], 'source': 3045741222775799, 'value_type': 'list'}, {'id': 'LINE', 'name': 'Línea', 'value_id': '25320927', 'value_name': 'iPhone 15', 'attribute_group_id': 'OTHERS', 'attribute_group_name': 'Otros', 'value_struct': None, 'values': [{'id': '25320927', 'name': 'iPhone 15', 'struct': None, 'source': 1}], 'source': 1, 'value_type': 'string'}, {'id': 'MAIN_COLOR', 'name': 'Color principal', 'value_id': '2450295', 'value_name': 'Negro', 'attribute_group_id': 'OTHERS', 'attribute_group_name': 'Otros', 'value_struct': None, 'values': [{'id': '2450295', 'name': 'Negro', 'struct': None, 'source': 1}], 'source': 1, 'value_type': 'list'}, {'id': 'MODEL', 'name': 'Modelo', 'value_id': '25527344', 'value_name': 'iPhone 15', 'attribute_group_id': 'OTHERS', 'attribute_group_name': 'Otros', 'value_struct': None, 'values': [{'id': '25527344', 'name': 'iPhone 15', 'struct': None, 'source': 1}], 'source': 1, 'value_type': 'string'}, {'id': 'PROCESSOR_MODEL', 'name': 'Modelo del procesador', 'value_id': '13188555', 'value_name': 'Apple A16 Bionic', 'attribute_group_id': 'OTHERS', 'attribute_group_name': 'Otros', 'value_struct': None, 'values': [{'id': '13188555', 'name': 'Apple A16 Bionic', 'struct': None, 'source': 1}], 'source': 1, 'value_type': 'string'}, {'id': 'WEIGHT', 'name': 'Peso', 'value_id': '2087815', 'value_name': '171 g', 'attribute_group_id': 'OTHERS', 'attribute_group_name': 'Otros', 'value_struct': {'number': 171, 'unit': 'g'}, 'values': [{'id': '2087815', 'name': '171 g', 'struct': {'number': 171, 'unit': 'g'}, 'source': 1}], 'source': 1, 'value_type': 'number_unit'}]]\n"
          ]
        }
      ]
    },
    {
      "cell_type": "code",
      "source": [
        "#listar toda la información de la columna  'sale_price' e imprimir el primer registro\n",
        "sale_prices = df_results['sale_price'].tolist()\n",
        "print(sale_prices[0])"
      ],
      "metadata": {
        "colab": {
          "base_uri": "https://localhost:8080/"
        },
        "collapsed": true,
        "id": "dfqaips0hEHp",
        "outputId": "fcac6806-e386-44e0-9054-a4ffc90372a0"
      },
      "execution_count": 71,
      "outputs": [
        {
          "output_type": "stream",
          "name": "stdout",
          "text": [
            "{'price_id': '', 'amount': 618900, 'conditions': {'eligible': True, 'context_restrictions': ['channel_marketplace'], 'start_time': '2024-09-16T16:27:23Z', 'end_time': '2024-09-26T16:27:23Z'}, 'currency_id': 'COP', 'exchange_rate': None, 'payment_method_prices': [], 'payment_method_type': 'TMP', 'regular_amount': 999900, 'type': 'promotion', 'metadata': {'campaign_id': 'P-MCO14223040', 'order_item_price': 656034, 'promotion_type': 'marketplace_campaign', 'variation': '52059', 'campaign_discount_percentage': 38.1, 'campaign_end_date': '2024-09-26T16:27:23Z', 'discount_meli_amount': 37134, 'experiment_id': 'cm_med_uplift_P-MCO14223040', 'funding_mode': 'coupon', 'promotion_id': 'OFFER-MCO2429633128-10548489860'}}\n"
          ]
        }
      ]
    },
    {
      "cell_type": "code",
      "source": [
        "#listar los 10 pimeros valores de la columna installments\n",
        "print(df_results['installments'].head(10).tolist())"
      ],
      "metadata": {
        "colab": {
          "base_uri": "https://localhost:8080/"
        },
        "collapsed": true,
        "id": "5TmY7flKlcVh",
        "outputId": "5c610e4c-73e7-448c-a714-dea91241623a"
      },
      "execution_count": 73,
      "outputs": [
        {
          "output_type": "stream",
          "name": "stdout",
          "text": [
            "[{'quantity': 36, 'amount': 17192, 'rate': 0, 'currency_id': 'COP', 'metadata': {'meliplus_installments': False, 'additional_bank_interest': True}}, {'quantity': 12, 'amount': 129450, 'rate': 0, 'currency_id': 'COP', 'metadata': {'meliplus_installments': False, 'additional_bank_interest': False}}, {'quantity': 36, 'amount': 38775, 'rate': 0, 'currency_id': 'COP', 'metadata': {'meliplus_installments': False, 'additional_bank_interest': True}}, {'quantity': 36, 'amount': 12136, 'rate': 0, 'currency_id': 'COP', 'metadata': {'meliplus_installments': False, 'additional_bank_interest': True}}, {'quantity': 36, 'amount': 95998, 'rate': 0, 'currency_id': 'COP', 'metadata': {'meliplus_installments': False, 'additional_bank_interest': True}}, {'quantity': 36, 'amount': 23025, 'rate': 0, 'currency_id': 'COP', 'metadata': {'meliplus_installments': False, 'additional_bank_interest': True}}, {'quantity': 36, 'amount': 10969, 'rate': 0, 'currency_id': 'COP', 'metadata': {'meliplus_installments': False, 'additional_bank_interest': True}}, {'quantity': 36, 'amount': 28154, 'rate': 0, 'currency_id': 'COP', 'metadata': {'meliplus_installments': False, 'additional_bank_interest': True}}, {'quantity': 36, 'amount': 112081, 'rate': 0, 'currency_id': 'COP', 'metadata': {'meliplus_installments': False, 'additional_bank_interest': True}}, {'quantity': 36, 'amount': 94219, 'rate': 0, 'currency_id': 'COP', 'metadata': {'meliplus_installments': False, 'additional_bank_interest': True}}]\n"
          ]
        }
      ]
    },
    {
      "cell_type": "code",
      "source": [
        "#listar los 5 pimeros valores de la columna seller\n",
        "print(df_results['seller'].head(5).tolist())"
      ],
      "metadata": {
        "colab": {
          "base_uri": "https://localhost:8080/"
        },
        "id": "UYTJ5b-6PcTG",
        "outputId": "df2508be-6889-419f-a9f6-9a4d9619c3b6"
      },
      "execution_count": 74,
      "outputs": [
        {
          "output_type": "stream",
          "name": "stdout",
          "text": [
            "[{'id': 1801699380, 'nickname': 'OFFERBUYS'}, {'id': 312658824, 'nickname': 'ALDNET TIENDAVIRTUAL'}, {'id': 406781619, 'nickname': 'TECHNOLOGYRIVER'}, {'id': 291001852, 'nickname': 'TECNOSUPER.'}, {'id': 476229825, 'nickname': 'RIVERTECHNOLOGYLTDA'}]\n"
          ]
        }
      ]
    },
    {
      "cell_type": "code",
      "source": [
        "#listar los 10 pimeros valores de la columna sale_terms\n",
        "print(df_items['sale_terms'].head(5).tolist())"
      ],
      "metadata": {
        "colab": {
          "base_uri": "https://localhost:8080/"
        },
        "id": "wD2AMhcTreHW",
        "outputId": "7bda8b89-44b4-4408-9fbd-fca2e69c47ec"
      },
      "execution_count": 75,
      "outputs": [
        {
          "output_type": "stream",
          "name": "stdout",
          "text": [
            "[[{'id': 'WARRANTY_TYPE', 'name': 'Tipo de garantía', 'value_id': '2230280', 'value_name': 'Garantía del vendedor', 'value_struct': None, 'values': [{'id': '2230280', 'name': 'Garantía del vendedor', 'struct': None}], 'value_type': 'list'}, {'id': 'WARRANTY_TIME', 'name': 'Tiempo de garantía', 'value_id': None, 'value_name': '60 días', 'value_struct': {'number': 60, 'unit': 'días'}, 'values': [{'id': None, 'name': '60 días', 'struct': {'number': 60, 'unit': 'días'}}], 'value_type': 'number_unit'}, {'id': 'PURCHASE_MAX_QUANTITY', 'name': 'Cantidad máxima de compra', 'value_id': None, 'value_name': '3', 'value_struct': None, 'values': [{'id': None, 'name': '3', 'struct': None}], 'value_type': 'number'}], [{'id': 'WARRANTY_TYPE', 'name': 'Tipo de garantía', 'value_id': '2230280', 'value_name': 'Garantía del vendedor', 'value_struct': None, 'values': [{'id': '2230280', 'name': 'Garantía del vendedor', 'struct': None}], 'value_type': 'list'}, {'id': 'WARRANTY_TIME', 'name': 'Tiempo de garantía', 'value_id': None, 'value_name': '3 meses', 'value_struct': {'number': 3, 'unit': 'meses'}, 'values': [{'id': None, 'name': '3 meses', 'struct': {'number': 3, 'unit': 'meses'}}], 'value_type': 'number_unit'}, {'id': 'MANUFACTURING_TIME', 'name': 'Disponibilidad de stock', 'value_id': None, 'value_name': '15 días', 'value_struct': {'number': 15, 'unit': 'días'}, 'values': [{'id': None, 'name': '15 días', 'struct': {'number': 15, 'unit': 'días'}}], 'value_type': 'number_unit'}], [{'id': 'WARRANTY_TYPE', 'name': 'Tipo de garantía', 'value_id': '2230279', 'value_name': 'Garantía de fábrica', 'value_struct': None, 'values': [{'id': '2230279', 'name': 'Garantía de fábrica', 'struct': None}], 'value_type': 'list'}, {'id': 'WARRANTY_TIME', 'name': 'Tiempo de garantía', 'value_id': None, 'value_name': '12 meses', 'value_struct': {'number': 12, 'unit': 'meses'}, 'values': [{'id': None, 'name': '12 meses', 'struct': {'number': 12, 'unit': 'meses'}}], 'value_type': 'number_unit'}], [{'id': 'WARRANTY_TYPE', 'name': 'Tipo de garantía', 'value_id': '2230279', 'value_name': 'Garantía de fábrica', 'value_struct': None, 'values': [{'id': '2230279', 'name': 'Garantía de fábrica', 'struct': None}], 'value_type': 'list'}, {'id': 'WARRANTY_TIME', 'name': 'Tiempo de garantía', 'value_id': None, 'value_name': '12 meses', 'value_struct': {'number': 12, 'unit': 'meses'}, 'values': [{'id': None, 'name': '12 meses', 'struct': {'number': 12, 'unit': 'meses'}}], 'value_type': 'number_unit'}], [{'id': 'WARRANTY_TYPE', 'name': 'Tipo de garantía', 'value_id': '2230279', 'value_name': 'Garantía de fábrica', 'value_struct': None, 'values': [{'id': '2230279', 'name': 'Garantía de fábrica', 'struct': None}], 'value_type': 'list'}, {'id': 'WARRANTY_TIME', 'name': 'Tiempo de garantía', 'value_id': None, 'value_name': '12 meses', 'value_struct': {'number': 12, 'unit': 'meses'}, 'values': [{'id': None, 'name': '12 meses', 'struct': {'number': 12, 'unit': 'meses'}}], 'value_type': 'number_unit'}]]\n"
          ]
        }
      ]
    },
    {
      "cell_type": "code",
      "source": [
        "#listar los 10 pimeros valores de la columna attributes\n",
        "print(df_items['attributes'].head(5).tolist())"
      ],
      "metadata": {
        "colab": {
          "base_uri": "https://localhost:8080/"
        },
        "collapsed": true,
        "id": "4w-9vUKUsU6W",
        "outputId": "5711e54e-d185-4fc2-b532-fe95b970b66d"
      },
      "execution_count": 76,
      "outputs": [
        {
          "output_type": "stream",
          "name": "stdout",
          "text": [
            "[[{'id': 'ACCESSORIES_INCLUDED', 'name': 'Accesorios incluidos', 'value_id': '8850573', 'value_name': '1 cable USB', 'values': [{'id': '8850573', 'name': '1 cable USB', 'struct': None}], 'value_type': 'string'}, {'id': 'BATTERY_CAPACITY', 'name': 'Capacidad de la batería', 'value_id': None, 'value_name': '7800 mAh', 'values': [{'id': None, 'name': '7800 mAh', 'struct': {'number': 7800, 'unit': 'mAh'}}], 'value_type': 'number_unit'}, {'id': 'BRAND', 'name': 'Marca', 'value_id': None, 'value_name': 'Generic', 'values': [{'id': None, 'name': 'Generic', 'struct': None}], 'value_type': 'string'}, {'id': 'CARRIER', 'name': 'Compañía telefónica', 'value_id': '298335', 'value_name': 'Liberado', 'values': [{'id': '298335', 'name': 'Liberado', 'struct': None}], 'value_type': 'list'}, {'id': 'DISPLAY_SIZE', 'name': 'Tamaño de la pantalla', 'value_id': None, 'value_name': '0.17 m', 'values': [{'id': None, 'name': '0.17 m', 'struct': {'number': 0.17, 'unit': 'm'}}], 'value_type': 'number_unit'}, {'id': 'HAZMAT_TRANSPORTABILITY', 'name': 'Transportabilidad Hazmat', 'value_id': '13414677', 'value_name': 'Exceptuado', 'values': [{'id': '13414677', 'name': 'Exceptuado', 'struct': None}], 'value_type': 'list'}, {'id': 'HEIGHT', 'name': 'Altura', 'value_id': None, 'value_name': '0.17 m', 'values': [{'id': None, 'name': '0.17 m', 'struct': {'number': 0.17, 'unit': 'm'}}], 'value_type': 'number_unit'}, {'id': 'INTERNAL_MEMORY', 'name': 'Memoria interna', 'value_id': None, 'value_name': '1 TB', 'values': [{'id': None, 'name': '1 TB', 'struct': {'number': 1, 'unit': 'TB'}}], 'value_type': 'number_unit'}, {'id': 'IS_DUAL_SIM', 'name': 'Es Dual SIM', 'value_id': '242085', 'value_name': 'Sí', 'values': [{'id': '242085', 'name': 'Sí', 'struct': None}], 'value_type': 'boolean'}, {'id': 'IS_GAMING_CELLPHONE', 'name': 'Es celular de juego', 'value_id': '242085', 'value_name': 'Sí', 'values': [{'id': '242085', 'name': 'Sí', 'struct': None}], 'value_type': 'boolean'}, {'id': 'IS_RUGGED_CELLPHONE', 'name': 'Es celular robusto', 'value_id': '242085', 'value_name': 'Sí', 'values': [{'id': '242085', 'name': 'Sí', 'struct': None}], 'value_type': 'boolean'}, {'id': 'ITEM_CONDITION', 'name': 'Condición del ítem', 'value_id': '2230284', 'value_name': 'Nuevo', 'values': [{'id': '2230284', 'name': 'Nuevo', 'struct': None}], 'value_type': 'list'}, {'id': 'LINE', 'name': 'Línea', 'value_id': '13126130', 'value_name': 'USB', 'values': [{'id': '13126130', 'name': 'USB', 'struct': None}], 'value_type': 'string'}, {'id': 'MOBILE_NETWORK', 'name': 'Red móvil', 'value_id': '7472027', 'value_name': '5G', 'values': [{'id': '7472027', 'name': '5G', 'struct': None}], 'value_type': 'string'}, {'id': 'MODEL', 'name': 'Modelo', 'value_id': None, 'value_name': 'I14 Por Max Global Edition Smartphone', 'values': [{'id': None, 'name': 'I14 Por Max Global Edition Smartphone', 'struct': None}], 'value_type': 'string'}, {'id': 'OPERATING_SYSTEM_NAME', 'name': 'Nombre del sistema operativo', 'value_id': '7403813', 'value_name': 'Android', 'values': [{'id': '7403813', 'name': 'Android', 'struct': None}], 'value_type': 'string'}, {'id': 'PROCESSOR_MODEL', 'name': 'Modelo del procesador', 'value_id': '23841065', 'value_name': 'Qualcomm 888', 'values': [{'id': '23841065', 'name': 'Qualcomm 888', 'struct': None}], 'value_type': 'string'}, {'id': 'PROCESSOR_SPEED', 'name': 'Velocidad del procesador', 'value_id': None, 'value_name': '2 GHz', 'values': [{'id': None, 'name': '2 GHz', 'struct': {'number': 2, 'unit': 'GHz'}}], 'value_type': 'number_unit'}, {'id': 'PRODUCT_LIFE', 'name': 'Duración del producto', 'value_id': None, 'value_name': '1 años', 'values': [{'id': None, 'name': '1 años', 'struct': {'number': 1, 'unit': 'años'}}], 'value_type': 'number_unit'}, {'id': 'RAM', 'name': 'Memoria RAM', 'value_id': None, 'value_name': '16 GB', 'values': [{'id': None, 'name': '16 GB', 'struct': {'number': 16, 'unit': 'GB'}}], 'value_type': 'number_unit'}, {'id': 'TECHNICAL_SERVICE_OR_REPLACEMENT_PARTS_PERIOD', 'name': 'Plazo de repuestos o servicio técnico', 'value_id': None, 'value_name': '1 años', 'values': [{'id': None, 'name': '1 años', 'struct': {'number': 1, 'unit': 'años'}}], 'value_type': 'number_unit'}, {'id': 'WITH_CAMERA', 'name': 'Con cámara', 'value_id': '242085', 'value_name': 'Sí', 'values': [{'id': '242085', 'name': 'Sí', 'struct': None}], 'value_type': 'boolean'}, {'id': 'WITH_FACIAL_RECOGNITION', 'name': 'Con reconocimiento facial', 'value_id': '242085', 'value_name': 'Sí', 'values': [{'id': '242085', 'name': 'Sí', 'struct': None}], 'value_type': 'boolean'}, {'id': 'WITH_GPS', 'name': 'Con GPS', 'value_id': '242085', 'value_name': 'Sí', 'values': [{'id': '242085', 'name': 'Sí', 'struct': None}], 'value_type': 'boolean'}, {'id': 'WITH_IMEI', 'name': 'Con IMEI', 'value_id': '242085', 'value_name': 'Sí', 'values': [{'id': '242085', 'name': 'Sí', 'struct': None}], 'value_type': 'boolean'}, {'id': 'WITH_PHYSICAL_QWERTY_KEYBOARD', 'name': 'Con teclado QWERTY físico', 'value_id': '242084', 'value_name': 'No', 'values': [{'id': '242084', 'name': 'No', 'struct': None}], 'value_type': 'boolean'}, {'id': 'WITH_RADIO', 'name': 'Con radio', 'value_id': '242085', 'value_name': 'Sí', 'values': [{'id': '242085', 'name': 'Sí', 'struct': None}], 'value_type': 'boolean'}, {'id': 'WITH_TOUCHSCREEN_DISPLAY', 'name': 'Con pantalla táctil', 'value_id': '242085', 'value_name': 'Sí', 'values': [{'id': '242085', 'name': 'Sí', 'struct': None}], 'value_type': 'boolean'}, {'id': 'WITH_WIFI', 'name': 'Con Wi-Fi', 'value_id': '242085', 'value_name': 'Sí', 'values': [{'id': '242085', 'name': 'Sí', 'struct': None}], 'value_type': 'boolean'}], [{'id': 'ACCESSORIES_INCLUDED', 'name': 'Accesorios incluidos', 'value_id': None, 'value_name': 'Antena,Batería,Cargador', 'values': [{'id': '8136003', 'name': 'Antena', 'struct': None}, {'id': '407950', 'name': 'Batería', 'struct': None}, {'id': '3877589', 'name': 'Cargador', 'struct': None}], 'value_type': 'string'}, {'id': 'BRAND', 'name': 'Marca', 'value_id': None, 'value_name': 'tecnology', 'values': [{'id': None, 'name': 'tecnology', 'struct': None}], 'value_type': 'string'}, {'id': 'CARRIER', 'name': 'Compañía telefónica', 'value_id': '298335', 'value_name': 'Liberado', 'values': [{'id': '298335', 'name': 'Liberado', 'struct': None}], 'value_type': 'list'}, {'id': 'ESIMS_NUMBER', 'name': 'Cantidad de eSIMs', 'value_id': None, 'value_name': '0', 'values': [{'id': None, 'name': '0', 'struct': None}], 'value_type': 'number'}, {'id': 'HAZMAT_TRANSPORTABILITY', 'name': 'Transportabilidad Hazmat', 'value_id': '13414677', 'value_name': 'Exceptuado', 'values': [{'id': '13414677', 'name': 'Exceptuado', 'struct': None}], 'value_type': 'list'}, {'id': 'INTERNAL_MEMORY', 'name': 'Memoria interna', 'value_id': None, 'value_name': '0 GB', 'values': [{'id': None, 'name': '0 GB', 'struct': {'number': 0, 'unit': 'GB'}}], 'value_type': 'number_unit'}, {'id': 'IS_DUAL_SIM', 'name': 'Es Dual SIM', 'value_id': '242085', 'value_name': 'Sí', 'values': [{'id': '242085', 'name': 'Sí', 'struct': None}], 'value_type': 'boolean'}, {'id': 'IS_GAMING_CELLPHONE', 'name': 'Es celular de juego', 'value_id': '242084', 'value_name': 'No', 'values': [{'id': '242084', 'name': 'No', 'struct': None}], 'value_type': 'boolean'}, {'id': 'IS_RUGGED_CELLPHONE', 'name': 'Es celular robusto', 'value_id': '242085', 'value_name': 'Sí', 'values': [{'id': '242085', 'name': 'Sí', 'struct': None}], 'value_type': 'boolean'}, {'id': 'ITEM_CONDITION', 'name': 'Condición del ítem', 'value_id': '2230284', 'value_name': 'Nuevo', 'values': [{'id': '2230284', 'name': 'Nuevo', 'struct': None}], 'value_type': 'list'}, {'id': 'LINE', 'name': 'Línea', 'value_id': None, 'value_name': 'rompemuros', 'values': [{'id': None, 'name': 'rompemuros', 'struct': None}], 'value_type': 'string'}, {'id': 'MOBILE_NETWORK', 'name': 'Red móvil', 'value_id': '367876', 'value_name': '4G/LTE', 'values': [{'id': '367876', 'name': '4G/LTE', 'struct': None}], 'value_type': 'string'}, {'id': 'MODEL', 'name': 'Modelo', 'value_id': None, 'value_name': 'J15', 'values': [{'id': None, 'name': 'J15', 'struct': None}], 'value_type': 'string'}, {'id': 'OPERATING_SYSTEM_NAME', 'name': 'Nombre del sistema operativo', 'value_id': None, 'value_name': 'technology', 'values': [{'id': None, 'name': 'technology', 'struct': None}], 'value_type': 'string'}, {'id': 'PROCESSOR_MODEL', 'name': 'Modelo del procesador', 'value_id': None, 'value_name': 'technology', 'values': [{'id': None, 'name': 'technology', 'struct': None}], 'value_type': 'string'}, {'id': 'PROCESSOR_SPEED', 'name': 'Velocidad del procesador', 'value_id': None, 'value_name': '0 GHz', 'values': [{'id': None, 'name': '0 GHz', 'struct': {'number': 0, 'unit': 'GHz'}}], 'value_type': 'number_unit'}, {'id': 'RAM', 'name': 'Memoria RAM', 'value_id': None, 'value_name': '0 GB', 'values': [{'id': None, 'name': '0 GB', 'struct': {'number': 0, 'unit': 'GB'}}], 'value_type': 'number_unit'}, {'id': 'SIM_CARD_SLOTS_NUMBER', 'name': 'Cantidad de ranuras para tarjeta SIM', 'value_id': None, 'value_name': '2', 'values': [{'id': None, 'name': '2', 'struct': None}], 'value_type': 'number'}, {'id': 'TELECOMMUNICATION_HOMOLOGATION_NUMBER', 'name': 'Número de homologación de telecomunicaciones', 'value_id': None, 'value_name': '001', 'values': [{'id': None, 'name': '001', 'struct': None}], 'value_type': 'string'}], [{'id': 'ACCESSORIES_INCLUDED', 'name': 'Accesorios incluidos', 'value_id': '20097849', 'value_name': 'Audífonos', 'values': [{'id': '20097849', 'name': 'Audífonos', 'struct': None}], 'value_type': 'string'}, {'id': 'BRAND', 'name': 'Marca', 'value_id': '251214', 'value_name': 'Tecno', 'values': [{'id': '251214', 'name': 'Tecno', 'struct': None}], 'value_type': 'string'}, {'id': 'CARRIER', 'name': 'Compañía telefónica', 'value_id': '298335', 'value_name': 'Liberado', 'values': [{'id': '298335', 'name': 'Liberado', 'struct': None}], 'value_type': 'list'}, {'id': 'ESIMS_NUMBER', 'name': 'Cantidad de eSIMs', 'value_id': '-1', 'value_name': None, 'values': [{'id': '-1', 'name': None, 'struct': None}], 'value_type': 'number'}, {'id': 'HAZMAT_TRANSPORTABILITY', 'name': 'Transportabilidad Hazmat', 'value_id': '13414677', 'value_name': 'Exceptuado', 'values': [{'id': '13414677', 'name': 'Exceptuado', 'struct': None}], 'value_type': 'list'}, {'id': 'INTERNAL_MEMORY', 'name': 'Memoria interna', 'value_id': None, 'value_name': '256 GB', 'values': [{'id': None, 'name': '256 GB', 'struct': {'number': 256, 'unit': 'GB'}}], 'value_type': 'number_unit'}, {'id': 'IS_DUAL_SIM', 'name': 'Es Dual SIM', 'value_id': '242085', 'value_name': 'Sí', 'values': [{'id': '242085', 'name': 'Sí', 'struct': None}], 'value_type': 'boolean'}, {'id': 'IS_GAMING_CELLPHONE', 'name': 'Es celular de juego', 'value_id': '-1', 'value_name': None, 'values': [{'id': '-1', 'name': None, 'struct': None}], 'value_type': 'boolean'}, {'id': 'IS_RUGGED_CELLPHONE', 'name': 'Es celular robusto', 'value_id': '-1', 'value_name': None, 'values': [{'id': '-1', 'name': None, 'struct': None}], 'value_type': 'boolean'}, {'id': 'ITEM_CONDITION', 'name': 'Condición del ítem', 'value_id': '2230284', 'value_name': 'Nuevo', 'values': [{'id': '2230284', 'name': 'Nuevo', 'struct': None}], 'value_type': 'list'}, {'id': 'LINE', 'name': 'Línea', 'value_id': '9062849', 'value_name': 'Camon', 'values': [{'id': '9062849', 'name': 'Camon', 'struct': None}], 'value_type': 'string'}, {'id': 'MOBILE_NETWORK', 'name': 'Red móvil', 'value_id': '-1', 'value_name': None, 'values': [{'id': '-1', 'name': None, 'struct': None}], 'value_type': 'string'}, {'id': 'MODEL', 'name': 'Modelo', 'value_id': None, 'value_name': 'camon 30', 'values': [{'id': None, 'name': 'camon 30', 'struct': None}], 'value_type': 'string'}, {'id': 'OPERATING_SYSTEM_NAME', 'name': 'Nombre del sistema operativo', 'value_id': '-1', 'value_name': None, 'values': [{'id': '-1', 'name': None, 'struct': None}], 'value_type': 'string'}, {'id': 'PROCESSOR_MODEL', 'name': 'Modelo del procesador', 'value_id': '-1', 'value_name': None, 'values': [{'id': '-1', 'name': None, 'struct': None}], 'value_type': 'string'}, {'id': 'PROCESSOR_SPEED', 'name': 'Velocidad del procesador', 'value_id': '-1', 'value_name': None, 'values': [{'id': '-1', 'name': None, 'struct': None}], 'value_type': 'number_unit'}, {'id': 'RAM', 'name': 'Memoria RAM', 'value_id': None, 'value_name': '16 GB', 'values': [{'id': None, 'name': '16 GB', 'struct': {'number': 16, 'unit': 'GB'}}], 'value_type': 'number_unit'}, {'id': 'SIM_CARD_SLOTS_NUMBER', 'name': 'Cantidad de ranuras para tarjeta SIM', 'value_id': None, 'value_name': '2', 'values': [{'id': None, 'name': '2', 'struct': None}], 'value_type': 'number'}], [{'id': 'BATTERY_CAPACITY', 'name': 'Capacidad de la batería', 'value_id': '98439', 'value_name': '5000 mAh', 'values': [{'id': '98439', 'name': '5000 mAh', 'struct': {'number': 5000, 'unit': 'mAh'}}], 'value_type': 'number_unit'}, {'id': 'BRAND', 'name': 'Marca', 'value_id': '9009352', 'value_name': 'Infinix', 'values': [{'id': '9009352', 'name': 'Infinix', 'struct': None}], 'value_type': 'string'}, {'id': 'CARRIER', 'name': 'Compañía telefónica', 'value_id': '298335', 'value_name': 'Liberado', 'values': [{'id': '298335', 'name': 'Liberado', 'struct': None}], 'value_type': 'list'}, {'id': 'CELLPHONES_ANATEL_HOMOLOGATION_NUMBER', 'name': 'Número de homologación de Anatel', 'value_id': '38978088', 'value_name': '18532415156', 'values': [{'id': '38978088', 'name': '18532415156', 'struct': None}], 'value_type': 'number'}, {'id': 'CHARGE_CONNECTOR_TYPE', 'name': 'Tipo de conector de carga', 'value_id': '8275367', 'value_name': 'USB-C', 'values': [{'id': '8275367', 'name': 'USB-C', 'struct': None}], 'value_type': 'list'}, {'id': 'COLOR', 'name': 'Color', 'value_id': '52049', 'value_name': 'Negro', 'values': [{'id': '52049', 'name': 'Negro', 'struct': None}], 'value_type': 'string'}, {'id': 'DISPLAY_REFRESH_RATE', 'name': 'Frecuencia de actualización de la pantalla', 'value_id': '9569230', 'value_name': '90 Hz', 'values': [{'id': '9569230', 'name': '90 Hz', 'struct': {'number': 90, 'unit': 'Hz'}}], 'value_type': 'number_unit'}, {'id': 'DISPLAY_RESOLUTION_TYPE', 'name': 'Tipo de resolución de la pantalla ', 'value_id': '9571056', 'value_name': 'HD+', 'values': [{'id': '9571056', 'name': 'HD+', 'struct': None}], 'value_type': 'string'}, {'id': 'DISPLAY_TECHNOLOGY', 'name': 'Tecnología de la pantalla', 'value_id': '80490', 'value_name': 'IPS', 'values': [{'id': '80490', 'name': 'IPS', 'struct': None}], 'value_type': 'string'}, {'id': 'GTIN', 'name': 'Código universal de producto', 'value_id': None, 'value_name': '763282166450', 'values': [{'id': None, 'name': '763282166450', 'struct': None}], 'value_type': 'string'}, {'id': 'HAZMAT_TRANSPORTABILITY', 'name': 'Transportabilidad Hazmat', 'value_id': '13414677', 'value_name': 'Exceptuado', 'values': [{'id': '13414677', 'name': 'Exceptuado', 'struct': None}], 'value_type': 'list'}, {'id': 'INTERNAL_MEMORY', 'name': 'Memoria interna', 'value_id': '312156', 'value_name': '256 GB', 'values': [{'id': '312156', 'name': '256 GB', 'struct': {'number': 256, 'unit': 'GB'}}], 'value_type': 'number_unit'}, {'id': 'IS_DUAL_SIM', 'name': 'Es Dual SIM', 'value_id': '242085', 'value_name': 'Sí', 'values': [{'id': '242085', 'name': 'Sí', 'struct': None}], 'value_type': 'boolean'}, {'id': 'IS_GAMING_CELLPHONE', 'name': 'Es celular de juego', 'value_id': '242085', 'value_name': 'Sí', 'values': [{'id': '242085', 'name': 'Sí', 'struct': None}], 'value_type': 'boolean'}, {'id': 'IS_RUGGED_CELLPHONE', 'name': 'Es celular robusto', 'value_id': '242085', 'value_name': 'Sí', 'values': [{'id': '242085', 'name': 'Sí', 'struct': None}], 'value_type': 'boolean'}, {'id': 'ITEM_CONDITION', 'name': 'Condición del ítem', 'value_id': '2230284', 'value_name': 'Nuevo', 'values': [{'id': '2230284', 'name': 'Nuevo', 'struct': None}], 'value_type': 'list'}, {'id': 'LINE', 'name': 'Línea', 'value_id': '196', 'value_name': 'Smart', 'values': [{'id': '196', 'name': 'Smart', 'struct': None}], 'value_type': 'string'}, {'id': 'MAIN_COLOR', 'name': 'Color principal', 'value_id': '2450295', 'value_name': 'Negro', 'values': [{'id': '2450295', 'name': 'Negro', 'struct': None}], 'value_type': 'list'}, {'id': 'MAIN_REAR_CAMERA_RESOLUTION', 'name': 'Resolución de la cámara trasera principal', 'value_id': '8232281', 'value_name': '50 Mpx', 'values': [{'id': '8232281', 'name': '50 Mpx', 'struct': {'number': 50, 'unit': 'Mpx'}}], 'value_type': 'number_unit'}, {'id': 'MOBILE_NETWORK', 'name': 'Red móvil', 'value_id': '367876', 'value_name': '4G/LTE', 'values': [{'id': '367876', 'name': '4G/LTE', 'struct': None}], 'value_type': 'string'}, {'id': 'MODEL', 'name': 'Modelo', 'value_id': '36289088', 'value_name': 'Smart 8 Pro', 'values': [{'id': '36289088', 'name': 'Smart 8 Pro', 'struct': None}], 'value_type': 'string'}, {'id': 'OPERATING_SYSTEM_NAME', 'name': 'Nombre del sistema operativo', 'value_id': '7403813', 'value_name': 'Android', 'values': [{'id': '7403813', 'name': 'Android', 'struct': None}], 'value_type': 'string'}, {'id': 'PROCESSOR_CORES_NUMBER', 'name': 'Cantidad de núcleos del procesador', 'value_id': '7206961', 'value_name': '8', 'values': [{'id': '7206961', 'name': '8', 'struct': None}], 'value_type': 'number'}, {'id': 'PROCESSOR_SPEED', 'name': 'Velocidad del procesador', 'value_id': '366052', 'value_name': '2.2 GHz', 'values': [{'id': '366052', 'name': '2.2 GHz', 'struct': {'number': 2.2, 'unit': 'GHz'}}], 'value_type': 'number_unit'}, {'id': 'RAM', 'name': 'Memoria RAM', 'value_id': '579564', 'value_name': '8 GB', 'values': [{'id': '579564', 'name': '8 GB', 'struct': {'number': 8, 'unit': 'GB'}}], 'value_type': 'number_unit'}, {'id': 'SIM_CARD_SLOTS_NUMBER', 'name': 'Cantidad de ranuras para tarjeta SIM', 'value_id': '2087802', 'value_name': '2', 'values': [{'id': '2087802', 'name': '2', 'struct': None}], 'value_type': 'number'}, {'id': 'TELECOMMUNICATION_HOMOLOGATION_NUMBER', 'name': 'Número de homologación de telecomunicaciones', 'value_id': '-1', 'value_name': None, 'values': [{'id': '-1', 'name': None, 'struct': None}], 'value_type': 'string'}, {'id': 'WITH_3_5_MM_JACK_CONNECTOR', 'name': 'Con conector jack 3.5 mm', 'value_id': '242085', 'value_name': 'Sí', 'values': [{'id': '242085', 'name': 'Sí', 'struct': None}], 'value_type': 'boolean'}, {'id': 'WITH_ACCELEROMETER', 'name': 'Con acelerómetro', 'value_id': '242085', 'value_name': 'Sí', 'values': [{'id': '242085', 'name': 'Sí', 'struct': None}], 'value_type': 'boolean'}, {'id': 'WITH_BLUETOOTH', 'name': 'Con Bluetooth', 'value_id': '242085', 'value_name': 'Sí', 'values': [{'id': '242085', 'name': 'Sí', 'struct': None}], 'value_type': 'boolean'}, {'id': 'WITH_CAMERA', 'name': 'Con cámara', 'value_id': '242085', 'value_name': 'Sí', 'values': [{'id': '242085', 'name': 'Sí', 'struct': None}], 'value_type': 'boolean'}, {'id': 'WITH_FACIAL_RECOGNITION', 'name': 'Con reconocimiento facial', 'value_id': '242085', 'value_name': 'Sí', 'values': [{'id': '242085', 'name': 'Sí', 'struct': None}], 'value_type': 'boolean'}, {'id': 'WITH_FAST_CHARGING', 'name': 'Con carga rápida', 'value_id': '242085', 'value_name': 'Sí', 'values': [{'id': '242085', 'name': 'Sí', 'struct': None}], 'value_type': 'boolean'}, {'id': 'WITH_FINGERPRINT_READER', 'name': 'Con lector de huella digital', 'value_id': '242085', 'value_name': 'Sí', 'values': [{'id': '242085', 'name': 'Sí', 'struct': None}], 'value_type': 'boolean'}, {'id': 'WITH_FRONT_CAMERA_FLASH', 'name': 'Con flash en la cámara frontal', 'value_id': '242085', 'value_name': 'Sí', 'values': [{'id': '242085', 'name': 'Sí', 'struct': None}], 'value_type': 'boolean'}, {'id': 'WITH_GPS', 'name': 'Con GPS', 'value_id': '242085', 'value_name': 'Sí', 'values': [{'id': '242085', 'name': 'Sí', 'struct': None}], 'value_type': 'boolean'}, {'id': 'WITH_MEMORY_CARD_SLOT', 'name': 'Con ranura para tarjeta de memoria', 'value_id': '242085', 'value_name': 'Sí', 'values': [{'id': '242085', 'name': 'Sí', 'struct': None}], 'value_type': 'boolean'}, {'id': 'WITH_PHYSICAL_QWERTY_KEYBOARD', 'name': 'Con teclado QWERTY físico', 'value_id': '242084', 'value_name': 'No', 'values': [{'id': '242084', 'name': 'No', 'struct': None}], 'value_type': 'boolean'}, {'id': 'WITH_PROXIMITY_SENSOR', 'name': 'Con sensor de proximidad', 'value_id': '242085', 'value_name': 'Sí', 'values': [{'id': '242085', 'name': 'Sí', 'struct': None}], 'value_type': 'boolean'}, {'id': 'WITH_RADIO', 'name': 'Con radio', 'value_id': '242085', 'value_name': 'Sí', 'values': [{'id': '242085', 'name': 'Sí', 'struct': None}], 'value_type': 'boolean'}, {'id': 'WITH_TOUCHSCREEN_DISPLAY', 'name': 'Con pantalla táctil', 'value_id': '242085', 'value_name': 'Sí', 'values': [{'id': '242085', 'name': 'Sí', 'struct': None}], 'value_type': 'boolean'}, {'id': 'WITH_USB_CONNECTOR', 'name': 'Con conector USB', 'value_id': '242085', 'value_name': 'Sí', 'values': [{'id': '242085', 'name': 'Sí', 'struct': None}], 'value_type': 'boolean'}, {'id': 'WITH_WIFI', 'name': 'Con Wi-Fi', 'value_id': '242085', 'value_name': 'Sí', 'values': [{'id': '242085', 'name': 'Sí', 'struct': None}], 'value_type': 'boolean'}], [{'id': 'BRAND', 'name': 'Marca', 'value_id': '251214', 'value_name': 'Tecno', 'values': [{'id': '251214', 'name': 'Tecno', 'struct': None}], 'value_type': 'string'}, {'id': 'CARRIER', 'name': 'Compañía telefónica', 'value_id': '298335', 'value_name': 'Liberado', 'values': [{'id': '298335', 'name': 'Liberado', 'struct': None}], 'value_type': 'list'}, {'id': 'CELLPHONES_ANATEL_HOMOLOGATION_NUMBER', 'name': 'Número de homologación de Anatel', 'value_id': '38969065', 'value_name': '233922313713', 'values': [{'id': '38969065', 'name': '233922313713', 'struct': None}], 'value_type': 'number'}, {'id': 'COLOR', 'name': 'Color', 'value_id': '52055', 'value_name': 'Blanco', 'values': [{'id': '52055', 'name': 'Blanco', 'struct': None}], 'value_type': 'string'}, {'id': 'GTIN', 'name': 'Código universal de producto', 'value_id': None, 'value_name': '4894947010569', 'values': [{'id': None, 'name': '4894947010569', 'struct': None}], 'value_type': 'string'}, {'id': 'HAZMAT_TRANSPORTABILITY', 'name': 'Transportabilidad Hazmat', 'value_id': '13414677', 'value_name': 'Exceptuado', 'values': [{'id': '13414677', 'name': 'Exceptuado', 'struct': None}], 'value_type': 'list'}, {'id': 'INTERNAL_MEMORY', 'name': 'Memoria interna', 'value_id': '84611', 'value_name': '128 GB', 'values': [{'id': '84611', 'name': '128 GB', 'struct': {'number': 128, 'unit': 'GB'}}], 'value_type': 'number_unit'}, {'id': 'IS_DUAL_SIM', 'name': 'Es Dual SIM', 'value_id': '242084', 'value_name': 'No', 'values': [{'id': '242084', 'name': 'No', 'struct': None}], 'value_type': 'boolean'}, {'id': 'IS_GAMING_CELLPHONE', 'name': 'Es celular de juego', 'value_id': '242084', 'value_name': 'No', 'values': [{'id': '242084', 'name': 'No', 'struct': None}], 'value_type': 'boolean'}, {'id': 'IS_RUGGED_CELLPHONE', 'name': 'Es celular robusto', 'value_id': '242084', 'value_name': 'No', 'values': [{'id': '242084', 'name': 'No', 'struct': None}], 'value_type': 'boolean'}, {'id': 'ITEM_CONDITION', 'name': 'Condición del ítem', 'value_id': '2230284', 'value_name': 'Nuevo', 'values': [{'id': '2230284', 'name': 'Nuevo', 'struct': None}], 'value_type': 'list'}, {'id': 'LINE', 'name': 'Línea', 'value_id': '2565003', 'value_name': 'Spark', 'values': [{'id': '2565003', 'name': 'Spark', 'struct': None}], 'value_type': 'string'}, {'id': 'MOBILE_NETWORK', 'name': 'Red móvil', 'value_id': '367876', 'value_name': '4G/LTE', 'values': [{'id': '367876', 'name': '4G/LTE', 'struct': None}], 'value_type': 'string'}, {'id': 'MODEL', 'name': 'Modelo', 'value_id': '28663194', 'value_name': 'Go 2024', 'values': [{'id': '28663194', 'name': 'Go 2024', 'struct': None}], 'value_type': 'string'}, {'id': 'OPERATING_SYSTEM_NAME', 'name': 'Nombre del sistema operativo', 'value_id': '7403813', 'value_name': 'Android', 'values': [{'id': '7403813', 'name': 'Android', 'struct': None}], 'value_type': 'string'}, {'id': 'PROCESSOR_MODEL', 'name': 'Modelo del procesador', 'value_id': '28105189', 'value_name': 'Unisoc T606 UMS9230', 'values': [{'id': '28105189', 'name': 'Unisoc T606 UMS9230', 'struct': None}], 'value_type': 'string'}, {'id': 'PROCESSOR_SPEED', 'name': 'Velocidad del procesador', 'value_id': '365947', 'value_name': '1.6 GHz', 'values': [{'id': '365947', 'name': '1.6 GHz', 'struct': {'number': 1.6, 'unit': 'GHz'}}], 'value_type': 'number_unit'}, {'id': 'RAM', 'name': 'Memoria RAM', 'value_id': '98852', 'value_name': '4 GB', 'values': [{'id': '98852', 'name': '4 GB', 'struct': {'number': 4, 'unit': 'GB'}}], 'value_type': 'number_unit'}, {'id': 'SELLER_SKU', 'name': 'SKU', 'value_id': None, 'value_name': 'TS339', 'values': [{'id': None, 'name': 'TS339', 'struct': None}], 'value_type': 'string'}, {'id': 'SIM_CARD_SLOTS_NUMBER', 'name': 'Cantidad de ranuras para tarjeta SIM', 'value_id': '2087812', 'value_name': '1', 'values': [{'id': '2087812', 'name': '1', 'struct': None}], 'value_type': 'number'}, {'id': 'TELECOMMUNICATION_HOMOLOGATION_NUMBER', 'name': 'Número de homologación de telecomunicaciones', 'value_id': None, 'value_name': '4894947010569', 'values': [{'id': None, 'name': '4894947010569', 'struct': None}], 'value_type': 'string'}]]\n"
          ]
        }
      ]
    },
    {
      "cell_type": "code",
      "source": [],
      "metadata": {
        "id": "gIOIm7UJPY6w"
      },
      "execution_count": 76,
      "outputs": []
    },
    {
      "cell_type": "markdown",
      "source": [
        "# Tratamiento de los datos para ser utilizados"
      ],
      "metadata": {
        "id": "683uCRwNhJqg"
      }
    },
    {
      "cell_type": "code",
      "source": [
        "# copiar la columna attibutes en un nuevo dataset que se llama atributos\n",
        "atributos = df_results['attributes'].copy()"
      ],
      "metadata": {
        "id": "brek6WQfhJA0"
      },
      "execution_count": 77,
      "outputs": []
    },
    {
      "cell_type": "code",
      "source": [
        "# Normalizar los datos de sale_price, se impirmen los pirmeros 5 valores\n",
        "df_valor_venta = pd.json_normalize(df_results['sale_price'])\n",
        "#df_valor_venta.to_csv('df_valor_venta.csv', index=False)\n",
        "print(df_valor_venta.head().to_string(index=False))"
      ],
      "metadata": {
        "colab": {
          "base_uri": "https://localhost:8080/"
        },
        "id": "Ss1lN79fiUXe",
        "outputId": "457d3f1a-18ab-4ed9-f334-2e1f565e5c2b"
      },
      "execution_count": 78,
      "outputs": [
        {
          "output_type": "stream",
          "name": "stdout",
          "text": [
            "price_id    amount currency_id exchange_rate payment_method_prices payment_method_type  regular_amount      type  conditions.eligible conditions.context_restrictions conditions.start_time  conditions.end_time metadata.campaign_id  metadata.order_item_price metadata.promotion_type metadata.variation  metadata.campaign_discount_percentage metadata.campaign_end_date  metadata.discount_meli_amount      metadata.experiment_id metadata.funding_mode           metadata.promotion_id  metadata.purchase_discount_percentage metadata.purchase_discount_id metadata.purchase_discount_type metadata.purchase_discount_campaign_id  metadata.buy_quantity  metadata.pay_quantity\n",
            "          618900.0         COP          None                    []                 TMP        999900.0 promotion                 True           [channel_marketplace]  2024-09-16T16:27:23Z 2024-09-26T16:27:23Z        P-MCO14223040                   656034.0    marketplace_campaign              52059                                  38.10       2024-09-26T16:27:23Z                        37134.0 cm_med_uplift_P-MCO14223040                coupon OFFER-MCO2429633128-10548489860                                    NaN                           NaN                             NaN                                    NaN                    NaN                    NaN\n",
            "         1553400.0         COP          None                    []                 TMP       2589000.0 promotion                 True           [channel_marketplace]  2024-09-24T12:10:55Z 2024-10-01T04:50:00Z        P-MCO14223040                  1656960.0    marketplace_campaign              52059                                  40.00       2024-10-01T04:50:00Z                       103560.0 cm_med_uplift_P-MCO14223040                coupon OFFER-MCO1388200741-10558264684                                    NaN                           NaN                             NaN                                    NaN                    NaN                    NaN\n",
            "         1395900.0         COP          None                    []                 TMP       1929900.0 promotion                 True           [channel_marketplace]  2024-09-19T05:09:00Z 2024-10-01T04:59:00Z        P-MCO14213154                  1449900.0    marketplace_campaign                NaN                                  27.67       2024-10-01T04:59:00Z                        54000.0                         NaN                coupon OFFER-MCO2325852928-10552426204                                    NaN                           NaN                             NaN                                    NaN                    NaN                    NaN\n",
            "          436900.0         COP          None                    []                 TMP             NaN  standard                 True                              []                  None                 None                  NaN                        NaN                     NaN                NaN                                    NaN                        NaN                            NaN                         NaN                   NaN                             NaN                                    NaN                           NaN                             NaN                                    NaN                    NaN                    NaN\n",
            "         3455928.0         COP          None                    []                 TMP       4799900.0 promotion                 True           [channel_marketplace]  2024-09-17T05:00:00Z 2024-10-17T04:59:59Z                  NaN                        NaN                  custom                NaN                                    NaN                        NaN                            NaN                         NaN                   NaN OFFER-MCO2208945346-10549364752                                    NaN                           NaN                             NaN                                    NaN                    NaN                    NaN\n"
          ]
        }
      ]
    },
    {
      "cell_type": "code",
      "source": [
        "# Normalizar los datos de la columna installments del set de datos df_results\n",
        "df_installments = pd.json_normalize(df_results['installments'])\n",
        "print(df_installments.head(5).to_string())"
      ],
      "metadata": {
        "colab": {
          "base_uri": "https://localhost:8080/"
        },
        "id": "Py0yldXBKEY7",
        "outputId": "6b657c44-3184-4372-fc99-e0a9f825fd44"
      },
      "execution_count": 79,
      "outputs": [
        {
          "output_type": "stream",
          "name": "stdout",
          "text": [
            "   quantity    amount  rate currency_id metadata.meliplus_installments metadata.additional_bank_interest\n",
            "0        36   17192.0     0         COP                          False                              True\n",
            "1        12  129450.0     0         COP                          False                             False\n",
            "2        36   38775.0     0         COP                          False                              True\n",
            "3        36   12136.0     0         COP                          False                              True\n",
            "4        36   95998.0     0         COP                          False                              True\n"
          ]
        }
      ]
    },
    {
      "cell_type": "code",
      "source": [
        "# Normalizar los datos de la columna Shiping del set de datos df_results\n",
        "df_shipping = pd.json_normalize(df_results['shipping'])\n",
        "print(df_shipping.head(5).to_string())"
      ],
      "metadata": {
        "colab": {
          "base_uri": "https://localhost:8080/"
        },
        "id": "CVW7cNAPP5sB",
        "outputId": "b1efe7de-83fc-4588-9fcb-8e9bb4bf4043"
      },
      "execution_count": 80,
      "outputs": [
        {
          "output_type": "stream",
          "name": "stdout",
          "text": [
            "   store_pick_up  free_shipping  logistic_type mode                                                                              tags benefits promise  shipping_score\n",
            "0          False           True  cross_docking  me2                                         [fbm_in_process, mandatory_free_shipping]     None    None              -1\n",
            "1          False           True    xd_drop_off  me2                                        [self_service_in, mandatory_free_shipping]     None    None              -1\n",
            "2          False           True  cross_docking  me2                                        [self_service_in, mandatory_free_shipping]     None    None              -1\n",
            "3          False           True    fulfillment  me2  [fulfillment, self_service_out, mandatory_free_shipping, self_service_available]     None    None              -1\n",
            "4          False           True    xd_drop_off  me2                                        [self_service_in, mandatory_free_shipping]     None    None              -1\n"
          ]
        }
      ]
    },
    {
      "cell_type": "code",
      "source": [
        "# Normalizar los datos de la columna seller del set de datos df_results\n",
        "df_seller = pd.json_normalize(df_results['seller'])\n",
        "print(df_seller.head(5).to_string())"
      ],
      "metadata": {
        "colab": {
          "base_uri": "https://localhost:8080/"
        },
        "id": "r21J7PwQkNP_",
        "outputId": "80b47f1f-9916-40bd-f8dd-f58b2a7a4656"
      },
      "execution_count": 81,
      "outputs": [
        {
          "output_type": "stream",
          "name": "stdout",
          "text": [
            "           id              nickname\n",
            "0  1801699380             OFFERBUYS\n",
            "1   312658824  ALDNET TIENDAVIRTUAL\n",
            "2   406781619       TECHNOLOGYRIVER\n",
            "3   291001852           TECNOSUPER.\n",
            "4   476229825   RIVERTECHNOLOGYLTDA\n"
          ]
        }
      ]
    },
    {
      "cell_type": "code",
      "source": [
        "# NOrmalizar los datos de Sale_terms del set de datos Items\n",
        "df_sales_terms =  df_items['sale_terms'].apply(lambda x: {item['name']: item ['value_name'] for item in x}).apply(pd.Series)\n",
        "print(df_sales_terms.head(5).to_string())"
      ],
      "metadata": {
        "colab": {
          "base_uri": "https://localhost:8080/"
        },
        "id": "OaJausRDG_rn",
        "outputId": "c958d6fc-618a-44f7-adc6-d06aa5addfb4"
      },
      "execution_count": 82,
      "outputs": [
        {
          "output_type": "stream",
          "name": "stdout",
          "text": [
            "        Tipo de garantía Tiempo de garantía Cantidad máxima de compra Disponibilidad de stock\n",
            "0  Garantía del vendedor            60 días                         3                     NaN\n",
            "1  Garantía del vendedor            3 meses                       NaN                 15 días\n",
            "2    Garantía de fábrica           12 meses                       NaN                     NaN\n",
            "3    Garantía de fábrica           12 meses                       NaN                     NaN\n",
            "4    Garantía de fábrica           12 meses                       NaN                     NaN\n"
          ]
        }
      ]
    },
    {
      "cell_type": "code",
      "source": [
        "#normalizar los datos de la columan atributes del set de datos items\n",
        "df_atributes =  df_items['attributes'].apply(lambda x: {item['name']: item ['value_name'] for item in x}).apply(pd.Series)\n",
        "df_atributes.head()"
      ],
      "metadata": {
        "colab": {
          "base_uri": "https://localhost:8080/",
          "height": 342
        },
        "id": "LIMFo7goHIAG",
        "outputId": "19aac14e-951f-4080-d307-1146eaa3a9ed"
      },
      "execution_count": 83,
      "outputs": [
        {
          "output_type": "execute_result",
          "data": {
            "text/plain": [
              "      Accesorios incluidos Capacidad de la batería      Marca  \\\n",
              "0              1 cable USB                7800 mAh    Generic   \n",
              "1  Antena,Batería,Cargador                     NaN  tecnology   \n",
              "2                Audífonos                     NaN      Tecno   \n",
              "3                      NaN                5000 mAh    Infinix   \n",
              "4                      NaN                     NaN      Tecno   \n",
              "\n",
              "  Compañía telefónica Tamaño de la pantalla Transportabilidad Hazmat  Altura  \\\n",
              "0            Liberado                0.17 m               Exceptuado  0.17 m   \n",
              "1            Liberado                   NaN               Exceptuado     NaN   \n",
              "2            Liberado                   NaN               Exceptuado     NaN   \n",
              "3            Liberado                   NaN               Exceptuado     NaN   \n",
              "4            Liberado                   NaN               Exceptuado     NaN   \n",
              "\n",
              "  Memoria interna Es Dual SIM Es celular de juego  ... Fuente del producto  \\\n",
              "0            1 TB          Sí                  Sí  ...                 NaN   \n",
              "1            0 GB          Sí                  No  ...                 NaN   \n",
              "2          256 GB          Sí                None  ...                 NaN   \n",
              "3          256 GB          Sí                  Sí  ...                 NaN   \n",
              "4          128 GB          No                  No  ...                 NaN   \n",
              "\n",
              "  Relación de aspecto de la pantalla secundaria  \\\n",
              "0                                           NaN   \n",
              "1                                           NaN   \n",
              "2                                           NaN   \n",
              "3                                           NaN   \n",
              "4                                           NaN   \n",
              "\n",
              "  Relación de aspecto de la pantalla plegada secundaria Diámetro Incluye tapa  \\\n",
              "0                                                NaN         NaN          NaN   \n",
              "1                                                NaN         NaN          NaN   \n",
              "2                                                NaN         NaN          NaN   \n",
              "3                                                NaN         NaN          NaN   \n",
              "4                                                NaN         NaN          NaN   \n",
              "\n",
              "  Material de la olla Tipo de olla Cantidad de sistemas de seguridad  \\\n",
              "0                 NaN          NaN                               NaN   \n",
              "1                 NaN          NaN                               NaN   \n",
              "2                 NaN          NaN                               NaN   \n",
              "3                 NaN          NaN                               NaN   \n",
              "4                 NaN          NaN                               NaN   \n",
              "\n",
              "  Capacidad en volumen Con revestimiento antiadherente  \n",
              "0                  NaN                             NaN  \n",
              "1                  NaN                             NaN  \n",
              "2                  NaN                             NaN  \n",
              "3                  NaN                             NaN  \n",
              "4                  NaN                             NaN  \n",
              "\n",
              "[5 rows x 213 columns]"
            ],
            "text/html": [
              "\n",
              "  <div id=\"df-1fdfe4c3-0676-465f-9f78-2fe3a5944d57\" class=\"colab-df-container\">\n",
              "    <div>\n",
              "<style scoped>\n",
              "    .dataframe tbody tr th:only-of-type {\n",
              "        vertical-align: middle;\n",
              "    }\n",
              "\n",
              "    .dataframe tbody tr th {\n",
              "        vertical-align: top;\n",
              "    }\n",
              "\n",
              "    .dataframe thead th {\n",
              "        text-align: right;\n",
              "    }\n",
              "</style>\n",
              "<table border=\"1\" class=\"dataframe\">\n",
              "  <thead>\n",
              "    <tr style=\"text-align: right;\">\n",
              "      <th></th>\n",
              "      <th>Accesorios incluidos</th>\n",
              "      <th>Capacidad de la batería</th>\n",
              "      <th>Marca</th>\n",
              "      <th>Compañía telefónica</th>\n",
              "      <th>Tamaño de la pantalla</th>\n",
              "      <th>Transportabilidad Hazmat</th>\n",
              "      <th>Altura</th>\n",
              "      <th>Memoria interna</th>\n",
              "      <th>Es Dual SIM</th>\n",
              "      <th>Es celular de juego</th>\n",
              "      <th>...</th>\n",
              "      <th>Fuente del producto</th>\n",
              "      <th>Relación de aspecto de la pantalla secundaria</th>\n",
              "      <th>Relación de aspecto de la pantalla plegada secundaria</th>\n",
              "      <th>Diámetro</th>\n",
              "      <th>Incluye tapa</th>\n",
              "      <th>Material de la olla</th>\n",
              "      <th>Tipo de olla</th>\n",
              "      <th>Cantidad de sistemas de seguridad</th>\n",
              "      <th>Capacidad en volumen</th>\n",
              "      <th>Con revestimiento antiadherente</th>\n",
              "    </tr>\n",
              "  </thead>\n",
              "  <tbody>\n",
              "    <tr>\n",
              "      <th>0</th>\n",
              "      <td>1 cable USB</td>\n",
              "      <td>7800 mAh</td>\n",
              "      <td>Generic</td>\n",
              "      <td>Liberado</td>\n",
              "      <td>0.17 m</td>\n",
              "      <td>Exceptuado</td>\n",
              "      <td>0.17 m</td>\n",
              "      <td>1 TB</td>\n",
              "      <td>Sí</td>\n",
              "      <td>Sí</td>\n",
              "      <td>...</td>\n",
              "      <td>NaN</td>\n",
              "      <td>NaN</td>\n",
              "      <td>NaN</td>\n",
              "      <td>NaN</td>\n",
              "      <td>NaN</td>\n",
              "      <td>NaN</td>\n",
              "      <td>NaN</td>\n",
              "      <td>NaN</td>\n",
              "      <td>NaN</td>\n",
              "      <td>NaN</td>\n",
              "    </tr>\n",
              "    <tr>\n",
              "      <th>1</th>\n",
              "      <td>Antena,Batería,Cargador</td>\n",
              "      <td>NaN</td>\n",
              "      <td>tecnology</td>\n",
              "      <td>Liberado</td>\n",
              "      <td>NaN</td>\n",
              "      <td>Exceptuado</td>\n",
              "      <td>NaN</td>\n",
              "      <td>0 GB</td>\n",
              "      <td>Sí</td>\n",
              "      <td>No</td>\n",
              "      <td>...</td>\n",
              "      <td>NaN</td>\n",
              "      <td>NaN</td>\n",
              "      <td>NaN</td>\n",
              "      <td>NaN</td>\n",
              "      <td>NaN</td>\n",
              "      <td>NaN</td>\n",
              "      <td>NaN</td>\n",
              "      <td>NaN</td>\n",
              "      <td>NaN</td>\n",
              "      <td>NaN</td>\n",
              "    </tr>\n",
              "    <tr>\n",
              "      <th>2</th>\n",
              "      <td>Audífonos</td>\n",
              "      <td>NaN</td>\n",
              "      <td>Tecno</td>\n",
              "      <td>Liberado</td>\n",
              "      <td>NaN</td>\n",
              "      <td>Exceptuado</td>\n",
              "      <td>NaN</td>\n",
              "      <td>256 GB</td>\n",
              "      <td>Sí</td>\n",
              "      <td>None</td>\n",
              "      <td>...</td>\n",
              "      <td>NaN</td>\n",
              "      <td>NaN</td>\n",
              "      <td>NaN</td>\n",
              "      <td>NaN</td>\n",
              "      <td>NaN</td>\n",
              "      <td>NaN</td>\n",
              "      <td>NaN</td>\n",
              "      <td>NaN</td>\n",
              "      <td>NaN</td>\n",
              "      <td>NaN</td>\n",
              "    </tr>\n",
              "    <tr>\n",
              "      <th>3</th>\n",
              "      <td>NaN</td>\n",
              "      <td>5000 mAh</td>\n",
              "      <td>Infinix</td>\n",
              "      <td>Liberado</td>\n",
              "      <td>NaN</td>\n",
              "      <td>Exceptuado</td>\n",
              "      <td>NaN</td>\n",
              "      <td>256 GB</td>\n",
              "      <td>Sí</td>\n",
              "      <td>Sí</td>\n",
              "      <td>...</td>\n",
              "      <td>NaN</td>\n",
              "      <td>NaN</td>\n",
              "      <td>NaN</td>\n",
              "      <td>NaN</td>\n",
              "      <td>NaN</td>\n",
              "      <td>NaN</td>\n",
              "      <td>NaN</td>\n",
              "      <td>NaN</td>\n",
              "      <td>NaN</td>\n",
              "      <td>NaN</td>\n",
              "    </tr>\n",
              "    <tr>\n",
              "      <th>4</th>\n",
              "      <td>NaN</td>\n",
              "      <td>NaN</td>\n",
              "      <td>Tecno</td>\n",
              "      <td>Liberado</td>\n",
              "      <td>NaN</td>\n",
              "      <td>Exceptuado</td>\n",
              "      <td>NaN</td>\n",
              "      <td>128 GB</td>\n",
              "      <td>No</td>\n",
              "      <td>No</td>\n",
              "      <td>...</td>\n",
              "      <td>NaN</td>\n",
              "      <td>NaN</td>\n",
              "      <td>NaN</td>\n",
              "      <td>NaN</td>\n",
              "      <td>NaN</td>\n",
              "      <td>NaN</td>\n",
              "      <td>NaN</td>\n",
              "      <td>NaN</td>\n",
              "      <td>NaN</td>\n",
              "      <td>NaN</td>\n",
              "    </tr>\n",
              "  </tbody>\n",
              "</table>\n",
              "<p>5 rows × 213 columns</p>\n",
              "</div>\n",
              "    <div class=\"colab-df-buttons\">\n",
              "\n",
              "  <div class=\"colab-df-container\">\n",
              "    <button class=\"colab-df-convert\" onclick=\"convertToInteractive('df-1fdfe4c3-0676-465f-9f78-2fe3a5944d57')\"\n",
              "            title=\"Convert this dataframe to an interactive table.\"\n",
              "            style=\"display:none;\">\n",
              "\n",
              "  <svg xmlns=\"http://www.w3.org/2000/svg\" height=\"24px\" viewBox=\"0 -960 960 960\">\n",
              "    <path d=\"M120-120v-720h720v720H120Zm60-500h600v-160H180v160Zm220 220h160v-160H400v160Zm0 220h160v-160H400v160ZM180-400h160v-160H180v160Zm440 0h160v-160H620v160ZM180-180h160v-160H180v160Zm440 0h160v-160H620v160Z\"/>\n",
              "  </svg>\n",
              "    </button>\n",
              "\n",
              "  <style>\n",
              "    .colab-df-container {\n",
              "      display:flex;\n",
              "      gap: 12px;\n",
              "    }\n",
              "\n",
              "    .colab-df-convert {\n",
              "      background-color: #E8F0FE;\n",
              "      border: none;\n",
              "      border-radius: 50%;\n",
              "      cursor: pointer;\n",
              "      display: none;\n",
              "      fill: #1967D2;\n",
              "      height: 32px;\n",
              "      padding: 0 0 0 0;\n",
              "      width: 32px;\n",
              "    }\n",
              "\n",
              "    .colab-df-convert:hover {\n",
              "      background-color: #E2EBFA;\n",
              "      box-shadow: 0px 1px 2px rgba(60, 64, 67, 0.3), 0px 1px 3px 1px rgba(60, 64, 67, 0.15);\n",
              "      fill: #174EA6;\n",
              "    }\n",
              "\n",
              "    .colab-df-buttons div {\n",
              "      margin-bottom: 4px;\n",
              "    }\n",
              "\n",
              "    [theme=dark] .colab-df-convert {\n",
              "      background-color: #3B4455;\n",
              "      fill: #D2E3FC;\n",
              "    }\n",
              "\n",
              "    [theme=dark] .colab-df-convert:hover {\n",
              "      background-color: #434B5C;\n",
              "      box-shadow: 0px 1px 3px 1px rgba(0, 0, 0, 0.15);\n",
              "      filter: drop-shadow(0px 1px 2px rgba(0, 0, 0, 0.3));\n",
              "      fill: #FFFFFF;\n",
              "    }\n",
              "  </style>\n",
              "\n",
              "    <script>\n",
              "      const buttonEl =\n",
              "        document.querySelector('#df-1fdfe4c3-0676-465f-9f78-2fe3a5944d57 button.colab-df-convert');\n",
              "      buttonEl.style.display =\n",
              "        google.colab.kernel.accessAllowed ? 'block' : 'none';\n",
              "\n",
              "      async function convertToInteractive(key) {\n",
              "        const element = document.querySelector('#df-1fdfe4c3-0676-465f-9f78-2fe3a5944d57');\n",
              "        const dataTable =\n",
              "          await google.colab.kernel.invokeFunction('convertToInteractive',\n",
              "                                                    [key], {});\n",
              "        if (!dataTable) return;\n",
              "\n",
              "        const docLinkHtml = 'Like what you see? Visit the ' +\n",
              "          '<a target=\"_blank\" href=https://colab.research.google.com/notebooks/data_table.ipynb>data table notebook</a>'\n",
              "          + ' to learn more about interactive tables.';\n",
              "        element.innerHTML = '';\n",
              "        dataTable['output_type'] = 'display_data';\n",
              "        await google.colab.output.renderOutput(dataTable, element);\n",
              "        const docLink = document.createElement('div');\n",
              "        docLink.innerHTML = docLinkHtml;\n",
              "        element.appendChild(docLink);\n",
              "      }\n",
              "    </script>\n",
              "  </div>\n",
              "\n",
              "\n",
              "<div id=\"df-db410e93-3cfe-480a-a3e6-dd7f5291e8db\">\n",
              "  <button class=\"colab-df-quickchart\" onclick=\"quickchart('df-db410e93-3cfe-480a-a3e6-dd7f5291e8db')\"\n",
              "            title=\"Suggest charts\"\n",
              "            style=\"display:none;\">\n",
              "\n",
              "<svg xmlns=\"http://www.w3.org/2000/svg\" height=\"24px\"viewBox=\"0 0 24 24\"\n",
              "     width=\"24px\">\n",
              "    <g>\n",
              "        <path d=\"M19 3H5c-1.1 0-2 .9-2 2v14c0 1.1.9 2 2 2h14c1.1 0 2-.9 2-2V5c0-1.1-.9-2-2-2zM9 17H7v-7h2v7zm4 0h-2V7h2v10zm4 0h-2v-4h2v4z\"/>\n",
              "    </g>\n",
              "</svg>\n",
              "  </button>\n",
              "\n",
              "<style>\n",
              "  .colab-df-quickchart {\n",
              "      --bg-color: #E8F0FE;\n",
              "      --fill-color: #1967D2;\n",
              "      --hover-bg-color: #E2EBFA;\n",
              "      --hover-fill-color: #174EA6;\n",
              "      --disabled-fill-color: #AAA;\n",
              "      --disabled-bg-color: #DDD;\n",
              "  }\n",
              "\n",
              "  [theme=dark] .colab-df-quickchart {\n",
              "      --bg-color: #3B4455;\n",
              "      --fill-color: #D2E3FC;\n",
              "      --hover-bg-color: #434B5C;\n",
              "      --hover-fill-color: #FFFFFF;\n",
              "      --disabled-bg-color: #3B4455;\n",
              "      --disabled-fill-color: #666;\n",
              "  }\n",
              "\n",
              "  .colab-df-quickchart {\n",
              "    background-color: var(--bg-color);\n",
              "    border: none;\n",
              "    border-radius: 50%;\n",
              "    cursor: pointer;\n",
              "    display: none;\n",
              "    fill: var(--fill-color);\n",
              "    height: 32px;\n",
              "    padding: 0;\n",
              "    width: 32px;\n",
              "  }\n",
              "\n",
              "  .colab-df-quickchart:hover {\n",
              "    background-color: var(--hover-bg-color);\n",
              "    box-shadow: 0 1px 2px rgba(60, 64, 67, 0.3), 0 1px 3px 1px rgba(60, 64, 67, 0.15);\n",
              "    fill: var(--button-hover-fill-color);\n",
              "  }\n",
              "\n",
              "  .colab-df-quickchart-complete:disabled,\n",
              "  .colab-df-quickchart-complete:disabled:hover {\n",
              "    background-color: var(--disabled-bg-color);\n",
              "    fill: var(--disabled-fill-color);\n",
              "    box-shadow: none;\n",
              "  }\n",
              "\n",
              "  .colab-df-spinner {\n",
              "    border: 2px solid var(--fill-color);\n",
              "    border-color: transparent;\n",
              "    border-bottom-color: var(--fill-color);\n",
              "    animation:\n",
              "      spin 1s steps(1) infinite;\n",
              "  }\n",
              "\n",
              "  @keyframes spin {\n",
              "    0% {\n",
              "      border-color: transparent;\n",
              "      border-bottom-color: var(--fill-color);\n",
              "      border-left-color: var(--fill-color);\n",
              "    }\n",
              "    20% {\n",
              "      border-color: transparent;\n",
              "      border-left-color: var(--fill-color);\n",
              "      border-top-color: var(--fill-color);\n",
              "    }\n",
              "    30% {\n",
              "      border-color: transparent;\n",
              "      border-left-color: var(--fill-color);\n",
              "      border-top-color: var(--fill-color);\n",
              "      border-right-color: var(--fill-color);\n",
              "    }\n",
              "    40% {\n",
              "      border-color: transparent;\n",
              "      border-right-color: var(--fill-color);\n",
              "      border-top-color: var(--fill-color);\n",
              "    }\n",
              "    60% {\n",
              "      border-color: transparent;\n",
              "      border-right-color: var(--fill-color);\n",
              "    }\n",
              "    80% {\n",
              "      border-color: transparent;\n",
              "      border-right-color: var(--fill-color);\n",
              "      border-bottom-color: var(--fill-color);\n",
              "    }\n",
              "    90% {\n",
              "      border-color: transparent;\n",
              "      border-bottom-color: var(--fill-color);\n",
              "    }\n",
              "  }\n",
              "</style>\n",
              "\n",
              "  <script>\n",
              "    async function quickchart(key) {\n",
              "      const quickchartButtonEl =\n",
              "        document.querySelector('#' + key + ' button');\n",
              "      quickchartButtonEl.disabled = true;  // To prevent multiple clicks.\n",
              "      quickchartButtonEl.classList.add('colab-df-spinner');\n",
              "      try {\n",
              "        const charts = await google.colab.kernel.invokeFunction(\n",
              "            'suggestCharts', [key], {});\n",
              "      } catch (error) {\n",
              "        console.error('Error during call to suggestCharts:', error);\n",
              "      }\n",
              "      quickchartButtonEl.classList.remove('colab-df-spinner');\n",
              "      quickchartButtonEl.classList.add('colab-df-quickchart-complete');\n",
              "    }\n",
              "    (() => {\n",
              "      let quickchartButtonEl =\n",
              "        document.querySelector('#df-db410e93-3cfe-480a-a3e6-dd7f5291e8db button');\n",
              "      quickchartButtonEl.style.display =\n",
              "        google.colab.kernel.accessAllowed ? 'block' : 'none';\n",
              "    })();\n",
              "  </script>\n",
              "</div>\n",
              "\n",
              "    </div>\n",
              "  </div>\n"
            ],
            "application/vnd.google.colaboratory.intrinsic+json": {
              "type": "dataframe",
              "variable_name": "df_atributes"
            }
          },
          "metadata": {},
          "execution_count": 83
        }
      ]
    },
    {
      "cell_type": "code",
      "source": [
        "#normalizar los datos de la columan aaddress del set de datos sellers\n",
        "df_address = pd.json_normalize(df_sellers['address'])\n",
        "print(df_address.head(5).to_string())"
      ],
      "metadata": {
        "colab": {
          "base_uri": "https://localhost:8080/"
        },
        "id": "DqO1kak5vlhD",
        "outputId": "580ba5b9-da8a-4861-95ee-8ac2095bb912"
      },
      "execution_count": 84,
      "outputs": [
        {
          "output_type": "stream",
          "name": "stdout",
          "text": [
            "       city   state\n",
            "0   Usaquén   CO-DC\n",
            "1      Suba   CO-DC\n",
            "2  Medellín  CO-ANT\n",
            "3   Pereira  CO-RIS\n",
            "4      Suba   CO-DC\n"
          ]
        }
      ]
    },
    {
      "cell_type": "code",
      "source": [
        "#normalizar los datos de la columan seller_reputation del set de datos sellers\n",
        "df_seller_reputation = pd.json_normalize(df_sellers['seller_reputation'])\n",
        "print(df_seller_reputation.head(5).to_string())"
      ],
      "metadata": {
        "colab": {
          "base_uri": "https://localhost:8080/"
        },
        "id": "03ltaOUYwly8",
        "outputId": "430e0617-938d-43e8-89b1-af4c2aef2942"
      },
      "execution_count": 85,
      "outputs": [
        {
          "output_type": "stream",
          "name": "stdout",
          "text": [
            "  level_id power_seller_status transactions.period  transactions.total\n",
            "0  5_green                None            historic                1712\n",
            "1  5_green              silver            historic                2051\n",
            "2  5_green              silver            historic                 574\n",
            "3  5_green            platinum            historic                9232\n",
            "4  5_green                gold            historic                3290\n"
          ]
        }
      ]
    },
    {
      "cell_type": "markdown",
      "source": [
        "# Organización de los Datos"
      ],
      "metadata": {
        "id": "IL9MhYSVXbIV"
      }
    },
    {
      "cell_type": "markdown",
      "source": [
        "debido a que se manipularon varias columnas fue necesario contatenar los campos quepertenecian al dataset original results"
      ],
      "metadata": {
        "id": "qALTu4-pX1XO"
      }
    },
    {
      "cell_type": "code",
      "source": [
        "# Select the desired columns from each DataFrame\n",
        "df_results_selected = df_results[['title', 'condition', 'price']]\n",
        "df_installments_selected = df_installments[['quantity', 'amount']]\n",
        "df_seller_selected = df_seller[['id', 'nickname']]\n",
        "df_valor_venta_selected = df_valor_venta[['regular_amount', 'metadata.campaign_discount_percentage']]\n",
        "df_shipping_selected = df_shipping[['free_shipping']]\n",
        "\n",
        "# Concatenate the selected columns horizontally (axis=1)\n",
        "df_merged_results = pd.concat([df_results_selected, df_installments_selected, df_seller_selected, df_valor_venta_selected, df_shipping_selected], axis=1)\n",
        "# Reordenar las columnas\n",
        "new_column_order = ['title', 'condition', 'price', 'regular_amount', 'metadata.campaign_discount_percentage', 'quantity', 'amount', 'free_shipping', 'nickname', 'id']\n",
        "df_merged_results = df_merged_results[new_column_order]\n",
        "\n",
        "\n",
        "# Renombrar las columnas\n",
        "df_merged_results = df_merged_results.rename(columns={\n",
        "    'regular_amount': 'Valor Real',\n",
        "    'metadata.campaign_discount_percentage': 'Descuento %',\n",
        "    'quantity': 'Cuotas',\n",
        "    'amount': 'Valor Cuota'\n",
        "})\n",
        "\n",
        "print(df_merged_results.head(5).to_string(index=False))\n"
      ],
      "metadata": {
        "colab": {
          "base_uri": "https://localhost:8080/"
        },
        "id": "etwz6RiqXfN-",
        "outputId": "68196826-259c-41f8-8255-d222958a996e"
      },
      "execution_count": 86,
      "outputs": [
        {
          "output_type": "stream",
          "name": "stdout",
          "text": [
            "                                                             title condition     price  Valor Real  Descuento %  Cuotas  Valor Cuota  free_shipping             nickname         id\n",
            "            Xiaomi Redmi Note 13 4g Dual Sim 256 Gb Negro 8 Gb Ram       new  618900.0    999900.0        38.10      36      17192.0           True            OFFERBUYS 1801699380\n",
            "      Xiaomi Redmi Note 13 Pro+ 5g Dual Sim 512 Gb Negro 12 Gb Ram       new 1553400.0   2589000.0        40.00      12     129450.0           True ALDNET TIENDAVIRTUAL  312658824\n",
            "         Samsung Galaxy A55 5g Dual Sim 256 Gb Azul Claro 8 Gb Ram       new 1395900.0   1929900.0        27.67      36      38775.0           True      TECHNOLOGYRIVER  406781619\n",
            "            Xiaomi Redmi 13c Dual Sim 256 Gb Clover Green 4 Gb Ram       new  436900.0         NaN          NaN      36      12136.0           True          TECNOSUPER.  291001852\n",
            "Samsung Galaxy S23 Ultra (esim) 5g Dual Sim 256 Gb Cream 12 Gb Ram       new 3455928.0   4799900.0          NaN      36      95998.0           True  RIVERTECHNOLOGYLTDA  476229825\n"
          ]
        }
      ]
    },
    {
      "cell_type": "markdown",
      "source": [
        "Unir los dataset generados al analisar los datos de items"
      ],
      "metadata": {
        "id": "p1-y_PB_teqH"
      }
    },
    {
      "cell_type": "code",
      "source": [
        "# Select the desired columns from each DataFrame\n",
        "df_items_selected = df_items[['seller_id', 'official_store_id']]\n",
        "df_sales_terms_selected = df_sales_terms[['Tipo de garantía', 'Tiempo de garantía', 'Disponibilidad de stock']]\n",
        "df_atributes_selected = df_atributes[['Compañía telefónica', 'Tamaño de la pantalla', 'Memoria interna', 'Red móvil']]\n",
        "#df_valor_venta_selected = df_valor_venta[['regular_amount', 'metadata.campaign_discount_percentage']]\n",
        "\n",
        "# Concatenate the selected columns horizontally (axis=1)\n",
        "df_merged_items = pd.concat([df_items_selected, df_sales_terms_selected, df_atributes_selected], axis=1)\n",
        "\n",
        "\n",
        "\n",
        "# Print the first few rows of the merged DataFrame\n",
        "# Renombrar las columnas\n",
        "df_merged_items = df_merged_items.rename(columns={\n",
        "    'seller_id': 'id',\n",
        "})\n",
        "\n",
        "print(df_merged_items.head().to_string(index=False))"
      ],
      "metadata": {
        "colab": {
          "base_uri": "https://localhost:8080/"
        },
        "id": "Z2reauMyk5si",
        "outputId": "4682557b-a57a-4ab7-c626-b0153645990f"
      },
      "execution_count": 87,
      "outputs": [
        {
          "output_type": "stream",
          "name": "stdout",
          "text": [
            "        id  official_store_id      Tipo de garantía Tiempo de garantía Disponibilidad de stock Compañía telefónica Tamaño de la pantalla Memoria interna Red móvil\n",
            "1757204237                NaN Garantía del vendedor            60 días                     NaN            Liberado                0.17 m            1 TB        5G\n",
            "  74858296                NaN Garantía del vendedor            3 meses                 15 días            Liberado                   NaN            0 GB    4G/LTE\n",
            " 224855110                NaN   Garantía de fábrica           12 meses                     NaN            Liberado                   NaN          256 GB      None\n",
            " 244320949                NaN   Garantía de fábrica           12 meses                     NaN            Liberado                   NaN          256 GB    4G/LTE\n",
            "1091466329                NaN   Garantía de fábrica           12 meses                     NaN            Liberado                   NaN          128 GB    4G/LTE\n"
          ]
        }
      ]
    },
    {
      "cell_type": "markdown",
      "source": [
        "Unir los dataset generados al analisar los datos de sellers"
      ],
      "metadata": {
        "id": "4g521Jga2IE9"
      }
    },
    {
      "cell_type": "code",
      "source": [
        "# Select the desired columns from each DataFrame\n",
        "df_sellers_selected = df_sellers[['id', 'country_id']]\n",
        "df_address_selected = df_address[['city', 'state']]\n",
        "df_seller_reputation_selected = df_seller_reputation[['level_id', 'power_seller_status', 'transactions.total']]\n",
        "\n",
        "# Concatenate the selected columns horizontally (axis=1)\n",
        "df_merged_sellers = pd.concat([df_sellers_selected, df_address_selected, df_seller_reputation], axis=1)\n",
        "\n",
        "\n",
        "# Renombrar las columnas\n",
        "df_merged_sellers = df_merged_sellers.rename(columns={\n",
        "    'power_seller_status': 'Estado Vendedor',\n",
        "    'transactions.total': '# Ventas'\n",
        "})\n",
        "\n",
        "print(df_merged_sellers.head(5).to_string(index=False))"
      ],
      "metadata": {
        "colab": {
          "base_uri": "https://localhost:8080/"
        },
        "id": "-Qe-K_M1vL_B",
        "outputId": "83f30263-3973-4672-8282-77054760e4d6"
      },
      "execution_count": 88,
      "outputs": [
        {
          "output_type": "stream",
          "name": "stdout",
          "text": [
            "        id country_id     city  state level_id Estado Vendedor transactions.period  # Ventas\n",
            "1305122305         CO  Usaquén  CO-DC  5_green            None            historic      1712\n",
            " 819549189         CO     Suba  CO-DC  5_green          silver            historic      2051\n",
            " 582439941         CO Medellín CO-ANT  5_green          silver            historic       574\n",
            " 738767370         CO  Pereira CO-RIS  5_green        platinum            historic      9232\n",
            " 224086027         CO     Suba  CO-DC  5_green            gold            historic      3290\n"
          ]
        }
      ]
    },
    {
      "cell_type": "markdown",
      "source": [
        "unir los ultimos 3 datasets"
      ],
      "metadata": {
        "id": "0jLDsd2EvhYj"
      }
    },
    {
      "cell_type": "code",
      "source": [
        "# prompt: quiero unir los 3 dataset df_merged_results, df_merged_items,  df_merged_sellers por medio de la columna id\n",
        "\n",
        "# Unir df_merged_results y df_merged_items por la columna 'id'\n",
        "df_merged_1 = pd.merge(df_merged_results, df_merged_items, on='id', how='left')\n",
        "\n",
        "# Unir el resultado anterior con df_merged_sellers por la columna 'id'\n",
        "df_merged_final = pd.merge(df_merged_1, df_merged_sellers, on='id', how='left')\n",
        "\n",
        "# Imprimir las primeras filas del DataFrame final\n",
        "print(df_merged_final.head(20).to_string(index=False))"
      ],
      "metadata": {
        "colab": {
          "base_uri": "https://localhost:8080/"
        },
        "id": "iWsJmzl55As5",
        "outputId": "cc55189b-8581-4334-c867-5e28ae875229"
      },
      "execution_count": 89,
      "outputs": [
        {
          "output_type": "stream",
          "name": "stdout",
          "text": [
            "                                                       title condition     price  Valor Real  Descuento %  Cuotas  Valor Cuota  free_shipping             nickname         id  official_store_id      Tipo de garantía Tiempo de garantía Disponibilidad de stock Compañía telefónica Tamaño de la pantalla Memoria interna Red móvil country_id      city  state level_id Estado Vendedor transactions.period  # Ventas\n",
            "      Xiaomi Redmi Note 13 4g Dual Sim 256 Gb Negro 8 Gb Ram       new  618900.0    999900.0        38.10      36      17192.0           True            OFFERBUYS 1801699380                NaN   Garantía de fábrica             1 años                     NaN            Liberado                 6.6 \"          256 GB    4G/LTE         CO      Cota CO-CUN  5_green        platinum            historic      1925\n",
            "      Xiaomi Redmi Note 13 4g Dual Sim 256 Gb Negro 8 Gb Ram       new  618900.0    999900.0        38.10      36      17192.0           True            OFFERBUYS 1801699380                NaN   Garantía de fábrica             1 años                     NaN            Liberado                   NaN          256 GB       NaN         CO      Cota CO-CUN  5_green        platinum            historic      1925\n",
            "      Xiaomi Redmi Note 13 4g Dual Sim 256 Gb Negro 8 Gb Ram       new  618900.0    999900.0        38.10      36      17192.0           True            OFFERBUYS 1801699380                NaN   Garantía de fábrica             1 años                     NaN            Liberado                6.67 \"          256 GB    4G/LTE         CO      Cota CO-CUN  5_green        platinum            historic      1925\n",
            "      Xiaomi Redmi Note 13 4g Dual Sim 256 Gb Negro 8 Gb Ram       new  618900.0    999900.0        38.10      36      17192.0           True            OFFERBUYS 1801699380                NaN   Garantía de fábrica             1 años                     NaN            Liberado                   NaN          256 GB    4G/LTE         CO      Cota CO-CUN  5_green        platinum            historic      1925\n",
            "      Xiaomi Redmi Note 13 4g Dual Sim 256 Gb Negro 8 Gb Ram       new  618900.0    999900.0        38.10      36      17192.0           True            OFFERBUYS 1801699380                NaN   Garantía de fábrica             1 años                     NaN            Liberado                   NaN          256 GB    4G/LTE         CO      Cota CO-CUN  5_green        platinum            historic      1925\n",
            "      Xiaomi Redmi Note 13 4g Dual Sim 256 Gb Negro 8 Gb Ram       new  618900.0    999900.0        38.10      36      17192.0           True            OFFERBUYS 1801699380                NaN   Garantía de fábrica             1 años                     NaN            Liberado                   NaN          256 GB    4G/LTE         CO      Cota CO-CUN  5_green        platinum            historic      1925\n",
            "      Xiaomi Redmi Note 13 4g Dual Sim 256 Gb Negro 8 Gb Ram       new  618900.0    999900.0        38.10      36      17192.0           True            OFFERBUYS 1801699380                NaN   Garantía de fábrica             1 años                     NaN            Liberado                   NaN           64 GB    4G/LTE         CO      Cota CO-CUN  5_green        platinum            historic      1925\n",
            "      Xiaomi Redmi Note 13 4g Dual Sim 256 Gb Negro 8 Gb Ram       new  618900.0    999900.0        38.10      36      17192.0           True            OFFERBUYS 1801699380                NaN   Garantía de fábrica             1 años                     NaN            Liberado                   NaN          256 GB    4G/LTE         CO      Cota CO-CUN  5_green        platinum            historic      1925\n",
            "      Xiaomi Redmi Note 13 4g Dual Sim 256 Gb Negro 8 Gb Ram       new  618900.0    999900.0        38.10      36      17192.0           True            OFFERBUYS 1801699380                NaN   Garantía de fábrica             1 años                     NaN            Liberado                   NaN           64 GB    4G/LTE         CO      Cota CO-CUN  5_green        platinum            historic      1925\n",
            "      Xiaomi Redmi Note 13 4g Dual Sim 256 Gb Negro 8 Gb Ram       new  618900.0    999900.0        38.10      36      17192.0           True            OFFERBUYS 1801699380                NaN   Garantía de fábrica             1 años                     NaN            Liberado                 6.5 \"          256 GB        5G         CO      Cota CO-CUN  5_green        platinum            historic      1925\n",
            "Xiaomi Redmi Note 13 Pro+ 5g Dual Sim 512 Gb Negro 12 Gb Ram       new 1553400.0   2589000.0        40.00      12     129450.0           True ALDNET TIENDAVIRTUAL  312658824                NaN   Garantía de fábrica             1 años                     NaN            Liberado                6.56 \"          256 GB    4G/LTE         CO  Santa Fe  CO-DC  5_green          silver            historic      1641\n",
            "Xiaomi Redmi Note 13 Pro+ 5g Dual Sim 512 Gb Negro 12 Gb Ram       new 1553400.0   2589000.0        40.00      12     129450.0           True ALDNET TIENDAVIRTUAL  312658824                NaN Garantía del vendedor            6 meses                     NaN            Liberado                6.67 \"          512 GB        5G         CO  Santa Fe  CO-DC  5_green          silver            historic      1641\n",
            "   Samsung Galaxy A55 5g Dual Sim 256 Gb Azul Claro 8 Gb Ram       new 1395900.0   1929900.0        27.67      36      38775.0           True      TECHNOLOGYRIVER  406781619                NaN   Garantía de fábrica           12 meses                     NaN            Liberado                6.56 \"           64 GB    4G/LTE         CO Chapinero  CO-DC  5_green        platinum            historic      7004\n",
            "   Samsung Galaxy A55 5g Dual Sim 256 Gb Azul Claro 8 Gb Ram       new 1395900.0   1929900.0        27.67      36      38775.0           True      TECHNOLOGYRIVER  406781619                NaN   Garantía de fábrica            3 meses                     NaN            Liberado                6.55 \"          128 GB        5G         CO Chapinero  CO-DC  5_green        platinum            historic      7004\n",
            "   Samsung Galaxy A55 5g Dual Sim 256 Gb Azul Claro 8 Gb Ram       new 1395900.0   1929900.0        27.67      36      38775.0           True      TECHNOLOGYRIVER  406781619                NaN   Garantía de fábrica           12 meses                     NaN            Liberado                 6.8 \"           64 GB    4G/LTE         CO Chapinero  CO-DC  5_green        platinum            historic      7004\n",
            "   Samsung Galaxy A55 5g Dual Sim 256 Gb Azul Claro 8 Gb Ram       new 1395900.0   1929900.0        27.67      36      38775.0           True      TECHNOLOGYRIVER  406781619                NaN   Garantía de fábrica            3 meses                     NaN            Liberado                 6.5 \"           32 GB    4G/LTE         CO Chapinero  CO-DC  5_green        platinum            historic      7004\n",
            "   Samsung Galaxy A55 5g Dual Sim 256 Gb Azul Claro 8 Gb Ram       new 1395900.0   1929900.0        27.67      36      38775.0           True      TECHNOLOGYRIVER  406781619                NaN Garantía del vendedor           12 meses                     NaN            Liberado                 6.6 \"           32 GB    4G/LTE         CO Chapinero  CO-DC  5_green        platinum            historic      7004\n",
            "   Samsung Galaxy A55 5g Dual Sim 256 Gb Azul Claro 8 Gb Ram       new 1395900.0   1929900.0        27.67      36      38775.0           True      TECHNOLOGYRIVER  406781619                NaN   Garantía de fábrica           12 meses                     NaN            Liberado                   NaN           64 GB    4G/LTE         CO Chapinero  CO-DC  5_green        platinum            historic      7004\n",
            "   Samsung Galaxy A55 5g Dual Sim 256 Gb Azul Claro 8 Gb Ram       new 1395900.0   1929900.0        27.67      36      38775.0           True      TECHNOLOGYRIVER  406781619                NaN   Garantía de fábrica           12 meses                     NaN            Liberado                   NaN          256 GB    4G/LTE         CO Chapinero  CO-DC  5_green        platinum            historic      7004\n",
            "   Samsung Galaxy A55 5g Dual Sim 256 Gb Azul Claro 8 Gb Ram       new 1395900.0   1929900.0        27.67      36      38775.0           True      TECHNOLOGYRIVER  406781619                NaN   Garantía de fábrica            3 meses                     NaN            Liberado                6.28 \"          256 GB        5G         CO Chapinero  CO-DC  5_green        platinum            historic      7004\n"
          ]
        }
      ]
    },
    {
      "cell_type": "code",
      "source": [
        "#cambiar de la columna tiempo de garantia 1 años por 12 meses\n",
        "\n",
        "# Reemplazar \"1 años\" por \"12 meses\" en la columna \"Tiempo de garantía\"\n",
        "df_merged_final['Tiempo de garantía'] = df_merged_final['Tiempo de garantía'].replace('1 años', '12 meses')\n",
        "df_merged_final['Tiempo de garantía'] = df_merged_final['Tiempo de garantía'].replace('30 días', '1 meses')\n",
        "print(df_merged_final.head(20).to_string(index=False))"
      ],
      "metadata": {
        "colab": {
          "base_uri": "https://localhost:8080/"
        },
        "id": "OdF7BYhV_-HQ",
        "outputId": "f2c0c2a4-9529-4762-f1f7-8aeca85f9f6c"
      },
      "execution_count": 90,
      "outputs": [
        {
          "output_type": "stream",
          "name": "stdout",
          "text": [
            "                                                       title condition     price  Valor Real  Descuento %  Cuotas  Valor Cuota  free_shipping             nickname         id  official_store_id      Tipo de garantía Tiempo de garantía Disponibilidad de stock Compañía telefónica Tamaño de la pantalla Memoria interna Red móvil country_id      city  state level_id Estado Vendedor transactions.period  # Ventas\n",
            "      Xiaomi Redmi Note 13 4g Dual Sim 256 Gb Negro 8 Gb Ram       new  618900.0    999900.0        38.10      36      17192.0           True            OFFERBUYS 1801699380                NaN   Garantía de fábrica           12 meses                     NaN            Liberado                 6.6 \"          256 GB    4G/LTE         CO      Cota CO-CUN  5_green        platinum            historic      1925\n",
            "      Xiaomi Redmi Note 13 4g Dual Sim 256 Gb Negro 8 Gb Ram       new  618900.0    999900.0        38.10      36      17192.0           True            OFFERBUYS 1801699380                NaN   Garantía de fábrica           12 meses                     NaN            Liberado                   NaN          256 GB       NaN         CO      Cota CO-CUN  5_green        platinum            historic      1925\n",
            "      Xiaomi Redmi Note 13 4g Dual Sim 256 Gb Negro 8 Gb Ram       new  618900.0    999900.0        38.10      36      17192.0           True            OFFERBUYS 1801699380                NaN   Garantía de fábrica           12 meses                     NaN            Liberado                6.67 \"          256 GB    4G/LTE         CO      Cota CO-CUN  5_green        platinum            historic      1925\n",
            "      Xiaomi Redmi Note 13 4g Dual Sim 256 Gb Negro 8 Gb Ram       new  618900.0    999900.0        38.10      36      17192.0           True            OFFERBUYS 1801699380                NaN   Garantía de fábrica           12 meses                     NaN            Liberado                   NaN          256 GB    4G/LTE         CO      Cota CO-CUN  5_green        platinum            historic      1925\n",
            "      Xiaomi Redmi Note 13 4g Dual Sim 256 Gb Negro 8 Gb Ram       new  618900.0    999900.0        38.10      36      17192.0           True            OFFERBUYS 1801699380                NaN   Garantía de fábrica           12 meses                     NaN            Liberado                   NaN          256 GB    4G/LTE         CO      Cota CO-CUN  5_green        platinum            historic      1925\n",
            "      Xiaomi Redmi Note 13 4g Dual Sim 256 Gb Negro 8 Gb Ram       new  618900.0    999900.0        38.10      36      17192.0           True            OFFERBUYS 1801699380                NaN   Garantía de fábrica           12 meses                     NaN            Liberado                   NaN          256 GB    4G/LTE         CO      Cota CO-CUN  5_green        platinum            historic      1925\n",
            "      Xiaomi Redmi Note 13 4g Dual Sim 256 Gb Negro 8 Gb Ram       new  618900.0    999900.0        38.10      36      17192.0           True            OFFERBUYS 1801699380                NaN   Garantía de fábrica           12 meses                     NaN            Liberado                   NaN           64 GB    4G/LTE         CO      Cota CO-CUN  5_green        platinum            historic      1925\n",
            "      Xiaomi Redmi Note 13 4g Dual Sim 256 Gb Negro 8 Gb Ram       new  618900.0    999900.0        38.10      36      17192.0           True            OFFERBUYS 1801699380                NaN   Garantía de fábrica           12 meses                     NaN            Liberado                   NaN          256 GB    4G/LTE         CO      Cota CO-CUN  5_green        platinum            historic      1925\n",
            "      Xiaomi Redmi Note 13 4g Dual Sim 256 Gb Negro 8 Gb Ram       new  618900.0    999900.0        38.10      36      17192.0           True            OFFERBUYS 1801699380                NaN   Garantía de fábrica           12 meses                     NaN            Liberado                   NaN           64 GB    4G/LTE         CO      Cota CO-CUN  5_green        platinum            historic      1925\n",
            "      Xiaomi Redmi Note 13 4g Dual Sim 256 Gb Negro 8 Gb Ram       new  618900.0    999900.0        38.10      36      17192.0           True            OFFERBUYS 1801699380                NaN   Garantía de fábrica           12 meses                     NaN            Liberado                 6.5 \"          256 GB        5G         CO      Cota CO-CUN  5_green        platinum            historic      1925\n",
            "Xiaomi Redmi Note 13 Pro+ 5g Dual Sim 512 Gb Negro 12 Gb Ram       new 1553400.0   2589000.0        40.00      12     129450.0           True ALDNET TIENDAVIRTUAL  312658824                NaN   Garantía de fábrica           12 meses                     NaN            Liberado                6.56 \"          256 GB    4G/LTE         CO  Santa Fe  CO-DC  5_green          silver            historic      1641\n",
            "Xiaomi Redmi Note 13 Pro+ 5g Dual Sim 512 Gb Negro 12 Gb Ram       new 1553400.0   2589000.0        40.00      12     129450.0           True ALDNET TIENDAVIRTUAL  312658824                NaN Garantía del vendedor            6 meses                     NaN            Liberado                6.67 \"          512 GB        5G         CO  Santa Fe  CO-DC  5_green          silver            historic      1641\n",
            "   Samsung Galaxy A55 5g Dual Sim 256 Gb Azul Claro 8 Gb Ram       new 1395900.0   1929900.0        27.67      36      38775.0           True      TECHNOLOGYRIVER  406781619                NaN   Garantía de fábrica           12 meses                     NaN            Liberado                6.56 \"           64 GB    4G/LTE         CO Chapinero  CO-DC  5_green        platinum            historic      7004\n",
            "   Samsung Galaxy A55 5g Dual Sim 256 Gb Azul Claro 8 Gb Ram       new 1395900.0   1929900.0        27.67      36      38775.0           True      TECHNOLOGYRIVER  406781619                NaN   Garantía de fábrica            3 meses                     NaN            Liberado                6.55 \"          128 GB        5G         CO Chapinero  CO-DC  5_green        platinum            historic      7004\n",
            "   Samsung Galaxy A55 5g Dual Sim 256 Gb Azul Claro 8 Gb Ram       new 1395900.0   1929900.0        27.67      36      38775.0           True      TECHNOLOGYRIVER  406781619                NaN   Garantía de fábrica           12 meses                     NaN            Liberado                 6.8 \"           64 GB    4G/LTE         CO Chapinero  CO-DC  5_green        platinum            historic      7004\n",
            "   Samsung Galaxy A55 5g Dual Sim 256 Gb Azul Claro 8 Gb Ram       new 1395900.0   1929900.0        27.67      36      38775.0           True      TECHNOLOGYRIVER  406781619                NaN   Garantía de fábrica            3 meses                     NaN            Liberado                 6.5 \"           32 GB    4G/LTE         CO Chapinero  CO-DC  5_green        platinum            historic      7004\n",
            "   Samsung Galaxy A55 5g Dual Sim 256 Gb Azul Claro 8 Gb Ram       new 1395900.0   1929900.0        27.67      36      38775.0           True      TECHNOLOGYRIVER  406781619                NaN Garantía del vendedor           12 meses                     NaN            Liberado                 6.6 \"           32 GB    4G/LTE         CO Chapinero  CO-DC  5_green        platinum            historic      7004\n",
            "   Samsung Galaxy A55 5g Dual Sim 256 Gb Azul Claro 8 Gb Ram       new 1395900.0   1929900.0        27.67      36      38775.0           True      TECHNOLOGYRIVER  406781619                NaN   Garantía de fábrica           12 meses                     NaN            Liberado                   NaN           64 GB    4G/LTE         CO Chapinero  CO-DC  5_green        platinum            historic      7004\n",
            "   Samsung Galaxy A55 5g Dual Sim 256 Gb Azul Claro 8 Gb Ram       new 1395900.0   1929900.0        27.67      36      38775.0           True      TECHNOLOGYRIVER  406781619                NaN   Garantía de fábrica           12 meses                     NaN            Liberado                   NaN          256 GB    4G/LTE         CO Chapinero  CO-DC  5_green        platinum            historic      7004\n",
            "   Samsung Galaxy A55 5g Dual Sim 256 Gb Azul Claro 8 Gb Ram       new 1395900.0   1929900.0        27.67      36      38775.0           True      TECHNOLOGYRIVER  406781619                NaN   Garantía de fábrica            3 meses                     NaN            Liberado                6.28 \"          256 GB        5G         CO Chapinero  CO-DC  5_green        platinum            historic      7004\n"
          ]
        }
      ]
    },
    {
      "cell_type": "markdown",
      "source": [
        "# Depurar la data Analisis Final"
      ],
      "metadata": {
        "id": "witFEgVjvp1A"
      }
    },
    {
      "cell_type": "code",
      "source": [
        "# Calular el percentil 75 de los datos tomando la columna price para el analisis\n",
        "\n",
        "percentil_75 = df_merged_final['price'].quantile(0.75)\n",
        "print(f\"El percentil 75 de la columna 'price' es: {percentil_75}\")\n"
      ],
      "metadata": {
        "colab": {
          "base_uri": "https://localhost:8080/"
        },
        "id": "WJmwTtSw_RI6",
        "outputId": "f2772b13-a755-4172-a536-d6bc71754e27"
      },
      "execution_count": 91,
      "outputs": [
        {
          "output_type": "stream",
          "name": "stdout",
          "text": [
            "El percentil 75 de la columna 'price' es: 2599000.0\n"
          ]
        }
      ]
    },
    {
      "cell_type": "code",
      "source": [
        "# Calular el percentil 50 de los datos tomando la columna price para el analisis\n",
        "\n",
        "percentil_50 = df_merged_final['price'].quantile(0.5)\n",
        "print(f\"El percentil 75 de la columna 'price' es: {percentil_50}\")"
      ],
      "metadata": {
        "colab": {
          "base_uri": "https://localhost:8080/"
        },
        "id": "6PRxNwBY_VB1",
        "outputId": "2bb0e81a-df5f-476b-9290-3cd8db99e182"
      },
      "execution_count": 92,
      "outputs": [
        {
          "output_type": "stream",
          "name": "stdout",
          "text": [
            "El percentil 75 de la columna 'price' es: 1199900.0\n"
          ]
        }
      ]
    },
    {
      "cell_type": "markdown",
      "source": [
        "Con esto definicmos que la mitad de los celulres encontrados en la busqueda se encuentran por encima del valor deseado"
      ],
      "metadata": {
        "id": "Qmb1E8WJ_d9X"
      }
    },
    {
      "cell_type": "code",
      "source": [
        "# Eliminar los registros con un valor superior a 1200000.0 en la columna 'price'\n",
        "df_merged_final_filtered = df_merged_final[df_merged_final['price'] <= 1200000.0]\n",
        "\n",
        "# Imprimir las primeras filas del DataFrame filtrado\n",
        "print(df_merged_final_filtered.head(20).to_string(index=False))"
      ],
      "metadata": {
        "colab": {
          "base_uri": "https://localhost:8080/"
        },
        "id": "GwiAPHGg5zu5",
        "outputId": "f7c24d74-dfa2-4841-b623-2262070f60c7"
      },
      "execution_count": 93,
      "outputs": [
        {
          "output_type": "stream",
          "name": "stdout",
          "text": [
            "                                                 title condition    price  Valor Real  Descuento %  Cuotas  Valor Cuota  free_shipping    nickname         id  official_store_id    Tipo de garantía Tiempo de garantía Disponibilidad de stock Compañía telefónica Tamaño de la pantalla Memoria interna Red móvil country_id     city  state level_id Estado Vendedor transactions.period  # Ventas\n",
            "Xiaomi Redmi Note 13 4g Dual Sim 256 Gb Negro 8 Gb Ram       new 618900.0    999900.0         38.1      36      17192.0           True   OFFERBUYS 1801699380                NaN Garantía de fábrica           12 meses                     NaN            Liberado                 6.6 \"          256 GB    4G/LTE         CO     Cota CO-CUN  5_green        platinum            historic      1925\n",
            "Xiaomi Redmi Note 13 4g Dual Sim 256 Gb Negro 8 Gb Ram       new 618900.0    999900.0         38.1      36      17192.0           True   OFFERBUYS 1801699380                NaN Garantía de fábrica           12 meses                     NaN            Liberado                   NaN          256 GB       NaN         CO     Cota CO-CUN  5_green        platinum            historic      1925\n",
            "Xiaomi Redmi Note 13 4g Dual Sim 256 Gb Negro 8 Gb Ram       new 618900.0    999900.0         38.1      36      17192.0           True   OFFERBUYS 1801699380                NaN Garantía de fábrica           12 meses                     NaN            Liberado                6.67 \"          256 GB    4G/LTE         CO     Cota CO-CUN  5_green        platinum            historic      1925\n",
            "Xiaomi Redmi Note 13 4g Dual Sim 256 Gb Negro 8 Gb Ram       new 618900.0    999900.0         38.1      36      17192.0           True   OFFERBUYS 1801699380                NaN Garantía de fábrica           12 meses                     NaN            Liberado                   NaN          256 GB    4G/LTE         CO     Cota CO-CUN  5_green        platinum            historic      1925\n",
            "Xiaomi Redmi Note 13 4g Dual Sim 256 Gb Negro 8 Gb Ram       new 618900.0    999900.0         38.1      36      17192.0           True   OFFERBUYS 1801699380                NaN Garantía de fábrica           12 meses                     NaN            Liberado                   NaN          256 GB    4G/LTE         CO     Cota CO-CUN  5_green        platinum            historic      1925\n",
            "Xiaomi Redmi Note 13 4g Dual Sim 256 Gb Negro 8 Gb Ram       new 618900.0    999900.0         38.1      36      17192.0           True   OFFERBUYS 1801699380                NaN Garantía de fábrica           12 meses                     NaN            Liberado                   NaN          256 GB    4G/LTE         CO     Cota CO-CUN  5_green        platinum            historic      1925\n",
            "Xiaomi Redmi Note 13 4g Dual Sim 256 Gb Negro 8 Gb Ram       new 618900.0    999900.0         38.1      36      17192.0           True   OFFERBUYS 1801699380                NaN Garantía de fábrica           12 meses                     NaN            Liberado                   NaN           64 GB    4G/LTE         CO     Cota CO-CUN  5_green        platinum            historic      1925\n",
            "Xiaomi Redmi Note 13 4g Dual Sim 256 Gb Negro 8 Gb Ram       new 618900.0    999900.0         38.1      36      17192.0           True   OFFERBUYS 1801699380                NaN Garantía de fábrica           12 meses                     NaN            Liberado                   NaN          256 GB    4G/LTE         CO     Cota CO-CUN  5_green        platinum            historic      1925\n",
            "Xiaomi Redmi Note 13 4g Dual Sim 256 Gb Negro 8 Gb Ram       new 618900.0    999900.0         38.1      36      17192.0           True   OFFERBUYS 1801699380                NaN Garantía de fábrica           12 meses                     NaN            Liberado                   NaN           64 GB    4G/LTE         CO     Cota CO-CUN  5_green        platinum            historic      1925\n",
            "Xiaomi Redmi Note 13 4g Dual Sim 256 Gb Negro 8 Gb Ram       new 618900.0    999900.0         38.1      36      17192.0           True   OFFERBUYS 1801699380                NaN Garantía de fábrica           12 meses                     NaN            Liberado                 6.5 \"          256 GB        5G         CO     Cota CO-CUN  5_green        platinum            historic      1925\n",
            "Xiaomi Redmi 13c Dual Sim 256 Gb Clover Green 4 Gb Ram       new 436900.0         NaN          NaN      36      12136.0           True TECNOSUPER.  291001852                NaN Garantía de fábrica           12 meses                     NaN            Liberado                 6.6 \"          128 GB        5G         CO Medellín CO-ANT  5_green        platinum            historic     13349\n",
            "Xiaomi Redmi 13c Dual Sim 256 Gb Clover Green 4 Gb Ram       new 436900.0         NaN          NaN      36      12136.0           True TECNOSUPER.  291001852                NaN Garantía de fábrica           12 meses                     NaN            Liberado                6.67 \"          256 GB        5G         CO Medellín CO-ANT  5_green        platinum            historic     13349\n",
            "Xiaomi Redmi 13c Dual Sim 256 Gb Clover Green 4 Gb Ram       new 436900.0         NaN          NaN      36      12136.0           True TECNOSUPER.  291001852                NaN Garantía de fábrica           12 meses                     NaN            Liberado                   NaN          128 GB       NaN         CO Medellín CO-ANT  5_green        platinum            historic     13349\n",
            "Xiaomi Redmi 13c Dual Sim 256 Gb Clover Green 4 Gb Ram       new 436900.0         NaN          NaN      36      12136.0           True TECNOSUPER.  291001852                NaN Garantía de fábrica           12 meses                     NaN            Liberado                6.74 \"          128 GB    4G/LTE         CO Medellín CO-ANT  5_green        platinum            historic     13349\n",
            "Xiaomi Redmi 13c Dual Sim 256 Gb Clover Green 4 Gb Ram       new 436900.0         NaN          NaN      36      12136.0           True TECNOSUPER.  291001852                NaN Garantía de fábrica           12 meses                     NaN            Liberado                   NaN          256 GB    4G/LTE         CO Medellín CO-ANT  5_green        platinum            historic     13349\n",
            "Xiaomi Redmi 13c Dual Sim 256 Gb Clover Green 4 Gb Ram       new 436900.0         NaN          NaN      36      12136.0           True TECNOSUPER.  291001852                NaN Garantía de fábrica           12 meses                     NaN            Liberado                6.79 \"          256 GB    4G/LTE         CO Medellín CO-ANT  5_green        platinum            historic     13349\n",
            "Xiaomi Redmi 13c Dual Sim 256 Gb Clover Green 4 Gb Ram       new 436900.0         NaN          NaN      36      12136.0           True TECNOSUPER.  291001852                NaN Garantía de fábrica           12 meses                     NaN            Liberado                6.74 \"          256 GB    4G/LTE         CO Medellín CO-ANT  5_green        platinum            historic     13349\n",
            "Xiaomi Redmi 13c Dual Sim 256 Gb Clover Green 4 Gb Ram       new 436900.0         NaN          NaN      36      12136.0           True TECNOSUPER.  291001852                NaN Garantía de fábrica           12 meses                     NaN            Liberado                   NaN          128 GB    4G/LTE         CO Medellín CO-ANT  5_green        platinum            historic     13349\n",
            "Xiaomi Redmi 13c Dual Sim 256 Gb Clover Green 4 Gb Ram       new 436900.0         NaN          NaN      36      12136.0           True TECNOSUPER.  291001852                NaN                 NaN                NaN                     NaN            Liberado                 6.5 \"          128 GB    4G/LTE         CO Medellín CO-ANT  5_green        platinum            historic     13349\n",
            "Xiaomi Redmi 13c Dual Sim 256 Gb Clover Green 4 Gb Ram       new 436900.0         NaN          NaN      36      12136.0           True TECNOSUPER.  291001852                NaN Garantía de fábrica           12 meses                     NaN            Liberado                6.67 \"          256 GB        5G         CO Medellín CO-ANT  5_green        platinum            historic     13349\n"
          ]
        }
      ]
    },
    {
      "cell_type": "code",
      "source": [
        "# Eliminar los registros con el valor 'False' en la columna 'free_shipping'\n",
        "df_merged_final_filtered = df_merged_final_filtered[df_merged_final_filtered['free_shipping'] != False]\n",
        "\n",
        "# Imprimir las primeras filas del DataFrame filtrado\n",
        "print(df_merged_final_filtered.head(20).to_string(index=False))"
      ],
      "metadata": {
        "colab": {
          "base_uri": "https://localhost:8080/"
        },
        "id": "GvkcF9KG8kIY",
        "outputId": "ff94af38-55f3-4957-babf-1e79f5b3b5a3"
      },
      "execution_count": 94,
      "outputs": [
        {
          "output_type": "stream",
          "name": "stdout",
          "text": [
            "                                                 title condition    price  Valor Real  Descuento %  Cuotas  Valor Cuota  free_shipping    nickname         id  official_store_id    Tipo de garantía Tiempo de garantía Disponibilidad de stock Compañía telefónica Tamaño de la pantalla Memoria interna Red móvil country_id     city  state level_id Estado Vendedor transactions.period  # Ventas\n",
            "Xiaomi Redmi Note 13 4g Dual Sim 256 Gb Negro 8 Gb Ram       new 618900.0    999900.0         38.1      36      17192.0           True   OFFERBUYS 1801699380                NaN Garantía de fábrica           12 meses                     NaN            Liberado                 6.6 \"          256 GB    4G/LTE         CO     Cota CO-CUN  5_green        platinum            historic      1925\n",
            "Xiaomi Redmi Note 13 4g Dual Sim 256 Gb Negro 8 Gb Ram       new 618900.0    999900.0         38.1      36      17192.0           True   OFFERBUYS 1801699380                NaN Garantía de fábrica           12 meses                     NaN            Liberado                   NaN          256 GB       NaN         CO     Cota CO-CUN  5_green        platinum            historic      1925\n",
            "Xiaomi Redmi Note 13 4g Dual Sim 256 Gb Negro 8 Gb Ram       new 618900.0    999900.0         38.1      36      17192.0           True   OFFERBUYS 1801699380                NaN Garantía de fábrica           12 meses                     NaN            Liberado                6.67 \"          256 GB    4G/LTE         CO     Cota CO-CUN  5_green        platinum            historic      1925\n",
            "Xiaomi Redmi Note 13 4g Dual Sim 256 Gb Negro 8 Gb Ram       new 618900.0    999900.0         38.1      36      17192.0           True   OFFERBUYS 1801699380                NaN Garantía de fábrica           12 meses                     NaN            Liberado                   NaN          256 GB    4G/LTE         CO     Cota CO-CUN  5_green        platinum            historic      1925\n",
            "Xiaomi Redmi Note 13 4g Dual Sim 256 Gb Negro 8 Gb Ram       new 618900.0    999900.0         38.1      36      17192.0           True   OFFERBUYS 1801699380                NaN Garantía de fábrica           12 meses                     NaN            Liberado                   NaN          256 GB    4G/LTE         CO     Cota CO-CUN  5_green        platinum            historic      1925\n",
            "Xiaomi Redmi Note 13 4g Dual Sim 256 Gb Negro 8 Gb Ram       new 618900.0    999900.0         38.1      36      17192.0           True   OFFERBUYS 1801699380                NaN Garantía de fábrica           12 meses                     NaN            Liberado                   NaN          256 GB    4G/LTE         CO     Cota CO-CUN  5_green        platinum            historic      1925\n",
            "Xiaomi Redmi Note 13 4g Dual Sim 256 Gb Negro 8 Gb Ram       new 618900.0    999900.0         38.1      36      17192.0           True   OFFERBUYS 1801699380                NaN Garantía de fábrica           12 meses                     NaN            Liberado                   NaN           64 GB    4G/LTE         CO     Cota CO-CUN  5_green        platinum            historic      1925\n",
            "Xiaomi Redmi Note 13 4g Dual Sim 256 Gb Negro 8 Gb Ram       new 618900.0    999900.0         38.1      36      17192.0           True   OFFERBUYS 1801699380                NaN Garantía de fábrica           12 meses                     NaN            Liberado                   NaN          256 GB    4G/LTE         CO     Cota CO-CUN  5_green        platinum            historic      1925\n",
            "Xiaomi Redmi Note 13 4g Dual Sim 256 Gb Negro 8 Gb Ram       new 618900.0    999900.0         38.1      36      17192.0           True   OFFERBUYS 1801699380                NaN Garantía de fábrica           12 meses                     NaN            Liberado                   NaN           64 GB    4G/LTE         CO     Cota CO-CUN  5_green        platinum            historic      1925\n",
            "Xiaomi Redmi Note 13 4g Dual Sim 256 Gb Negro 8 Gb Ram       new 618900.0    999900.0         38.1      36      17192.0           True   OFFERBUYS 1801699380                NaN Garantía de fábrica           12 meses                     NaN            Liberado                 6.5 \"          256 GB        5G         CO     Cota CO-CUN  5_green        platinum            historic      1925\n",
            "Xiaomi Redmi 13c Dual Sim 256 Gb Clover Green 4 Gb Ram       new 436900.0         NaN          NaN      36      12136.0           True TECNOSUPER.  291001852                NaN Garantía de fábrica           12 meses                     NaN            Liberado                 6.6 \"          128 GB        5G         CO Medellín CO-ANT  5_green        platinum            historic     13349\n",
            "Xiaomi Redmi 13c Dual Sim 256 Gb Clover Green 4 Gb Ram       new 436900.0         NaN          NaN      36      12136.0           True TECNOSUPER.  291001852                NaN Garantía de fábrica           12 meses                     NaN            Liberado                6.67 \"          256 GB        5G         CO Medellín CO-ANT  5_green        platinum            historic     13349\n",
            "Xiaomi Redmi 13c Dual Sim 256 Gb Clover Green 4 Gb Ram       new 436900.0         NaN          NaN      36      12136.0           True TECNOSUPER.  291001852                NaN Garantía de fábrica           12 meses                     NaN            Liberado                   NaN          128 GB       NaN         CO Medellín CO-ANT  5_green        platinum            historic     13349\n",
            "Xiaomi Redmi 13c Dual Sim 256 Gb Clover Green 4 Gb Ram       new 436900.0         NaN          NaN      36      12136.0           True TECNOSUPER.  291001852                NaN Garantía de fábrica           12 meses                     NaN            Liberado                6.74 \"          128 GB    4G/LTE         CO Medellín CO-ANT  5_green        platinum            historic     13349\n",
            "Xiaomi Redmi 13c Dual Sim 256 Gb Clover Green 4 Gb Ram       new 436900.0         NaN          NaN      36      12136.0           True TECNOSUPER.  291001852                NaN Garantía de fábrica           12 meses                     NaN            Liberado                   NaN          256 GB    4G/LTE         CO Medellín CO-ANT  5_green        platinum            historic     13349\n",
            "Xiaomi Redmi 13c Dual Sim 256 Gb Clover Green 4 Gb Ram       new 436900.0         NaN          NaN      36      12136.0           True TECNOSUPER.  291001852                NaN Garantía de fábrica           12 meses                     NaN            Liberado                6.79 \"          256 GB    4G/LTE         CO Medellín CO-ANT  5_green        platinum            historic     13349\n",
            "Xiaomi Redmi 13c Dual Sim 256 Gb Clover Green 4 Gb Ram       new 436900.0         NaN          NaN      36      12136.0           True TECNOSUPER.  291001852                NaN Garantía de fábrica           12 meses                     NaN            Liberado                6.74 \"          256 GB    4G/LTE         CO Medellín CO-ANT  5_green        platinum            historic     13349\n",
            "Xiaomi Redmi 13c Dual Sim 256 Gb Clover Green 4 Gb Ram       new 436900.0         NaN          NaN      36      12136.0           True TECNOSUPER.  291001852                NaN Garantía de fábrica           12 meses                     NaN            Liberado                   NaN          128 GB    4G/LTE         CO Medellín CO-ANT  5_green        platinum            historic     13349\n",
            "Xiaomi Redmi 13c Dual Sim 256 Gb Clover Green 4 Gb Ram       new 436900.0         NaN          NaN      36      12136.0           True TECNOSUPER.  291001852                NaN                 NaN                NaN                     NaN            Liberado                 6.5 \"          128 GB    4G/LTE         CO Medellín CO-ANT  5_green        platinum            historic     13349\n",
            "Xiaomi Redmi 13c Dual Sim 256 Gb Clover Green 4 Gb Ram       new 436900.0         NaN          NaN      36      12136.0           True TECNOSUPER.  291001852                NaN Garantía de fábrica           12 meses                     NaN            Liberado                6.67 \"          256 GB        5G         CO Medellín CO-ANT  5_green        platinum            historic     13349\n"
          ]
        }
      ]
    },
    {
      "cell_type": "code",
      "source": [
        "# Eliminar los registros donde la columna 'state' sea diferente a 'CO-DC'\n",
        "df_merged_final_filtered = df_merged_final_filtered[df_merged_final_filtered['state'] == 'CO-DC']\n",
        "\n",
        "# Imprimir las primeras filas del DataFrame filtrado\n",
        "print(df_merged_final_filtered.head(20).to_string(index=False))\n",
        "\n",
        "print(len(df_merged_final_filtered))"
      ],
      "metadata": {
        "colab": {
          "base_uri": "https://localhost:8080/"
        },
        "id": "hjhRgGaS8ryQ",
        "outputId": "46ec0c55-01d7-44ad-a06f-04a87659eef8"
      },
      "execution_count": 95,
      "outputs": [
        {
          "output_type": "stream",
          "name": "stdout",
          "text": [
            "                                              title condition    price  Valor Real  Descuento %  Cuotas  Valor Cuota  free_shipping   nickname         id  official_store_id    Tipo de garantía Tiempo de garantía Disponibilidad de stock Compañía telefónica Tamaño de la pantalla Memoria interna Red móvil country_id city state level_id Estado Vendedor transactions.period  # Ventas\n",
            "Xiaomi Redmi 13c Dual Sim 128 Gb Navy Blue 4 Gb Ram       new 394900.0         NaN          NaN      36      10969.0           True POR_DOCENA 1091466329                NaN Garantía de fábrica           12 meses                     NaN            Liberado                   NaN          128 GB    4G/LTE         CO Suba CO-DC  5_green        platinum            historic     15190\n",
            "Xiaomi Redmi 13c Dual Sim 128 Gb Navy Blue 4 Gb Ram       new 394900.0         NaN          NaN      36      10969.0           True POR_DOCENA 1091466329                NaN Garantía de fábrica           12 meses                     NaN            Liberado               0.168 m          128 GB        4G         CO Suba CO-DC  5_green        platinum            historic     15190\n",
            "Xiaomi Redmi 13c Dual Sim 128 Gb Navy Blue 4 Gb Ram       new 394900.0         NaN          NaN      36      10969.0           True POR_DOCENA 1091466329                NaN Garantía de fábrica           12 meses                     NaN            Liberado                   NaN          128 GB        5G         CO Suba CO-DC  5_green        platinum            historic     15190\n",
            "Xiaomi Redmi 13c Dual Sim 128 Gb Navy Blue 4 Gb Ram       new 394900.0         NaN          NaN      36      10969.0           True POR_DOCENA 1091466329                NaN Garantía de fábrica           12 meses                     NaN            Liberado                 6.6 \"           64 GB    4G/LTE         CO Suba CO-DC  5_green        platinum            historic     15190\n",
            "Xiaomi Redmi 13c Dual Sim 128 Gb Navy Blue 4 Gb Ram       new 394900.0         NaN          NaN      36      10969.0           True POR_DOCENA 1091466329                NaN Garantía de fábrica           12 meses                     NaN            Liberado                   NaN          256 GB    4G/LTE         CO Suba CO-DC  5_green        platinum            historic     15190\n",
            "Xiaomi Redmi 13c Dual Sim 128 Gb Navy Blue 4 Gb Ram       new 394900.0         NaN          NaN      36      10969.0           True POR_DOCENA 1091466329                NaN Garantía de fábrica           12 meses                     NaN            Liberado                 6.6 \"           64 GB    4G/LTE         CO Suba CO-DC  5_green        platinum            historic     15190\n",
            "Xiaomi Redmi 13c Dual Sim 128 Gb Navy Blue 4 Gb Ram       new 394900.0         NaN          NaN      36      10969.0           True POR_DOCENA 1091466329                NaN Garantía de fábrica           12 meses                     NaN            Liberado                   NaN          256 GB       NaN         CO Suba CO-DC  5_green        platinum            historic     15190\n",
            "Xiaomi Redmi 13c Dual Sim 128 Gb Navy Blue 4 Gb Ram       new 394900.0         NaN          NaN      36      10969.0           True POR_DOCENA 1091466329                NaN Garantía de fábrica           12 meses                     NaN            Liberado               0.168 m           64 GB    4G/LTE         CO Suba CO-DC  5_green        platinum            historic     15190\n",
            "Xiaomi Redmi 13c Dual Sim 128 Gb Navy Blue 4 Gb Ram       new 394900.0         NaN          NaN      36      10969.0           True POR_DOCENA 1091466329                NaN Garantía de fábrica           12 meses                     NaN            Liberado                 6.7 \"          128 GB        5G         CO Suba CO-DC  5_green        platinum            historic     15190\n",
            "Xiaomi Redmi 13c Dual Sim 128 Gb Navy Blue 4 Gb Ram       new 394900.0         NaN          NaN      36      10969.0           True POR_DOCENA 1091466329                NaN Garantía de fábrica           12 meses                     NaN            Liberado               0.168 m           64 GB    4G/LTE         CO Suba CO-DC  5_green        platinum            historic     15190\n",
            "Xiaomi Redmi 13c Dual Sim 128 Gb Navy Blue 4 Gb Ram       new 394900.0         NaN          NaN      36      10969.0           True POR_DOCENA 1091466329                NaN Garantía de fábrica           12 meses                     NaN            Liberado               0.168 m          128 GB        4G         CO Suba CO-DC  5_green        platinum            historic     15190\n",
            "Xiaomi Redmi 13c Dual Sim 128 Gb Navy Blue 4 Gb Ram       new 394900.0         NaN          NaN      36      10969.0           True POR_DOCENA 1091466329                NaN Garantía de fábrica           10 meses                     NaN            Liberado                   NaN          128 GB    4G/LTE         CO Suba CO-DC  5_green        platinum            historic     15190\n",
            "Xiaomi Redmi 13c Dual Sim 128 Gb Navy Blue 4 Gb Ram       new 394900.0         NaN          NaN      36      10969.0           True POR_DOCENA 1091466329                NaN Garantía de fábrica           12 meses                     NaN            Liberado                 6.7 \"          256 GB        5G         CO Suba CO-DC  5_green        platinum            historic     15190\n",
            "Xiaomi Redmi 13c Dual Sim 128 Gb Navy Blue 4 Gb Ram       new 394900.0         NaN          NaN      36      10969.0           True POR_DOCENA 1091466329                NaN Garantía de fábrica           12 meses                     NaN            Liberado               0.168 m          128 GB        4G         CO Suba CO-DC  5_green        platinum            historic     15190\n",
            "Xiaomi Redmi 13c Dual Sim 128 Gb Navy Blue 4 Gb Ram       new 394900.0         NaN          NaN      36      10969.0           True POR_DOCENA 1091466329                NaN Garantía de fábrica           12 meses                     NaN            Liberado                 6.7 \"           64 GB    4G/LTE         CO Suba CO-DC  5_green        platinum            historic     15190\n",
            "Xiaomi Redmi 13c Dual Sim 128 Gb Navy Blue 4 Gb Ram       new 394900.0         NaN          NaN      36      10969.0           True POR_DOCENA 1091466329                NaN Garantía de fábrica           12 meses                     NaN            Liberado                6.56 \"          256 GB    4G/LTE         CO Suba CO-DC  5_green        platinum            historic     15190\n",
            "Xiaomi Redmi 13c Dual Sim 128 Gb Navy Blue 4 Gb Ram       new 394900.0         NaN          NaN      36      10969.0           True POR_DOCENA 1091466329                NaN Garantía de fábrica           12 meses                     NaN            Liberado                   NaN          256 GB    4G/LTE         CO Suba CO-DC  5_green        platinum            historic     15190\n",
            "Xiaomi Redmi 13c Dual Sim 128 Gb Navy Blue 4 Gb Ram       new 394900.0         NaN          NaN      36      10969.0           True POR_DOCENA 1091466329                NaN Garantía de fábrica           12 meses                     NaN            Liberado               0.172 m          256 GB    4G/LTE         CO Suba CO-DC  5_green        platinum            historic     15190\n",
            "Xiaomi Redmi 13c Dual Sim 128 Gb Navy Blue 4 Gb Ram       new 394900.0         NaN          NaN      36      10969.0           True POR_DOCENA 1091466329                NaN Garantía de fábrica           12 meses                     NaN            Liberado                 6.6 \"           64 GB    4G/LTE         CO Suba CO-DC  5_green        platinum            historic     15190\n",
            "Xiaomi Redmi 13c Dual Sim 128 Gb Navy Blue 4 Gb Ram       new 394900.0         NaN          NaN      36      10969.0           True POR_DOCENA 1091466329                NaN Garantía de fábrica           12 meses                     NaN            Liberado                6.71 \"          128 GB    4G/LTE         CO Suba CO-DC  5_green        platinum            historic     15190\n",
            "7672\n"
          ]
        }
      ]
    },
    {
      "cell_type": "code",
      "source": [
        "# Eliminar los registros donde la columna 'Tiempo de garantía' sea menor a '6 meses'\n",
        "df_merged_final_filtered = df_merged_final_filtered[df_merged_final_filtered['Tiempo de garantía'] < '6 meses']\n",
        "\n",
        "# Imprimir las primeras filas del DataFrame filtrado\n",
        "print(df_merged_final_filtered.head(20).to_string(index=False))\n",
        "\n",
        "print(len(df_merged_final_filtered))"
      ],
      "metadata": {
        "colab": {
          "base_uri": "https://localhost:8080/"
        },
        "id": "N577aA3-8sqE",
        "outputId": "497f716c-2ec3-47ec-e535-6ad9aebee505"
      },
      "execution_count": 96,
      "outputs": [
        {
          "output_type": "stream",
          "name": "stdout",
          "text": [
            "                                              title condition    price  Valor Real  Descuento %  Cuotas  Valor Cuota  free_shipping   nickname         id  official_store_id    Tipo de garantía Tiempo de garantía Disponibilidad de stock Compañía telefónica Tamaño de la pantalla Memoria interna Red móvil country_id city state level_id Estado Vendedor transactions.period  # Ventas\n",
            "Xiaomi Redmi 13c Dual Sim 128 Gb Navy Blue 4 Gb Ram       new 394900.0         NaN          NaN      36      10969.0           True POR_DOCENA 1091466329                NaN Garantía de fábrica           12 meses                     NaN            Liberado                   NaN          128 GB    4G/LTE         CO Suba CO-DC  5_green        platinum            historic     15190\n",
            "Xiaomi Redmi 13c Dual Sim 128 Gb Navy Blue 4 Gb Ram       new 394900.0         NaN          NaN      36      10969.0           True POR_DOCENA 1091466329                NaN Garantía de fábrica           12 meses                     NaN            Liberado               0.168 m          128 GB        4G         CO Suba CO-DC  5_green        platinum            historic     15190\n",
            "Xiaomi Redmi 13c Dual Sim 128 Gb Navy Blue 4 Gb Ram       new 394900.0         NaN          NaN      36      10969.0           True POR_DOCENA 1091466329                NaN Garantía de fábrica           12 meses                     NaN            Liberado                   NaN          128 GB        5G         CO Suba CO-DC  5_green        platinum            historic     15190\n",
            "Xiaomi Redmi 13c Dual Sim 128 Gb Navy Blue 4 Gb Ram       new 394900.0         NaN          NaN      36      10969.0           True POR_DOCENA 1091466329                NaN Garantía de fábrica           12 meses                     NaN            Liberado                 6.6 \"           64 GB    4G/LTE         CO Suba CO-DC  5_green        platinum            historic     15190\n",
            "Xiaomi Redmi 13c Dual Sim 128 Gb Navy Blue 4 Gb Ram       new 394900.0         NaN          NaN      36      10969.0           True POR_DOCENA 1091466329                NaN Garantía de fábrica           12 meses                     NaN            Liberado                   NaN          256 GB    4G/LTE         CO Suba CO-DC  5_green        platinum            historic     15190\n",
            "Xiaomi Redmi 13c Dual Sim 128 Gb Navy Blue 4 Gb Ram       new 394900.0         NaN          NaN      36      10969.0           True POR_DOCENA 1091466329                NaN Garantía de fábrica           12 meses                     NaN            Liberado                 6.6 \"           64 GB    4G/LTE         CO Suba CO-DC  5_green        platinum            historic     15190\n",
            "Xiaomi Redmi 13c Dual Sim 128 Gb Navy Blue 4 Gb Ram       new 394900.0         NaN          NaN      36      10969.0           True POR_DOCENA 1091466329                NaN Garantía de fábrica           12 meses                     NaN            Liberado                   NaN          256 GB       NaN         CO Suba CO-DC  5_green        platinum            historic     15190\n",
            "Xiaomi Redmi 13c Dual Sim 128 Gb Navy Blue 4 Gb Ram       new 394900.0         NaN          NaN      36      10969.0           True POR_DOCENA 1091466329                NaN Garantía de fábrica           12 meses                     NaN            Liberado               0.168 m           64 GB    4G/LTE         CO Suba CO-DC  5_green        platinum            historic     15190\n",
            "Xiaomi Redmi 13c Dual Sim 128 Gb Navy Blue 4 Gb Ram       new 394900.0         NaN          NaN      36      10969.0           True POR_DOCENA 1091466329                NaN Garantía de fábrica           12 meses                     NaN            Liberado                 6.7 \"          128 GB        5G         CO Suba CO-DC  5_green        platinum            historic     15190\n",
            "Xiaomi Redmi 13c Dual Sim 128 Gb Navy Blue 4 Gb Ram       new 394900.0         NaN          NaN      36      10969.0           True POR_DOCENA 1091466329                NaN Garantía de fábrica           12 meses                     NaN            Liberado               0.168 m           64 GB    4G/LTE         CO Suba CO-DC  5_green        platinum            historic     15190\n",
            "Xiaomi Redmi 13c Dual Sim 128 Gb Navy Blue 4 Gb Ram       new 394900.0         NaN          NaN      36      10969.0           True POR_DOCENA 1091466329                NaN Garantía de fábrica           12 meses                     NaN            Liberado               0.168 m          128 GB        4G         CO Suba CO-DC  5_green        platinum            historic     15190\n",
            "Xiaomi Redmi 13c Dual Sim 128 Gb Navy Blue 4 Gb Ram       new 394900.0         NaN          NaN      36      10969.0           True POR_DOCENA 1091466329                NaN Garantía de fábrica           10 meses                     NaN            Liberado                   NaN          128 GB    4G/LTE         CO Suba CO-DC  5_green        platinum            historic     15190\n",
            "Xiaomi Redmi 13c Dual Sim 128 Gb Navy Blue 4 Gb Ram       new 394900.0         NaN          NaN      36      10969.0           True POR_DOCENA 1091466329                NaN Garantía de fábrica           12 meses                     NaN            Liberado                 6.7 \"          256 GB        5G         CO Suba CO-DC  5_green        platinum            historic     15190\n",
            "Xiaomi Redmi 13c Dual Sim 128 Gb Navy Blue 4 Gb Ram       new 394900.0         NaN          NaN      36      10969.0           True POR_DOCENA 1091466329                NaN Garantía de fábrica           12 meses                     NaN            Liberado               0.168 m          128 GB        4G         CO Suba CO-DC  5_green        platinum            historic     15190\n",
            "Xiaomi Redmi 13c Dual Sim 128 Gb Navy Blue 4 Gb Ram       new 394900.0         NaN          NaN      36      10969.0           True POR_DOCENA 1091466329                NaN Garantía de fábrica           12 meses                     NaN            Liberado                 6.7 \"           64 GB    4G/LTE         CO Suba CO-DC  5_green        platinum            historic     15190\n",
            "Xiaomi Redmi 13c Dual Sim 128 Gb Navy Blue 4 Gb Ram       new 394900.0         NaN          NaN      36      10969.0           True POR_DOCENA 1091466329                NaN Garantía de fábrica           12 meses                     NaN            Liberado                6.56 \"          256 GB    4G/LTE         CO Suba CO-DC  5_green        platinum            historic     15190\n",
            "Xiaomi Redmi 13c Dual Sim 128 Gb Navy Blue 4 Gb Ram       new 394900.0         NaN          NaN      36      10969.0           True POR_DOCENA 1091466329                NaN Garantía de fábrica           12 meses                     NaN            Liberado                   NaN          256 GB    4G/LTE         CO Suba CO-DC  5_green        platinum            historic     15190\n",
            "Xiaomi Redmi 13c Dual Sim 128 Gb Navy Blue 4 Gb Ram       new 394900.0         NaN          NaN      36      10969.0           True POR_DOCENA 1091466329                NaN Garantía de fábrica           12 meses                     NaN            Liberado               0.172 m          256 GB    4G/LTE         CO Suba CO-DC  5_green        platinum            historic     15190\n",
            "Xiaomi Redmi 13c Dual Sim 128 Gb Navy Blue 4 Gb Ram       new 394900.0         NaN          NaN      36      10969.0           True POR_DOCENA 1091466329                NaN Garantía de fábrica           12 meses                     NaN            Liberado                 6.6 \"           64 GB    4G/LTE         CO Suba CO-DC  5_green        platinum            historic     15190\n",
            "Xiaomi Redmi 13c Dual Sim 128 Gb Navy Blue 4 Gb Ram       new 394900.0         NaN          NaN      36      10969.0           True POR_DOCENA 1091466329                NaN Garantía de fábrica           12 meses                     NaN            Liberado                6.71 \"          128 GB    4G/LTE         CO Suba CO-DC  5_green        platinum            historic     15190\n",
            "6340\n"
          ]
        }
      ]
    },
    {
      "cell_type": "code",
      "source": [
        "# Eliminar los registros donde la columna 'Disponibilidad de stock' sea NaN\n",
        "df_merged_final_filtered = df_merged_final_filtered.dropna(subset=['Disponibilidad de stock'])\n",
        "\n",
        "# Imprimir las primeras filas del DataFrame filtrado\n",
        "print(df_merged_final_filtered.head(20).to_string(index=False))\n",
        "\n",
        "print(len(df_merged_final_filtered))"
      ],
      "metadata": {
        "colab": {
          "base_uri": "https://localhost:8080/"
        },
        "id": "YsOdqaUH9nPC",
        "outputId": "c313a3cf-c5e7-4568-e356-f384d07e84c9"
      },
      "execution_count": 97,
      "outputs": [
        {
          "output_type": "stream",
          "name": "stdout",
          "text": [
            "                                          title condition    price  Valor Real  Descuento %  Cuotas  Valor Cuota  free_shipping  nickname        id  official_store_id    Tipo de garantía Tiempo de garantía Disponibilidad de stock Compañía telefónica Tamaño de la pantalla Memoria interna         Red móvil country_id      city state level_id Estado Vendedor transactions.period  # Ventas\n",
            "    Celular Motorola G04s 4gb 64gb Verde Aurora       new 318900.0    599900.0        46.84      36       8858.0           True LE1654129 526310449              186.0 Garantía de fábrica           24 meses                  2 días            Liberado                   NaN          256 GB                5G         CO Chapinero CO-DC  5_green            gold            historic      2161\n",
            "    Celular Motorola G04s 4gb 64gb Verde Aurora       new 318900.0    599900.0        46.84      36       8858.0           True LE1654129 526310449              186.0 Garantía de fábrica           24 meses                  2 días            Liberado                   NaN          512 GB 2G/3G/4G/5G VoLTE         CO Chapinero CO-DC  5_green            gold            historic      2161\n",
            "    Celular Motorola G04s 4gb 64gb Verde Aurora       new 318900.0    599900.0        46.84      36       8858.0           True LE1654129 526310449              186.0 Garantía de fábrica           24 meses                  2 días            Liberado                   NaN          512 GB 2G/3G/4G/5G VoLTE         CO Chapinero CO-DC  5_green            gold            historic      2161\n",
            "    Celular Motorola G04s 4gb 64gb Verde Aurora       new 318900.0    599900.0        46.84      36       8858.0           True LE1654129 526310449              186.0 Garantía de fábrica           24 meses                  2 días            Liberado                   NaN          256 GB                5G         CO Chapinero CO-DC  5_green            gold            historic      2161\n",
            "    Celular Motorola G04s 4gb 64gb Verde Aurora       new 318900.0    599900.0        46.84      36       8858.0           True LE1654129 526310449              186.0 Garantía de fábrica           12 meses                  2 días            Liberado                 6.6 \"           64 GB            4G/LTE         CO Chapinero CO-DC  5_green            gold            historic      2161\n",
            "    Celular Motorola G04s 4gb 64gb Verde Aurora       new 318900.0    599900.0        46.84      36       8858.0           True LE1654129 526310449              186.0 Garantía de fábrica           12 meses                  2 días            Liberado                   NaN          128 GB            4G/LTE         CO Chapinero CO-DC  5_green            gold            historic      2161\n",
            "    Celular Motorola G04s 4gb 64gb Verde Aurora       new 318900.0    599900.0        46.84      36       8858.0           True LE1654129 526310449              186.0 Garantía de fábrica           12 meses                  2 días            Liberado                   NaN          256 GB            4G/LTE         CO Chapinero CO-DC  5_green            gold            historic      2161\n",
            "    Celular Motorola G04s 4gb 64gb Verde Aurora       new 318900.0    599900.0        46.84      36       8858.0           True LE1654129 526310449              186.0 Garantía de fábrica           24 meses                  2 días            Liberado                   NaN          512 GB 2G/3G/4G/5G VoLTE         CO Chapinero CO-DC  5_green            gold            historic      2161\n",
            "    Celular Motorola G04s 4gb 64gb Verde Aurora       new 318900.0    599900.0        46.84      36       8858.0           True LE1654129 526310449              186.0 Garantía de fábrica           12 meses                  2 días            Liberado                   NaN          128 GB            4G/LTE         CO Chapinero CO-DC  5_green            gold            historic      2161\n",
            "    Celular Motorola G04s 4gb 64gb Verde Aurora       new 318900.0    599900.0        46.84      36       8858.0           True LE1654129 526310449              186.0 Garantía de fábrica           12 meses                  2 días            Liberado                   NaN           64 GB            4G/LTE         CO Chapinero CO-DC  5_green            gold            historic      2161\n",
            "    Celular Motorola G04s 4gb 64gb Verde Aurora       new 318900.0    599900.0        46.84      36       8858.0           True LE1654129 526310449              186.0 Garantía de fábrica           24 meses                  2 días            Liberado                   NaN          256 GB                5G         CO Chapinero CO-DC  5_green            gold            historic      2161\n",
            "Celular Motorola G04s 4gb 64gb Naranja Amanecer       new 318900.0    599900.0        46.84      36       8858.0           True LE1654129 526310449              186.0 Garantía de fábrica           24 meses                  2 días            Liberado                   NaN          256 GB                5G         CO Chapinero CO-DC  5_green            gold            historic      2161\n",
            "Celular Motorola G04s 4gb 64gb Naranja Amanecer       new 318900.0    599900.0        46.84      36       8858.0           True LE1654129 526310449              186.0 Garantía de fábrica           24 meses                  2 días            Liberado                   NaN          512 GB 2G/3G/4G/5G VoLTE         CO Chapinero CO-DC  5_green            gold            historic      2161\n",
            "Celular Motorola G04s 4gb 64gb Naranja Amanecer       new 318900.0    599900.0        46.84      36       8858.0           True LE1654129 526310449              186.0 Garantía de fábrica           24 meses                  2 días            Liberado                   NaN          512 GB 2G/3G/4G/5G VoLTE         CO Chapinero CO-DC  5_green            gold            historic      2161\n",
            "Celular Motorola G04s 4gb 64gb Naranja Amanecer       new 318900.0    599900.0        46.84      36       8858.0           True LE1654129 526310449              186.0 Garantía de fábrica           24 meses                  2 días            Liberado                   NaN          256 GB                5G         CO Chapinero CO-DC  5_green            gold            historic      2161\n",
            "Celular Motorola G04s 4gb 64gb Naranja Amanecer       new 318900.0    599900.0        46.84      36       8858.0           True LE1654129 526310449              186.0 Garantía de fábrica           12 meses                  2 días            Liberado                 6.6 \"           64 GB            4G/LTE         CO Chapinero CO-DC  5_green            gold            historic      2161\n",
            "Celular Motorola G04s 4gb 64gb Naranja Amanecer       new 318900.0    599900.0        46.84      36       8858.0           True LE1654129 526310449              186.0 Garantía de fábrica           12 meses                  2 días            Liberado                   NaN          128 GB            4G/LTE         CO Chapinero CO-DC  5_green            gold            historic      2161\n",
            "Celular Motorola G04s 4gb 64gb Naranja Amanecer       new 318900.0    599900.0        46.84      36       8858.0           True LE1654129 526310449              186.0 Garantía de fábrica           12 meses                  2 días            Liberado                   NaN          256 GB            4G/LTE         CO Chapinero CO-DC  5_green            gold            historic      2161\n",
            "Celular Motorola G04s 4gb 64gb Naranja Amanecer       new 318900.0    599900.0        46.84      36       8858.0           True LE1654129 526310449              186.0 Garantía de fábrica           24 meses                  2 días            Liberado                   NaN          512 GB 2G/3G/4G/5G VoLTE         CO Chapinero CO-DC  5_green            gold            historic      2161\n",
            "Celular Motorola G04s 4gb 64gb Naranja Amanecer       new 318900.0    599900.0        46.84      36       8858.0           True LE1654129 526310449              186.0 Garantía de fábrica           12 meses                  2 días            Liberado                   NaN          128 GB            4G/LTE         CO Chapinero CO-DC  5_green            gold            historic      2161\n",
            "929\n"
          ]
        }
      ]
    },
    {
      "cell_type": "code",
      "source": [
        "# Eliminar los registros donde la columna 'Tamaño de la pantalla' sea NaN\n",
        "df_merged_final_filtered = df_merged_final_filtered.dropna(subset=['Tamaño de la pantalla'])\n",
        "\n",
        "# Imprimir las primeras filas del DataFrame filtrado\n",
        "print(df_merged_final_filtered.head(20).to_string(index=False))\n",
        "\n",
        "print(len(df_merged_final_filtered))"
      ],
      "metadata": {
        "colab": {
          "base_uri": "https://localhost:8080/"
        },
        "id": "2_575q5d_Yj4",
        "outputId": "75b26222-7cb7-4ca4-a593-b6aeabef7f59"
      },
      "execution_count": 98,
      "outputs": [
        {
          "output_type": "stream",
          "name": "stdout",
          "text": [
            "                                               title condition     price  Valor Real  Descuento %  Cuotas  Valor Cuota  free_shipping           nickname        id  official_store_id      Tipo de garantía Tiempo de garantía Disponibilidad de stock Compañía telefónica Tamaño de la pantalla Memoria interna Red móvil country_id      city state level_id Estado Vendedor transactions.period  # Ventas\n",
            "         Celular Motorola G04s 4gb 64gb Verde Aurora       new  318900.0    599900.0        46.84      36       8858.0           True          LE1654129 526310449              186.0   Garantía de fábrica           12 meses                  2 días            Liberado                 6.6 \"           64 GB    4G/LTE         CO Chapinero CO-DC  5_green            gold            historic      2161\n",
            "     Celular Motorola G04s 4gb 64gb Naranja Amanecer       new  318900.0    599900.0        46.84      36       8858.0           True          LE1654129 526310449              186.0   Garantía de fábrica           12 meses                  2 días            Liberado                 6.6 \"           64 GB    4G/LTE         CO Chapinero CO-DC  5_green            gold            historic      2161\n",
            "Celular Motorola G24 Power 8gb 256gb Celeste Glaciar       new  559800.0   1399900.0        60.01      36      15550.0           True          LE1654129 526310449              186.0   Garantía de fábrica           12 meses                  2 días            Liberado                 6.6 \"           64 GB    4G/LTE         CO Chapinero CO-DC  5_green            gold            historic      2161\n",
            "        Celular Motorola G04s 4gb 128gb Verde Aurora       new  385900.0    699900.0        44.86      36      10719.0           True          LE1654129 526310449              186.0   Garantía de fábrica           12 meses                  2 días            Liberado                 6.6 \"           64 GB    4G/LTE         CO Chapinero CO-DC  5_green            gold            historic      2161\n",
            "       Celular Motorola G04s 4gb 128gb Azul Satinado       new  385900.0    699900.0        44.86      36      10719.0           True          LE1654129 526310449              186.0   Garantía de fábrica           12 meses                  2 días            Liberado                 6.6 \"           64 GB    4G/LTE         CO Chapinero CO-DC  5_green            gold            historic      2161\n",
            "            Umidigi G5 Mecha 8gb 128gb Dual Sim Duos       new 1199000.0         NaN          NaN      36      33306.0           True GREYBAQUEROLEZCANO  73243604                NaN Garantía del vendedor            1 meses                 30 días            Liberado                 6.3 \"           64 GB    4G/LTE         CO   Kennedy CO-DC  5_green        platinum            historic     12882\n",
            "            Umidigi G5 Mecha 8gb 128gb Dual Sim Duos       new 1199000.0         NaN          NaN      36      33306.0           True GREYBAQUEROLEZCANO  73243604                NaN Garantía del vendedor            1 meses                 17 días            Liberado                 6.4 \"          128 GB    4G/LTE         CO   Kennedy CO-DC  5_green        platinum            historic     12882\n",
            "            Umidigi G5 Mecha 8gb 128gb Dual Sim Duos       new 1199000.0         NaN          NaN      36      33306.0           True GREYBAQUEROLEZCANO  73243604                NaN Garantía del vendedor            1 meses                 17 días            Liberado                 6.8 \"          256 GB        5G         CO   Kennedy CO-DC  5_green        platinum            historic     12882\n",
            "            Umidigi G5 Mecha 8gb 128gb Dual Sim Duos       new 1199000.0         NaN          NaN      36      33306.0           True GREYBAQUEROLEZCANO  73243604                NaN Garantía del vendedor            1 meses                 30 días            Liberado               0.168 m          128 GB        5G         CO   Kennedy CO-DC  5_green        platinum            historic     12882\n",
            "            Umidigi G5 Mecha 8gb 128gb Dual Sim Duos       new 1199000.0         NaN          NaN      36      33306.0           True GREYBAQUEROLEZCANO  73243604                NaN Garantía del vendedor            1 meses                 30 días            Liberado                   6 \"          128 GB        5G         CO   Kennedy CO-DC  5_green        platinum            historic     12882\n",
            "            Umidigi G5 Mecha 8gb 128gb Dual Sim Duos       new 1199000.0         NaN          NaN      36      33306.0           True GREYBAQUEROLEZCANO  73243604                NaN Garantía del vendedor            1 meses                 30 días            Liberado                6.28 \"          256 GB        5G         CO   Kennedy CO-DC  5_green        platinum            historic     12882\n",
            "            Umidigi G5 Mecha 8gb 128gb Dual Sim Duos       new 1199000.0         NaN          NaN      36      33306.0           True GREYBAQUEROLEZCANO  73243604                NaN Garantía del vendedor            1 meses                 17 días            Liberado                 6.5 \"          128 GB    4G/LTE         CO   Kennedy CO-DC  5_green        platinum            historic     12882\n",
            "            Umidigi G5 Mecha 8gb 128gb Dual Sim Duos       new 1199000.0         NaN          NaN      36      33306.0           True GREYBAQUEROLEZCANO  73243604                NaN Garantía del vendedor            1 meses                 30 días            Liberado                 6.5 \"          128 GB        5G         CO   Kennedy CO-DC  5_green        platinum            historic     12882\n",
            "            Umidigi G5 Mecha 8gb 128gb Dual Sim Duos       new 1199000.0         NaN          NaN      36      33306.0           True GREYBAQUEROLEZCANO  73243604                NaN Garantía del vendedor            1 meses                 30 días            Liberado                 5.5 \"           16 GB    4G/LTE         CO   Kennedy CO-DC  5_green        platinum            historic     12882\n",
            "            Umidigi G5 Mecha 8gb 128gb Dual Sim Duos       new 1199000.0         NaN          NaN      36      33306.0           True GREYBAQUEROLEZCANO  73243604                NaN Garantía del vendedor            1 meses                 30 días            Liberado                 6.6 \"          128 GB        5G         CO   Kennedy CO-DC  5_green        platinum            historic     12882\n",
            "            Umidigi G5 Mecha 8gb 128gb Dual Sim Duos       new 1199000.0         NaN          NaN      36      33306.0           True GREYBAQUEROLEZCANO  73243604                NaN Garantía del vendedor            1 meses                 30 días            Liberado                6.67 \"          256 GB    4G/LTE         CO   Kennedy CO-DC  5_green        platinum            historic     12882\n",
            "            Umidigi G5 Mecha 8gb 128gb Dual Sim Duos       new 1199000.0         NaN          NaN      36      33306.0           True GREYBAQUEROLEZCANO  73243604                NaN Garantía del vendedor            1 meses                 17 días            Liberado                6.58 \"          256 GB       NaN         CO   Kennedy CO-DC  5_green        platinum            historic     12882\n",
            "            Umidigi G5 Mecha 8gb 128gb Dual Sim Duos       new 1199000.0         NaN          NaN      36      33306.0           True GREYBAQUEROLEZCANO  73243604                NaN Garantía del vendedor            1 meses                 30 días            Liberado                6.53 \"          128 GB    4G/LTE         CO   Kennedy CO-DC  5_green        platinum            historic     12882\n",
            "            Umidigi G5 Mecha 8gb 128gb Dual Sim Duos       new 1199000.0         NaN          NaN      36      33306.0           True GREYBAQUEROLEZCANO  73243604                NaN Garantía del vendedor            1 meses                 30 días            Liberado                6.67 \"          128 GB    4G/LTE         CO   Kennedy CO-DC  5_green        platinum            historic     12882\n",
            "            Umidigi G5 Mecha 8gb 128gb Dual Sim Duos       new 1199000.0         NaN          NaN      36      33306.0           True GREYBAQUEROLEZCANO  73243604                NaN Garantía del vendedor            1 meses                 30 días            Liberado                 4.7 \"           64 GB       NaN         CO   Kennedy CO-DC  5_green        platinum            historic     12882\n",
            "681\n"
          ]
        }
      ]
    },
    {
      "cell_type": "code",
      "source": [
        "# Eliminar los dos últimos caracteres 'GB' de la columna 'Memoria interna'\n",
        "df_merged_final_filtered['Memoria interna'] = df_merged_final_filtered['Memoria interna'].str[:-2]\n",
        "\n",
        "# Convertir la columna 'Memoria interna' a tipo numérico\n",
        "df_merged_final_filtered['Memoria interna'] = pd.to_numeric(df_merged_final_filtered['Memoria interna'], errors='coerce')\n",
        "\n",
        "# Eliminar los registros donde la columna 'Memoria interna' sea menor a 128\n",
        "df_merged_final_filtered = df_merged_final_filtered[df_merged_final_filtered['Memoria interna'] >= 128]\n",
        "\n",
        "# Imprimir las primeras filas del DataFrame filtrado\n",
        "print(df_merged_final_filtered.head(20).to_string(index=False))\n",
        "\n",
        "print(len(df_merged_final_filtered))"
      ],
      "metadata": {
        "colab": {
          "base_uri": "https://localhost:8080/"
        },
        "id": "oQohlnos_mB8",
        "outputId": "90b04313-5bbd-4cea-bba7-403a4a6dd3d4"
      },
      "execution_count": 99,
      "outputs": [
        {
          "output_type": "stream",
          "name": "stdout",
          "text": [
            "                                   title condition     price  Valor Real  Descuento %  Cuotas  Valor Cuota  free_shipping           nickname       id  official_store_id      Tipo de garantía Tiempo de garantía Disponibilidad de stock Compañía telefónica Tamaño de la pantalla  Memoria interna Red móvil country_id    city state level_id Estado Vendedor transactions.period  # Ventas\n",
            "Umidigi G5 Mecha 8gb 128gb Dual Sim Duos       new 1199000.0         NaN          NaN      36      33306.0           True GREYBAQUEROLEZCANO 73243604                NaN Garantía del vendedor            1 meses                 17 días            Liberado                 6.4 \"              128    4G/LTE         CO Kennedy CO-DC  5_green        platinum            historic     12882\n",
            "Umidigi G5 Mecha 8gb 128gb Dual Sim Duos       new 1199000.0         NaN          NaN      36      33306.0           True GREYBAQUEROLEZCANO 73243604                NaN Garantía del vendedor            1 meses                 17 días            Liberado                 6.8 \"              256        5G         CO Kennedy CO-DC  5_green        platinum            historic     12882\n",
            "Umidigi G5 Mecha 8gb 128gb Dual Sim Duos       new 1199000.0         NaN          NaN      36      33306.0           True GREYBAQUEROLEZCANO 73243604                NaN Garantía del vendedor            1 meses                 30 días            Liberado               0.168 m              128        5G         CO Kennedy CO-DC  5_green        platinum            historic     12882\n",
            "Umidigi G5 Mecha 8gb 128gb Dual Sim Duos       new 1199000.0         NaN          NaN      36      33306.0           True GREYBAQUEROLEZCANO 73243604                NaN Garantía del vendedor            1 meses                 30 días            Liberado                   6 \"              128        5G         CO Kennedy CO-DC  5_green        platinum            historic     12882\n",
            "Umidigi G5 Mecha 8gb 128gb Dual Sim Duos       new 1199000.0         NaN          NaN      36      33306.0           True GREYBAQUEROLEZCANO 73243604                NaN Garantía del vendedor            1 meses                 30 días            Liberado                6.28 \"              256        5G         CO Kennedy CO-DC  5_green        platinum            historic     12882\n",
            "Umidigi G5 Mecha 8gb 128gb Dual Sim Duos       new 1199000.0         NaN          NaN      36      33306.0           True GREYBAQUEROLEZCANO 73243604                NaN Garantía del vendedor            1 meses                 17 días            Liberado                 6.5 \"              128    4G/LTE         CO Kennedy CO-DC  5_green        platinum            historic     12882\n",
            "Umidigi G5 Mecha 8gb 128gb Dual Sim Duos       new 1199000.0         NaN          NaN      36      33306.0           True GREYBAQUEROLEZCANO 73243604                NaN Garantía del vendedor            1 meses                 30 días            Liberado                 6.5 \"              128        5G         CO Kennedy CO-DC  5_green        platinum            historic     12882\n",
            "Umidigi G5 Mecha 8gb 128gb Dual Sim Duos       new 1199000.0         NaN          NaN      36      33306.0           True GREYBAQUEROLEZCANO 73243604                NaN Garantía del vendedor            1 meses                 30 días            Liberado                 6.6 \"              128        5G         CO Kennedy CO-DC  5_green        platinum            historic     12882\n",
            "Umidigi G5 Mecha 8gb 128gb Dual Sim Duos       new 1199000.0         NaN          NaN      36      33306.0           True GREYBAQUEROLEZCANO 73243604                NaN Garantía del vendedor            1 meses                 30 días            Liberado                6.67 \"              256    4G/LTE         CO Kennedy CO-DC  5_green        platinum            historic     12882\n",
            "Umidigi G5 Mecha 8gb 128gb Dual Sim Duos       new 1199000.0         NaN          NaN      36      33306.0           True GREYBAQUEROLEZCANO 73243604                NaN Garantía del vendedor            1 meses                 17 días            Liberado                6.58 \"              256       NaN         CO Kennedy CO-DC  5_green        platinum            historic     12882\n",
            "Umidigi G5 Mecha 8gb 128gb Dual Sim Duos       new 1199000.0         NaN          NaN      36      33306.0           True GREYBAQUEROLEZCANO 73243604                NaN Garantía del vendedor            1 meses                 30 días            Liberado                6.53 \"              128    4G/LTE         CO Kennedy CO-DC  5_green        platinum            historic     12882\n",
            "Umidigi G5 Mecha 8gb 128gb Dual Sim Duos       new 1199000.0         NaN          NaN      36      33306.0           True GREYBAQUEROLEZCANO 73243604                NaN Garantía del vendedor            1 meses                 30 días            Liberado                6.67 \"              128    4G/LTE         CO Kennedy CO-DC  5_green        platinum            historic     12882\n",
            "Umidigi G5 Mecha 8gb 128gb Dual Sim Duos       new 1199000.0         NaN          NaN      36      33306.0           True GREYBAQUEROLEZCANO 73243604                NaN Garantía del vendedor            1 meses                 30 días            Liberado                 6.1 \"              256    4G/LTE         CO Kennedy CO-DC  5_green        platinum            historic     12882\n",
            "Umidigi G5 Mecha 8gb 128gb Dual Sim Duos       new 1199000.0         NaN          NaN      36      33306.0           True GREYBAQUEROLEZCANO 73243604                NaN Garantía del vendedor            1 meses                 30 días            Liberado                5.65 \"              256    4G/LTE         CO Kennedy CO-DC  5_green        platinum            historic     12882\n",
            "Umidigi G5 Mecha 8gb 128gb Dual Sim Duos       new 1199000.0         NaN          NaN      36      33306.0           True GREYBAQUEROLEZCANO 73243604                NaN Garantía del vendedor            1 meses                 30 días            Liberado                 6.8 \"              512        5G         CO Kennedy CO-DC  5_green        platinum            historic     12882\n",
            "Umidigi G5 Mecha 8gb 128gb Dual Sim Duos       new 1199000.0         NaN          NaN      36      33306.0           True GREYBAQUEROLEZCANO 73243604                NaN Garantía del vendedor            1 meses                 30 días            Liberado                 6.3 \"              128    4G/LTE         CO Kennedy CO-DC  5_green        platinum            historic     12882\n",
            "Umidigi G5 Mecha 8gb 128gb Dual Sim Duos       new 1199000.0         NaN          NaN      36      33306.0           True GREYBAQUEROLEZCANO 73243604                NaN Garantía del vendedor            1 meses                 30 días            Liberado                 6.8 \"              512        5G         CO Kennedy CO-DC  5_green        platinum            historic     12882\n",
            "Umidigi G5 Mecha 8gb 128gb Dual Sim Duos       new 1199000.0         NaN          NaN      36      33306.0           True GREYBAQUEROLEZCANO 73243604                NaN Garantía del vendedor            1 meses                 30 días            Liberado                6.67 \"              256        5G         CO Kennedy CO-DC  5_green        platinum            historic     12882\n",
            "Umidigi G5 Mecha 8gb 128gb Dual Sim Duos       new 1199000.0         NaN          NaN      36      33306.0           True GREYBAQUEROLEZCANO 73243604                NaN Garantía del vendedor            1 meses                 30 días            Liberado                6.67 \"              128        5G         CO Kennedy CO-DC  5_green        platinum            historic     12882\n",
            "Umidigi G5 Mecha 8gb 128gb Dual Sim Duos       new 1199000.0         NaN          NaN      36      33306.0           True GREYBAQUEROLEZCANO 73243604                NaN Garantía del vendedor            1 meses                 30 días            Liberado               0.152 m              128    4G/LTE         CO Kennedy CO-DC  5_green        platinum            historic     12882\n",
            "564\n"
          ]
        }
      ]
    },
    {
      "cell_type": "code",
      "source": [
        "# prompt: Eliminar los ultimos 4 caracteres de la columna Disponibilidad de stock, despues eliminar   los registros que tengan en el campo Disponibilidad de stock un valor superior a 2\n",
        "\n",
        "# Eliminar los últimos 4 caracteres de la columna 'Disponibilidad de stock'\n",
        "df_merged_final_filtered['Disponibilidad de stock'] = df_merged_final_filtered['Disponibilidad de stock'].str[:-4]\n",
        "\n",
        "# Convertir la columna 'Disponibilidad de stock' a tipo numérico\n",
        "df_merged_final_filtered['Disponibilidad de stock'] = pd.to_numeric(df_merged_final_filtered['Disponibilidad de stock'], errors='coerce')\n",
        "\n",
        "# Eliminar los registros donde la columna 'Disponibilidad de stock' sea mayor a 2\n",
        "df_merged_final_filtered = df_merged_final_filtered[df_merged_final_filtered['Disponibilidad de stock'] <= 2]\n",
        "\n",
        "# Imprimir las primeras filas del DataFrame filtrado\n",
        "print(df_merged_final_filtered.head(20).to_string(index=False))\n",
        "\n",
        "print(len(df_merged_final_filtered))"
      ],
      "metadata": {
        "colab": {
          "base_uri": "https://localhost:8080/"
        },
        "id": "Z30oAphFvLoe",
        "outputId": "a5e0b55d-b039-497e-a5c5-10e2b7d7b474"
      },
      "execution_count": 100,
      "outputs": [
        {
          "output_type": "stream",
          "name": "stdout",
          "text": [
            "                                    title condition    price  Valor Real  Descuento %  Cuotas  Valor Cuota  free_shipping            nickname         id  official_store_id    Tipo de garantía Tiempo de garantía  Disponibilidad de stock Compañía telefónica Tamaño de la pantalla  Memoria interna Red móvil country_id     city state      level_id Estado Vendedor transactions.period  # Ventas\n",
            "Samsung Galaxy A15 5g 8/256gb Azul Oscuro       new 650000.0         NaN          NaN      12      54167.0           True INTELCOM TECNOLOGIA 1103065698                NaN Garantía de fábrica           12 meses                        2               Claro                 6.5 \"              256        5G         CO Martires CO-DC 4_light_green            None            historic        34\n",
            "Samsung Galaxy A15 5g 8/256gb Azul Oscuro       new 650000.0         NaN          NaN      12      54167.0           True INTELCOM TECNOLOGIA 1103065698                NaN Garantía de fábrica           12 meses                        2               Claro                6.55 \"              256        5G         CO Martires CO-DC 4_light_green            None            historic        34\n",
            "                    Mobula M1704 3g Verde       new  80000.0         NaN          NaN      12       6667.0           True INTELCOM TECNOLOGIA 1103065698                NaN Garantía de fábrica           12 meses                        2               Claro                 6.5 \"              256        5G         CO Martires CO-DC 4_light_green            None            historic        34\n",
            "                    Mobula M1704 3g Verde       new  80000.0         NaN          NaN      12       6667.0           True INTELCOM TECNOLOGIA 1103065698                NaN Garantía de fábrica           12 meses                        2               Claro                6.55 \"              256        5G         CO Martires CO-DC 4_light_green            None            historic        34\n",
            "4\n"
          ]
        }
      ]
    },
    {
      "cell_type": "markdown",
      "source": [
        "Como resultado final el analisis nos indica que el Celular Samsung Galazy A15 color azul oscuro de un valor de $650000 con la posibilidad de diferirlo a 12 cuotas un años de garantia y una capacidad de 256 GB de meria, es la mejor opción ya que el proveedor se encuentra en Bogota y disponibilidad de 2 días"
      ],
      "metadata": {
        "id": "8_k1OSAyzCj9"
      }
    }
  ]
}